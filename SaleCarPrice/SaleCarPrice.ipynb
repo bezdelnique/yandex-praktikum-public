{
 "cells": [
  {
   "cell_type": "markdown",
   "metadata": {},
   "source": [
    "Сервис по продаже автомобилей с пробегом «Не бит, не крашен» разрабатывает приложение для привлечения новых клиентов. В нём можно быстро узнать рыночную стоимость своего автомобиля. В вашем распоряжении исторические данные: технические характеристики, комплектации и цены автомобилей. Вам нужно построить модель для определения стоимости. \n",
    "\n",
    "Заказчику важны:\n",
    "\n",
    "- качество предсказания;\n",
    "- скорость предсказания;\n",
    "- время обучения."
   ]
  },
  {
   "cell_type": "markdown",
   "metadata": {},
   "source": [
    "# 1. Подготовка данных"
   ]
  },
  {
   "cell_type": "code",
   "execution_count": 1,
   "metadata": {},
   "outputs": [],
   "source": [
    "import sys\n",
    "import time\n",
    "\n",
    "import numpy as np\n",
    "import pandas as pd\n",
    "import scipy as sc\n",
    "import sklearn\n",
    "from scipy import stats as st\n",
    "import statsmodels.stats.api as sms\n",
    "pd.set_option('display.max_columns', 200)\n",
    "pd.set_option('display.max_rows', 200)\n",
    "\n",
    "import matplotlib.pyplot as plt\n",
    "%matplotlib inline\n",
    "plt.style.use('fivethirtyeight')\n",
    "\n",
    "import warnings\n",
    "# warnings.filterwarnings('ignore')\n",
    "warnings.filterwarnings(action='once')\n"
   ]
  },
  {
   "cell_type": "code",
   "execution_count": 2,
   "metadata": {},
   "outputs": [
    {
     "name": "stderr",
     "output_type": "stream",
     "text": [
      "/opt/conda/lib/python3.7/importlib/_bootstrap.py:219: RuntimeWarning: numpy.ufunc size changed, may indicate binary incompatibility. Expected 192 from C header, got 216 from PyObject\n",
      "  return f(*args, **kwds)\n",
      "/opt/conda/lib/python3.7/imp.py:342: DeprecationWarning: Using or importing the ABCs from 'collections' instead of from 'collections.abc' is deprecated, and in 3.8 it will stop working\n",
      "  return _load(spec)\n",
      "/opt/conda/lib/python3.7/site-packages/ipywidgets/widgets/widget_selection.py:9: DeprecationWarning: Using or importing the ABCs from 'collections' instead of from 'collections.abc' is deprecated, and in 3.8 it will stop working\n",
      "  from collections import Mapping, Iterable\n"
     ]
    }
   ],
   "source": [
    "from sklearn.model_selection import train_test_split, GridSearchCV, RandomizedSearchCV\n",
    "from sklearn.metrics import mean_absolute_error, mean_squared_error, r2_score, make_scorer\n",
    "from sklearn.preprocessing import OrdinalEncoder\n",
    "from sklearn.preprocessing import StandardScaler\n",
    "\n",
    "from sklearn.linear_model import LinearRegression\n",
    "from sklearn.ensemble import RandomForestRegressor\n",
    "import lightgbm as lgb\n",
    "from catboost import CatBoostRegressor, Pool\n"
   ]
  },
  {
   "cell_type": "code",
   "execution_count": 3,
   "metadata": {},
   "outputs": [],
   "source": [
    "from pprint import pprint\n",
    "from IPython.display import Markdown, display, display_html, HTML\n",
    "\n",
    "def printmd(string, color=None):\n",
    "    if color != None:\n",
    "        string = \"<span style='color:{}'>{}</span>\".format(color, string)\n",
    "    display(Markdown(string))    \n",
    "\n",
    "def print_bold(string, color=None):\n",
    "    printmd(\"**{}**\".format(string), color)\n",
    "\n",
    "def print_header(string):\n",
    "    printmd(\"### {}\".format(string))\n",
    "\n",
    "def display_side_by_side(*args):\n",
    "    html_str=''\n",
    "    for df in args:\n",
    "        html_str += df.to_html()\n",
    "    display_html(html_str.replace('table','table style=\"display:inline;margin-right: 10px;\"'),raw=True)\n",
    "\n",
    "def print_df(df):\n",
    "    display_side_by_side(df)\n",
    "    \n",
    "# printmd('__bold__')\n",
    "# print_bold('bold')\n",
    "# print_header('print_header')"
   ]
  },
  {
   "cell_type": "code",
   "execution_count": 4,
   "metadata": {},
   "outputs": [],
   "source": [
    "def sizeof_fmt(num, suffix='B'):\n",
    "    for unit in ['','Ki','Mi','Gi','Ti','Pi','Ei','Zi']:\n",
    "        if abs(num) < 1024.0:\n",
    "            return \"%3.1f%s%s\" % (num, unit, suffix)\n",
    "        num /= 1024.0\n",
    "    return \"%.1f%s%s\" % (num, 'Yi', suffix)\n",
    "\n",
    "def _sizeof_fmt(elem):\n",
    "    elem = list(elem)\n",
    "    elem[1] = sizeof_fmt(elem[1])\n",
    "    return elem\n",
    "\n",
    "\n",
    "def print_mem_usage_vars(_dir):\n",
    "    # These are the usual ipython objects, including this one you are creating\n",
    "    ipython_vars = ['In', 'Out', 'exit', 'quit', 'get_ipython', 'ipython_vars']\n",
    "\n",
    "    mem_usage = [(x, sys.getsizeof(globals().get(x))) for x in _dir if not x.startswith('_') and x not in sys.modules and x not in ipython_vars]\n",
    "    mem_usage = sorted(mem_usage, key=lambda x: x[1], reverse=True)\n",
    "\n",
    "    pprint(list(map(_sizeof_fmt, mem_usage[:10])))\n",
    "\n",
    "# print_mem_usage_vars(dir())"
   ]
  },
  {
   "cell_type": "code",
   "execution_count": 5,
   "metadata": {},
   "outputs": [],
   "source": [
    "data = pd.read_csv('/datasets/autos.csv')"
   ]
  },
  {
   "cell_type": "code",
   "execution_count": 6,
   "metadata": {},
   "outputs": [
    {
     "data": {
      "text/plain": [
       "(354369, 16)"
      ]
     },
     "execution_count": 6,
     "metadata": {},
     "output_type": "execute_result"
    }
   ],
   "source": [
    "data.shape"
   ]
  },
  {
   "cell_type": "code",
   "execution_count": 7,
   "metadata": {},
   "outputs": [
    {
     "name": "stdout",
     "output_type": "stream",
     "text": [
      "<class 'pandas.core.frame.DataFrame'>\n",
      "RangeIndex: 354369 entries, 0 to 354368\n",
      "Data columns (total 16 columns):\n",
      "DateCrawled          354369 non-null object\n",
      "Price                354369 non-null int64\n",
      "VehicleType          316879 non-null object\n",
      "RegistrationYear     354369 non-null int64\n",
      "Gearbox              334536 non-null object\n",
      "Power                354369 non-null int64\n",
      "Model                334664 non-null object\n",
      "Kilometer            354369 non-null int64\n",
      "RegistrationMonth    354369 non-null int64\n",
      "FuelType             321474 non-null object\n",
      "Brand                354369 non-null object\n",
      "NotRepaired          283215 non-null object\n",
      "DateCreated          354369 non-null object\n",
      "NumberOfPictures     354369 non-null int64\n",
      "PostalCode           354369 non-null int64\n",
      "LastSeen             354369 non-null object\n",
      "dtypes: int64(7), object(9)\n",
      "memory usage: 43.3+ MB\n"
     ]
    }
   ],
   "source": [
    "data.info()"
   ]
  },
  {
   "cell_type": "code",
   "execution_count": 8,
   "metadata": {},
   "outputs": [
    {
     "data": {
      "text/plain": [
       "DateCrawled              0\n",
       "Price                    0\n",
       "VehicleType          37490\n",
       "RegistrationYear         0\n",
       "Gearbox              19833\n",
       "Power                    0\n",
       "Model                19705\n",
       "Kilometer                0\n",
       "RegistrationMonth        0\n",
       "FuelType             32895\n",
       "Brand                    0\n",
       "NotRepaired          71154\n",
       "DateCreated              0\n",
       "NumberOfPictures         0\n",
       "PostalCode               0\n",
       "LastSeen                 0\n",
       "dtype: int64"
      ]
     },
     "execution_count": 8,
     "metadata": {},
     "output_type": "execute_result"
    }
   ],
   "source": [
    "data.isna().sum()"
   ]
  },
  {
   "cell_type": "code",
   "execution_count": 9,
   "metadata": {},
   "outputs": [
    {
     "name": "stdout",
     "output_type": "stream",
     "text": [
      "Index(['DateCrawled', 'Price', 'VehicleType', 'RegistrationYear', 'Gearbox',\n",
      "       'Power', 'Model', 'Kilometer', 'RegistrationMonth', 'FuelType', 'Brand',\n",
      "       'NotRepaired', 'DateCreated', 'NumberOfPictures', 'PostalCode',\n",
      "       'LastSeen'],\n",
      "      dtype='object') len: 16\n"
     ]
    }
   ],
   "source": [
    "print(data.columns, 'len:', len(data.columns))"
   ]
  },
  {
   "cell_type": "code",
   "execution_count": 10,
   "metadata": {},
   "outputs": [
    {
     "data": {
      "text/plain": [
       "16"
      ]
     },
     "execution_count": 10,
     "metadata": {},
     "output_type": "execute_result"
    }
   ],
   "source": [
    "# Упорядочить колонки по значимости\n",
    "cols_sorted = [\n",
    "    'Brand', 'Model', 'RegistrationYear', 'RegistrationMonth', 'Power', 'Gearbox', 'FuelType', 'VehicleType',\n",
    "    'Kilometer', 'NotRepaired', 'Price',  \n",
    "    'NumberOfPictures', 'PostalCode',\n",
    "    'DateCrawled', 'DateCreated', 'LastSeen'\n",
    "]\n",
    "len(cols_sorted)"
   ]
  },
  {
   "cell_type": "code",
   "execution_count": 11,
   "metadata": {},
   "outputs": [],
   "source": [
    "data = data[cols_sorted]"
   ]
  },
  {
   "cell_type": "code",
   "execution_count": 12,
   "metadata": {
    "scrolled": true
   },
   "outputs": [],
   "source": [
    "cols_duplicated = [col for col in cols_sorted if col not in ['DateCrawled', 'DateCreated', 'LastSeen']]"
   ]
  },
  {
   "cell_type": "code",
   "execution_count": 13,
   "metadata": {
    "scrolled": true
   },
   "outputs": [
    {
     "data": {
      "text/plain": [
       "21333"
      ]
     },
     "execution_count": 13,
     "metadata": {},
     "output_type": "execute_result"
    }
   ],
   "source": [
    "data.duplicated(subset=cols_duplicated).sum()"
   ]
  },
  {
   "cell_type": "code",
   "execution_count": 14,
   "metadata": {},
   "outputs": [
    {
     "data": {
      "text/plain": [
       "39045"
      ]
     },
     "execution_count": 14,
     "metadata": {},
     "output_type": "execute_result"
    }
   ],
   "source": [
    "data.duplicated(subset=cols_duplicated, keep=False).sum()"
   ]
  },
  {
   "cell_type": "code",
   "execution_count": 15,
   "metadata": {
    "scrolled": true
   },
   "outputs": [
    {
     "data": {
      "text/html": [
       "<div>\n",
       "<style scoped>\n",
       "    .dataframe tbody tr th:only-of-type {\n",
       "        vertical-align: middle;\n",
       "    }\n",
       "\n",
       "    .dataframe tbody tr th {\n",
       "        vertical-align: top;\n",
       "    }\n",
       "\n",
       "    .dataframe thead th {\n",
       "        text-align: right;\n",
       "    }\n",
       "</style>\n",
       "<table border=\"1\" class=\"dataframe\">\n",
       "  <thead>\n",
       "    <tr style=\"text-align: right;\">\n",
       "      <th></th>\n",
       "      <th>Brand</th>\n",
       "      <th>Model</th>\n",
       "      <th>RegistrationYear</th>\n",
       "      <th>RegistrationMonth</th>\n",
       "      <th>Power</th>\n",
       "      <th>Gearbox</th>\n",
       "      <th>FuelType</th>\n",
       "      <th>VehicleType</th>\n",
       "      <th>Kilometer</th>\n",
       "      <th>NotRepaired</th>\n",
       "      <th>Price</th>\n",
       "      <th>NumberOfPictures</th>\n",
       "      <th>PostalCode</th>\n",
       "      <th>DateCrawled</th>\n",
       "      <th>DateCreated</th>\n",
       "      <th>LastSeen</th>\n",
       "    </tr>\n",
       "  </thead>\n",
       "  <tbody>\n",
       "    <tr>\n",
       "      <td>68907</td>\n",
       "      <td>alfa_romeo</td>\n",
       "      <td>145</td>\n",
       "      <td>2000</td>\n",
       "      <td>12</td>\n",
       "      <td>103</td>\n",
       "      <td>manual</td>\n",
       "      <td>petrol</td>\n",
       "      <td>small</td>\n",
       "      <td>90000</td>\n",
       "      <td>no</td>\n",
       "      <td>2200</td>\n",
       "      <td>0</td>\n",
       "      <td>86368</td>\n",
       "      <td>2016-04-03 15:48:43</td>\n",
       "      <td>2016-04-03 00:00:00</td>\n",
       "      <td>2016-04-03 15:48:43</td>\n",
       "    </tr>\n",
       "    <tr>\n",
       "      <td>83966</td>\n",
       "      <td>alfa_romeo</td>\n",
       "      <td>145</td>\n",
       "      <td>2000</td>\n",
       "      <td>12</td>\n",
       "      <td>103</td>\n",
       "      <td>manual</td>\n",
       "      <td>petrol</td>\n",
       "      <td>small</td>\n",
       "      <td>90000</td>\n",
       "      <td>no</td>\n",
       "      <td>2200</td>\n",
       "      <td>0</td>\n",
       "      <td>86368</td>\n",
       "      <td>2016-04-03 15:54:45</td>\n",
       "      <td>2016-04-03 00:00:00</td>\n",
       "      <td>2016-04-03 15:54:45</td>\n",
       "    </tr>\n",
       "    <tr>\n",
       "      <td>39759</td>\n",
       "      <td>alfa_romeo</td>\n",
       "      <td>147</td>\n",
       "      <td>2001</td>\n",
       "      <td>1</td>\n",
       "      <td>150</td>\n",
       "      <td>manual</td>\n",
       "      <td>petrol</td>\n",
       "      <td>coupe</td>\n",
       "      <td>150000</td>\n",
       "      <td>no</td>\n",
       "      <td>2100</td>\n",
       "      <td>0</td>\n",
       "      <td>37077</td>\n",
       "      <td>2016-03-17 22:53:33</td>\n",
       "      <td>2016-03-17 00:00:00</td>\n",
       "      <td>2016-03-21 06:17:09</td>\n",
       "    </tr>\n",
       "    <tr>\n",
       "      <td>224333</td>\n",
       "      <td>alfa_romeo</td>\n",
       "      <td>147</td>\n",
       "      <td>2001</td>\n",
       "      <td>1</td>\n",
       "      <td>150</td>\n",
       "      <td>manual</td>\n",
       "      <td>petrol</td>\n",
       "      <td>coupe</td>\n",
       "      <td>150000</td>\n",
       "      <td>no</td>\n",
       "      <td>2100</td>\n",
       "      <td>0</td>\n",
       "      <td>37077</td>\n",
       "      <td>2016-03-21 13:50:56</td>\n",
       "      <td>2016-03-21 00:00:00</td>\n",
       "      <td>2016-03-21 13:50:56</td>\n",
       "    </tr>\n",
       "  </tbody>\n",
       "</table>\n",
       "</div>"
      ],
      "text/plain": [
       "             Brand Model  RegistrationYear  RegistrationMonth  Power Gearbox  \\\n",
       "68907   alfa_romeo   145              2000                 12    103  manual   \n",
       "83966   alfa_romeo   145              2000                 12    103  manual   \n",
       "39759   alfa_romeo   147              2001                  1    150  manual   \n",
       "224333  alfa_romeo   147              2001                  1    150  manual   \n",
       "\n",
       "       FuelType VehicleType  Kilometer NotRepaired  Price  NumberOfPictures  \\\n",
       "68907    petrol       small      90000          no   2200                 0   \n",
       "83966    petrol       small      90000          no   2200                 0   \n",
       "39759    petrol       coupe     150000          no   2100                 0   \n",
       "224333   petrol       coupe     150000          no   2100                 0   \n",
       "\n",
       "        PostalCode          DateCrawled          DateCreated  \\\n",
       "68907        86368  2016-04-03 15:48:43  2016-04-03 00:00:00   \n",
       "83966        86368  2016-04-03 15:54:45  2016-04-03 00:00:00   \n",
       "39759        37077  2016-03-17 22:53:33  2016-03-17 00:00:00   \n",
       "224333       37077  2016-03-21 13:50:56  2016-03-21 00:00:00   \n",
       "\n",
       "                   LastSeen  \n",
       "68907   2016-04-03 15:48:43  \n",
       "83966   2016-04-03 15:54:45  \n",
       "39759   2016-03-21 06:17:09  \n",
       "224333  2016-03-21 13:50:56  "
      ]
     },
     "execution_count": 15,
     "metadata": {},
     "output_type": "execute_result"
    }
   ],
   "source": [
    "data[data.duplicated(subset=cols_duplicated, keep=False)].sort_values(by=cols_duplicated).head(4)"
   ]
  },
  {
   "cell_type": "code",
   "execution_count": 16,
   "metadata": {
    "scrolled": false
   },
   "outputs": [
    {
     "data": {
      "text/plain": [
       "['Brand',\n",
       " 'Model',\n",
       " 'RegistrationMonth',\n",
       " 'Gearbox',\n",
       " 'FuelType',\n",
       " 'VehicleType',\n",
       " 'NotRepaired',\n",
       " 'NumberOfPictures',\n",
       " 'PostalCode']"
      ]
     },
     "execution_count": 16,
     "metadata": {},
     "output_type": "execute_result"
    }
   ],
   "source": [
    "# Колонки по типам данных\n",
    "cols_date = ['DateCrawled', 'DateCreated', 'LastSeen']\n",
    "cols_numeric = ['Price', 'RegistrationYear', 'Power', 'Kilometer']\n",
    "cols_category = [col for col in data.columns if col not in cols_numeric and col not in cols_date]\n",
    "cols_category"
   ]
  },
  {
   "cell_type": "markdown",
   "metadata": {},
   "source": [
    "## Выводы"
   ]
  },
  {
   "cell_type": "markdown",
   "metadata": {},
   "source": [
    "Колонки содержащие пустые значениия\n",
    "\n",
    "* Model                19705\n",
    "* Gearbox              19833\n",
    "* FuelType             32895\n",
    "* VehicleType          37490\n",
    "* NotRepaired          71154\n",
    "\n",
    "\n",
    "Полных дублей - 21333.<br>\n",
    "Полные дубли это сроки содержание одинаковы значения во всех колонках кроме: DateCrawled, DateCreated, LastSeen\n",
    "\n",
    "\n",
    "NA значения\n",
    "\n",
    "* Model - (всего: 334664, na: 19705 (5.89%))\n",
    "* Gearbox - (всего: 334536, na: 19833 (5.93%))\n",
    "* FuelType - (всего: 321474, na: 32895 (10.23%))\n",
    "* VehicleType - (всего: 316879, na: 37490 (11.83%))\n",
    "* NotRepaired - (всего: 283215, na: 71154 (25.12%))\n",
    "\n",
    "\n",
    "Типы данных в порядке. Колонки DateCrawled, DateCreated, LastSeen я не использую, поэтому не привожу их к типу дата.\n"
   ]
  },
  {
   "cell_type": "markdown",
   "metadata": {},
   "source": [
    "## Анализ данных"
   ]
  },
  {
   "cell_type": "code",
   "execution_count": 17,
   "metadata": {},
   "outputs": [],
   "source": [
    "# Гистгорама и Диаграмма размаха\n",
    "def data_explore(data_df, col, title, whis=1.5):\n",
    "    query = data_df[[col]]\n",
    "    # query = data_df.groupby(['user_id', 'month'])\n",
    "    # if sum_col == None:\n",
    "    #    query = query.count()[['id']]\n",
    "    # else:\n",
    "    #     query = query[[sum_col]].sum()\n",
    "        \n",
    "    query.plot(kind='hist', title=title)\n",
    "    plt.show()\n",
    "    # query.boxplot(whis=2, figsize=(8,6))\n",
    "    query.boxplot(whis=1.5)\n",
    "    plt.show()\n"
   ]
  },
  {
   "cell_type": "code",
   "execution_count": 18,
   "metadata": {},
   "outputs": [],
   "source": [
    "def print_droped_analize2(title, cnt_total, cnt_selected_to_drop, cnt_keeped_afted_drop):\n",
    "    cnt_dropped_total = cnt_total - cnt_keeped_afted_drop\n",
    "    proc_dropped_total = round(cnt_dropped_total*100/cnt_total,1)\n",
    "    proc_selected_to_drop = round(cnt_selected_to_drop*100/cnt_total,1)\n",
    "    \n",
    "    print('{}. всего: {}, к удалению {} ({}%), сохранено: {}, удалено всего: {} ({}%)'.format(\n",
    "        title, \n",
    "        cnt_total, \n",
    "        cnt_selected_to_drop, \n",
    "        proc_selected_to_drop,\n",
    "        cnt_keeped_afted_drop,\n",
    "        cnt_dropped_total, \n",
    "        proc_dropped_total\n",
    "    ))\n",
    "\n",
    "# print_droped_analize2(title='test', cnt_total=10000, cnt_selected_to_drop=120, cnt_keeped_afted_drop=8347)"
   ]
  },
  {
   "cell_type": "code",
   "execution_count": 19,
   "metadata": {},
   "outputs": [],
   "source": [
    "# Анализ выбросов\n",
    "def print_droped_analize(title, total, last):\n",
    "    droped = total - last\n",
    "    proc = round(droped * 100 / total,1)\n",
    "    print('{}. всего: {}, осталось: {}, удалено: {} ({}%)'.format(title, total, last, droped, proc))\n",
    "\n",
    "def print_discharge_query(df, col, whis=1.5):\n",
    "    lh = {}\n",
    "    IQR = df[col].quantile(0.75) - df[col].quantile(0.25)\n",
    "    lov = round(df[col].quantile(0.25) - whis * IQR, 2)\n",
    "    hei = round(df[col].quantile(0.75) + whis * IQR, 2)\n",
    "    lh[col] = (lov, hei)\n",
    "\n",
    "    query_good = '({} >= {} and {} <= {})'.format(\n",
    "        col,\n",
    "        lh[col][0],\n",
    "        col,\n",
    "        lh[col][1]\n",
    "    )\n",
    "\n",
    "    print('query: {}'.format(query_good))\n",
    "\n",
    "    # query1 = (df[col] < lh[col][0])\n",
    "    # query2 = (df[col] > lh[col][1])\n",
    "    # indexes = df[query1 | query2].index.values\n",
    "    \n",
    "    total = df.shape[0]\n",
    "    saved = df.query(query_good).shape[0]\n",
    "    print_droped_analize(col, total, saved)\n"
   ]
  },
  {
   "cell_type": "code",
   "execution_count": 20,
   "metadata": {},
   "outputs": [],
   "source": [
    "def print_droped_query_save(df, query_save):\n",
    "    total = df.shape[0]\n",
    "    deleted = total - df[query_save].shape[0]\n",
    "    proc = round((deleted / total) * 100, 2)\n",
    "    print('Строк всего {}, удалено {} ({}%)'.format(\n",
    "        total,\n",
    "        deleted,\n",
    "        proc\n",
    "    ))"
   ]
  },
  {
   "cell_type": "code",
   "execution_count": 21,
   "metadata": {
    "scrolled": true
   },
   "outputs": [],
   "source": [
    "def print_col_with_na(data, verbose=True):\n",
    "    print_header('Анализ колонок содержащих пустые значения')\n",
    "    na = data.isna().sum()\n",
    "    for col in na[na > 0].index:\n",
    "        df = data[col].value_counts().to_frame()\n",
    "\n",
    "        cnt_total = df.sum()[col]\n",
    "        cnt_na = data.isna().sum()[col]\n",
    "        prc_na = round((cnt_na / cnt_total) * 100,2)\n",
    "\n",
    "        df_na = pd.DataFrame([{col:cnt_na}], index = ['n/a'])\n",
    "        df = pd.concat([df, df_na]).sort_values(by=col, ascending=False)\n",
    "        df = df.head(20)\n",
    "\n",
    "        print_bold('{} - (всего: {}, na: {} ({}%))'.format(\n",
    "            col, \n",
    "            cnt_total,\n",
    "            cnt_na,\n",
    "            prc_na\n",
    "        ))\n",
    "        \n",
    "        if verbose:\n",
    "            display_side_by_side(df)\n",
    "\n",
    "    #     if col == 'Model':\n",
    "    #         df.plot.barh(y=col, use_index=True)\n",
    "    #     else:\n",
    "    #         df.plot.bar(y=col, use_index=True)\n",
    "\n",
    "            print()\n",
    "        \n",
    "# print_col_with_na(data, verbose=False)"
   ]
  },
  {
   "cell_type": "code",
   "execution_count": 22,
   "metadata": {},
   "outputs": [],
   "source": [
    "data_notna = data.copy()"
   ]
  },
  {
   "cell_type": "code",
   "execution_count": 23,
   "metadata": {},
   "outputs": [
    {
     "data": {
      "text/markdown": [
       "### Анализ колонок содержащих пустые значения"
      ],
      "text/plain": [
       "<IPython.core.display.Markdown object>"
      ]
     },
     "metadata": {},
     "output_type": "display_data"
    },
    {
     "data": {
      "text/markdown": [
       "**Model - (всего: 334664, na: 19705 (5.89%))**"
      ],
      "text/plain": [
       "<IPython.core.display.Markdown object>"
      ]
     },
     "metadata": {},
     "output_type": "display_data"
    },
    {
     "data": {
      "text/markdown": [
       "**Gearbox - (всего: 334536, na: 19833 (5.93%))**"
      ],
      "text/plain": [
       "<IPython.core.display.Markdown object>"
      ]
     },
     "metadata": {},
     "output_type": "display_data"
    },
    {
     "data": {
      "text/markdown": [
       "**FuelType - (всего: 321474, na: 32895 (10.23%))**"
      ],
      "text/plain": [
       "<IPython.core.display.Markdown object>"
      ]
     },
     "metadata": {},
     "output_type": "display_data"
    },
    {
     "data": {
      "text/markdown": [
       "**VehicleType - (всего: 316879, na: 37490 (11.83%))**"
      ],
      "text/plain": [
       "<IPython.core.display.Markdown object>"
      ]
     },
     "metadata": {},
     "output_type": "display_data"
    },
    {
     "data": {
      "text/markdown": [
       "**NotRepaired - (всего: 283215, na: 71154 (25.12%))**"
      ],
      "text/plain": [
       "<IPython.core.display.Markdown object>"
      ]
     },
     "metadata": {},
     "output_type": "display_data"
    }
   ],
   "source": [
    "print_col_with_na(data, verbose=False)"
   ]
  },
  {
   "cell_type": "code",
   "execution_count": 24,
   "metadata": {},
   "outputs": [
    {
     "name": "stdout",
     "output_type": "stream",
     "text": [
      "Удаление дубликатов. всего: 354369, к удалению 21333 (6.0%), сохранено: 333036, удалено всего: 21333 (6.0%)\n"
     ]
    }
   ],
   "source": [
    "data_notna = data_notna.drop_duplicates(subset=cols_duplicated)\n",
    "\n",
    "print_droped_analize2(\n",
    "    title='Удаление дубликатов', \n",
    "    cnt_total=data.shape[0], \n",
    "    cnt_selected_to_drop=data[data.duplicated(subset=cols_duplicated)].shape[0], \n",
    "    cnt_keeped_afted_drop=data_notna.shape[0]\n",
    ")\n"
   ]
  },
  {
   "cell_type": "code",
   "execution_count": 25,
   "metadata": {},
   "outputs": [
    {
     "name": "stdout",
     "output_type": "stream",
     "text": [
      "Удаление строк содержащих NA почти во всех полях. всего: 354369, к удалению 2392 (0.7%), сохранено: 330763, удалено всего: 23606 (6.7%)\n"
     ]
    }
   ],
   "source": [
    "query_to_drop = '(Model.isna() and VehicleType.isna() and Gearbox.isna() and FuelType.isna())'\n",
    "data_notna = data_notna.query('not (' + query_to_drop + ')')\n",
    "\n",
    "print_droped_analize2(\n",
    "    title='Удаление строк содержащих NA почти во всех полях', \n",
    "    cnt_total=data.shape[0], \n",
    "    cnt_selected_to_drop=data.query(query_to_drop).shape[0], \n",
    "    cnt_keeped_afted_drop=data_notna.shape[0]\n",
    ")\n"
   ]
  },
  {
   "cell_type": "code",
   "execution_count": 26,
   "metadata": {
    "scrolled": true
   },
   "outputs": [
    {
     "data": {
      "image/png": "[encoded data removed]",
      "text/plain": [
       "<Figure size 432x288 with 1 Axes>"
      ]
     },
     "metadata": {},
     "output_type": "display_data"
    },
    {
     "data": {
      "image/png": "[encoded data removed]",
      "text/plain": [
       "<Figure size 432x288 with 1 Axes>"
      ]
     },
     "metadata": {},
     "output_type": "display_data"
    },
    {
     "name": "stdout",
     "output_type": "stream",
     "text": [
      "query: (Price >= -6825.0 and Price <= 14175.0)\n",
      "Price. всего: 330763, осталось: 312485, удалено: 18278 (5.5%)\n"
     ]
    },
    {
     "data": {
      "image/png": "[encoded data removed]",
      "text/plain": [
       "<Figure size 432x288 with 1 Axes>"
      ]
     },
     "metadata": {},
     "output_type": "display_data"
    },
    {
     "data": {
      "image/png": "[encoded data removed]",
      "text/plain": [
       "<Figure size 432x288 with 1 Axes>"
      ]
     },
     "metadata": {},
     "output_type": "display_data"
    },
    {
     "name": "stdout",
     "output_type": "stream",
     "text": [
      "query: (RegistrationYear >= 1985.5 and RegistrationYear <= 2021.5)\n",
      "RegistrationYear. всего: 330763, осталось: 324963, удалено: 5800 (1.8%)\n"
     ]
    },
    {
     "data": {
      "image/png": "[encoded data removed]",
      "text/plain": [
       "<Figure size 432x288 with 1 Axes>"
      ]
     },
     "metadata": {},
     "output_type": "display_data"
    },
    {
     "data": {
      "image/png": "[encoded data removed]",
      "text/plain": [
       "<Figure size 432x288 with 1 Axes>"
      ]
     },
     "metadata": {},
     "output_type": "display_data"
    },
    {
     "name": "stdout",
     "output_type": "stream",
     "text": [
      "query: (Power >= -39.0 and Power <= 249.0)\n",
      "Power. всего: 330763, осталось: 323096, удалено: 7667 (2.3%)\n"
     ]
    },
    {
     "data": {
      "image/png": "[encoded data removed]",
      "text/plain": [
       "<Figure size 432x288 with 1 Axes>"
      ]
     },
     "metadata": {},
     "output_type": "display_data"
    },
    {
     "data": {
      "image/png": "[encoded data removed]",
      "text/plain": [
       "<Figure size 432x288 with 1 Axes>"
      ]
     },
     "metadata": {},
     "output_type": "display_data"
    },
    {
     "name": "stdout",
     "output_type": "stream",
     "text": [
      "query: (Kilometer >= 87500.0 and Kilometer <= 187500.0)\n",
      "Kilometer. всего: 330763, осталось: 281825, удалено: 48938 (14.8%)\n"
     ]
    }
   ],
   "source": [
    "for col in cols_numeric:\n",
    "    data_explore(data_notna, col, col, whis=1.5)\n",
    "    print_discharge_query(data_notna, col, whis=1.5)"
   ]
  },
  {
   "cell_type": "code",
   "execution_count": 27,
   "metadata": {},
   "outputs": [
    {
     "name": "stdout",
     "output_type": "stream",
     "text": [
      "(Price <= 0). всего: 354369, к удалению 10772 (3.0%), сохранено: 321462, удалено всего: 32907 (9.3%)\n"
     ]
    }
   ],
   "source": [
    "query_to_drop = '(Price <= 0)'\n",
    "data_notna = data_notna.query('not (' + query_to_drop + ')')\n",
    "\n",
    "print_droped_analize2(\n",
    "    title=query_to_drop, \n",
    "    cnt_total=data.shape[0], \n",
    "    cnt_selected_to_drop=data.query(query_to_drop).shape[0], \n",
    "    cnt_keeped_afted_drop=data_notna.shape[0]\n",
    ")\n"
   ]
  },
  {
   "cell_type": "code",
   "execution_count": 28,
   "metadata": {},
   "outputs": [
    {
     "data": {
      "text/markdown": [
       "Записей с регистрацией после 2020 года: **105**, записей до 1950: **108**"
      ],
      "text/plain": [
       "<IPython.core.display.Markdown object>"
      ]
     },
     "metadata": {},
     "output_type": "display_data"
    }
   ],
   "source": [
    "printmd('Записей с регистрацией после 2020 года: **{}**, записей до 1950: **{}**'.format(\n",
    "    data.query('RegistrationYear > 2020').shape[0],\n",
    "    data.query('RegistrationYear < 1950 and RegistrationYear not in (1000, 1910)').shape[0],\n",
    "))"
   ]
  },
  {
   "cell_type": "code",
   "execution_count": 29,
   "metadata": {},
   "outputs": [],
   "source": [
    "# data_notna.loc[data_notna.query('RegistrationYear == 1910').index, 'RegistrationYear'] = 2010\n",
    "# data_notna.loc[data_notna.query('RegistrationYear == 1000').index, 'RegistrationYear'] = 2000"
   ]
  },
  {
   "cell_type": "code",
   "execution_count": 30,
   "metadata": {},
   "outputs": [
    {
     "name": "stdout",
     "output_type": "stream",
     "text": [
      "(RegistrationYear < 1950 or RegistrationYear > 2020). всего: 354369, к удалению 351 (0.1%), сохранено: 321261, удалено всего: 33108 (9.3%)\n"
     ]
    }
   ],
   "source": [
    "query_to_drop = '(RegistrationYear < 1950 or RegistrationYear > 2020)'\n",
    "data_notna = data_notna.query('not (' + query_to_drop + ')')\n",
    "\n",
    "print_droped_analize2(\n",
    "    title=query_to_drop, \n",
    "    cnt_total=data.shape[0], \n",
    "    cnt_selected_to_drop=data.query(query_to_drop).shape[0], \n",
    "    cnt_keeped_afted_drop=data_notna.shape[0]\n",
    ")\n"
   ]
  },
  {
   "cell_type": "markdown",
   "metadata": {},
   "source": [
    "## Признак Power"
   ]
  },
  {
   "cell_type": "code",
   "execution_count": 31,
   "metadata": {},
   "outputs": [
    {
     "data": {
      "text/markdown": [
       "Кол-во записей с Power <= 0: **33521**. Возможно их можно будет удалить на этапе отбора фич. Мне кажется это важная информация для цены, может быть даже важнее модели."
      ],
      "text/plain": [
       "<IPython.core.display.Markdown object>"
      ]
     },
     "metadata": {},
     "output_type": "display_data"
    }
   ],
   "source": [
    "# data_notna.query('(Power <= 0)')['Power'].value_counts()\n",
    "printmd('Кол-во записей с Power <= 0: **{}**. Возможно их можно будет удалить на этапе отбора фич. Мне кажется это важная информация для цены, может быть даже важнее модели.'.format(\n",
    "    data_notna.query('(Power <= 0)').shape[0]\n",
    "))\n"
   ]
  },
  {
   "cell_type": "code",
   "execution_count": 32,
   "metadata": {
    "scrolled": true
   },
   "outputs": [
    {
     "data": {
      "text/plain": [
       "1598     7\n",
       "1001     6\n",
       "1800     6\n",
       "1500     4\n",
       "1400     4\n",
       "        ..\n",
       "13636    1\n",
       "1339     1\n",
       "9013     1\n",
       "9011     1\n",
       "1024     1\n",
       "Name: Power, Length: 213, dtype: int64"
      ]
     },
     "execution_count": 32,
     "metadata": {},
     "output_type": "execute_result"
    }
   ],
   "source": [
    "data_notna.query('Power>1000')['Power'].value_counts()\n"
   ]
  },
  {
   "cell_type": "code",
   "execution_count": 33,
   "metadata": {},
   "outputs": [
    {
     "data": {
      "text/plain": [
       "<matplotlib.axes._subplots.AxesSubplot at 0x7f97a3814fd0>"
      ]
     },
     "execution_count": 33,
     "metadata": {},
     "output_type": "execute_result"
    },
    {
     "data": {
      "image/png": "[encoded data removed]",
      "text/plain": [
       "<Figure size 432x288 with 1 Axes>"
      ]
     },
     "metadata": {},
     "output_type": "display_data"
    }
   ],
   "source": [
    "data_notna.query('Power>1000')['Power'].hist(bins=100)"
   ]
  },
  {
   "cell_type": "code",
   "execution_count": 34,
   "metadata": {},
   "outputs": [
    {
     "name": "stdout",
     "output_type": "stream",
     "text": [
      "(Power == 0). всего: 354369, к удалению 40225 (11.4%), сохранено: 287740, удалено всего: 66629 (18.8%)\n"
     ]
    }
   ],
   "source": [
    "query_to_drop = '(Power == 0)'\n",
    "data_notna = data_notna.query('not (' + query_to_drop + ')')\n",
    "\n",
    "print_droped_analize2(\n",
    "    title=query_to_drop, \n",
    "    cnt_total=data.shape[0], \n",
    "    cnt_selected_to_drop=data.query(query_to_drop).shape[0], \n",
    "    cnt_keeped_afted_drop=data_notna.shape[0]\n",
    ")\n"
   ]
  },
  {
   "cell_type": "code",
   "execution_count": 35,
   "metadata": {},
   "outputs": [
    {
     "name": "stdout",
     "output_type": "stream",
     "text": [
      "(Power > 2000). всего: 354369, к удалению 120 (0.0%), сохранено: 287629, удалено всего: 66740 (18.8%)\n"
     ]
    }
   ],
   "source": [
    "query_to_drop = '(Power > 2000)'\n",
    "data_notna = data_notna.query('not (' + query_to_drop + ')')\n",
    "\n",
    "print_droped_analize2(\n",
    "    title=query_to_drop, \n",
    "    cnt_total=data.shape[0], \n",
    "    cnt_selected_to_drop=data.query(query_to_drop).shape[0], \n",
    "    cnt_keeped_afted_drop=data_notna.shape[0]\n",
    ")\n"
   ]
  },
  {
   "cell_type": "code",
   "execution_count": 36,
   "metadata": {
    "scrolled": true
   },
   "outputs": [],
   "source": [
    "# print_col_with_na(data, verbose=True)"
   ]
  },
  {
   "cell_type": "markdown",
   "metadata": {},
   "source": [
    "## Обработка пропущенных значений"
   ]
  },
  {
   "cell_type": "code",
   "execution_count": 37,
   "metadata": {
    "scrolled": true
   },
   "outputs": [
    {
     "data": {
      "text/markdown": [
       "### Анализ колонок содержащих пустые значения"
      ],
      "text/plain": [
       "<IPython.core.display.Markdown object>"
      ]
     },
     "metadata": {},
     "output_type": "display_data"
    },
    {
     "data": {
      "text/markdown": [
       "**Model - (всего: 275802, na: 11827 (4.29%))**"
      ],
      "text/plain": [
       "<IPython.core.display.Markdown object>"
      ]
     },
     "metadata": {},
     "output_type": "display_data"
    },
    {
     "data": {
      "text/markdown": [
       "**Gearbox - (всего: 281904, na: 5725 (2.03%))**"
      ],
      "text/plain": [
       "<IPython.core.display.Markdown object>"
      ]
     },
     "metadata": {},
     "output_type": "display_data"
    },
    {
     "data": {
      "text/markdown": [
       "**FuelType - (всего: 268555, na: 19074 (7.1%))**"
      ],
      "text/plain": [
       "<IPython.core.display.Markdown object>"
      ]
     },
     "metadata": {},
     "output_type": "display_data"
    },
    {
     "data": {
      "text/markdown": [
       "**VehicleType - (всего: 267241, na: 20388 (7.63%))**"
      ],
      "text/plain": [
       "<IPython.core.display.Markdown object>"
      ]
     },
     "metadata": {},
     "output_type": "display_data"
    },
    {
     "data": {
      "text/markdown": [
       "**NotRepaired - (всего: 242573, na: 45056 (18.57%))**"
      ],
      "text/plain": [
       "<IPython.core.display.Markdown object>"
      ]
     },
     "metadata": {},
     "output_type": "display_data"
    }
   ],
   "source": [
    "print_col_with_na(data_notna, verbose=False)"
   ]
  },
  {
   "cell_type": "code",
   "execution_count": 38,
   "metadata": {},
   "outputs": [
    {
     "data": {
      "text/plain": [
       "'Model, Gearbox, FuelType, VehicleType, NotRepaired'"
      ]
     },
     "execution_count": 38,
     "metadata": {},
     "output_type": "execute_result"
    }
   ],
   "source": [
    "cols_to_unknown =  ['Model', 'Gearbox', 'FuelType', 'VehicleType', 'NotRepaired']\n",
    "', '.join(cols_to_unknown)"
   ]
  },
  {
   "cell_type": "code",
   "execution_count": 39,
   "metadata": {},
   "outputs": [],
   "source": [
    "for col in cols_to_unknown:\n",
    "    data_notna.loc[data_notna.query(col+'.isna()').index, col] = 'unknown'"
   ]
  },
  {
   "cell_type": "code",
   "execution_count": 40,
   "metadata": {},
   "outputs": [
    {
     "name": "stdout",
     "output_type": "stream",
     "text": [
      "Не указан Model: 11827, не указан VehicleType 20388, не указано оба признака 2567\n"
     ]
    }
   ],
   "source": [
    "print('Не указан Model: {}, не указан VehicleType {}, не указано оба признака {}'.format(\n",
    "    data_notna.query('Model == \"unknown\"').shape[0],\n",
    "    data_notna.query('VehicleType == \"unknown\"').shape[0],\n",
    "    data_notna.query('Model == \"unknown\" and VehicleType == \"unknown\"').shape[0]\n",
    "))"
   ]
  },
  {
   "cell_type": "code",
   "execution_count": 41,
   "metadata": {},
   "outputs": [
    {
     "name": "stdout",
     "output_type": "stream",
     "text": [
      "Доступно для анализа. всего: 354369, к удалению 0 (0.0%), сохранено: 287629, удалено всего: 66740 (18.8%)\n"
     ]
    }
   ],
   "source": [
    "print_droped_analize2(\n",
    "    title='Доступно для анализа', \n",
    "    cnt_total=data.shape[0], \n",
    "    cnt_selected_to_drop=0, \n",
    "    cnt_keeped_afted_drop=data_notna.shape[0]\n",
    ")\n"
   ]
  },
  {
   "cell_type": "markdown",
   "metadata": {},
   "source": [
    "### Выводы"
   ]
  },
  {
   "cell_type": "markdown",
   "metadata": {},
   "source": [
    "Удаление дубликатов. всего: 354369, к удалению 21333 (6.0%), сохранено: 333036, удалено всего: 21333 (6.0%)\n",
    "\n",
    "Удаление строк содержащих NA почти во всех полях. всего: 354369, к удалению 2392 (0.7%), сохранено: 330763, удалено всего: 23606 (6.7%)\n",
    "\n",
    "(Price <= 0). всего: 354369, к удалению 10772 (3.0%), сохранено: 321462, удалено всего: 32907 (9.3%)\n",
    "\t\t  \n",
    "Записей с регистрацией после 2020 года: 105, записей до 1950: 108 - теми которые после 2020 можно повозиться еще, там года 00, скорее всего 2000 год. Записи с годами 1910 и 1000 спасены.\n",
    "\n",
    "Кол-во записей с Power <= 0: 33561. Возможно их можно будет удалить на этапе отбора фич. Мне кажется это важная информация для цены, может быть даже важнее модели.\n",
    "\n",
    "По Kilometer выбросов нет.\n",
    "\n",
    "Для колонок Model, Gearbox, FuelType, VehicleType, NotRepaired NA значениям присвоено NA.\n",
    "\n",
    "Доступно для анализа. всего: 354369, сохранено: 321313, удалено всего: 33056 (9.3%)\n",
    "\n"
   ]
  },
  {
   "cell_type": "markdown",
   "metadata": {},
   "source": [
    "# 2. Обучение моделей"
   ]
  },
  {
   "cell_type": "markdown",
   "metadata": {},
   "source": [
    "## Отбор признаков"
   ]
  },
  {
   "cell_type": "code",
   "execution_count": 42,
   "metadata": {
    "scrolled": true
   },
   "outputs": [
    {
     "data": {
      "text/markdown": [
       "### Корреляция"
      ],
      "text/plain": [
       "<IPython.core.display.Markdown object>"
      ]
     },
     "metadata": {},
     "output_type": "display_data"
    },
    {
     "data": {
      "text/html": [
       "<table style=\"display:inline;margin-right: 10px;\" border=\"1\" class=\"dataframe\">\n",
       "  <thead>\n",
       "    <tr style=\"text-align: right;\">\n",
       "      <th></th>\n",
       "      <th>Price</th>\n",
       "    </tr>\n",
       "  </thead>\n",
       "  <tbody>\n",
       "    <tr>\n",
       "      <th>RegistrationYear</th>\n",
       "      <td>0.420040</td>\n",
       "    </tr>\n",
       "    <tr>\n",
       "      <th>Power</th>\n",
       "      <td>0.420293</td>\n",
       "    </tr>\n",
       "    <tr>\n",
       "      <th>Kilometer</th>\n",
       "      <td>-0.380836</td>\n",
       "    </tr>\n",
       "    <tr>\n",
       "      <th>Price</th>\n",
       "      <td>1.000000</td>\n",
       "    </tr>\n",
       "  </tbody>\n",
       "</table style=\"display:inline;margin-right: 10px;\">"
      ]
     },
     "metadata": {},
     "output_type": "display_data"
    }
   ],
   "source": [
    "cols_corr = ['RegistrationYear', 'Power', 'Kilometer', 'Price']\n",
    "print_header('Корреляция')\n",
    "df = data_notna[cols_corr].corr()\n",
    "print_df(df.loc[:, 'Price'].to_frame())"
   ]
  },
  {
   "cell_type": "code",
   "execution_count": 43,
   "metadata": {},
   "outputs": [
    {
     "data": {
      "text/plain": [
       "Index(['Brand', 'Model', 'RegistrationYear', 'RegistrationMonth', 'Power',\n",
       "       'Gearbox', 'FuelType', 'VehicleType', 'Kilometer', 'NotRepaired',\n",
       "       'Price', 'NumberOfPictures', 'PostalCode', 'DateCrawled', 'DateCreated',\n",
       "       'LastSeen'],\n",
       "      dtype='object')"
      ]
     },
     "execution_count": 43,
     "metadata": {},
     "output_type": "execute_result"
    }
   ],
   "source": [
    "data_notna.columns"
   ]
  },
  {
   "cell_type": "code",
   "execution_count": 44,
   "metadata": {},
   "outputs": [],
   "source": [
    "QqK4J939ztzzZL7cols_feature = [\n",
    "    'Brand', 'Model', 'RegistrationYear', 'Power',\n",
    "    'Gearbox', 'FuelType', 'VehicleType', 'Kilometer', 'NotRepaired'\n",
    "]\n",
    "\n",
    "cols_cat = [\n",
    "    'Brand', 'Model', 'Gearbox', 'FuelType', 'VehicleType', 'NotRepaired'\n",
    "]\n",
    "\n",
    "cols_cat_idx = [cols_feature.index(col) for col in cols_cat]"
   ]
  },
  {
   "cell_type": "markdown",
   "metadata": {},
   "source": [
    "### Подготовка данных для деревьев и лесов"
   ]
  },
  {
   "cell_type": "code",
   "execution_count": 45,
   "metadata": {},
   "outputs": [],
   "source": [
    "data_train = data_notna[cols_feature + ['Price']].copy()\n",
    "\n",
    "encoder = OrdinalEncoder()\n",
    "data_train[cols_cat] = encoder.fit_transform(data_train[cols_cat])\n",
    "\n",
    "data_train_smp1k = data_train.sample(1000, random_state=42)\n",
    "data_train_smp10k = data_train.sample(10000, random_state=42)\n",
    "data_train_smp100k = data_train.sample(100000, random_state=42)\n",
    "\n",
    "# X = data_train_smp10k[cols_feature].values\n",
    "# y = data_train_smp10k['Price'].values\n",
    "\n",
    "# X_train, X_test, y_train, y_test = train_test_split(\n",
    "#     X, y, test_size = 0.25, random_state = 42\n",
    "# )"
   ]
  },
  {
   "cell_type": "code",
   "execution_count": 46,
   "metadata": {},
   "outputs": [
    {
     "name": "stdout",
     "output_type": "stream",
     "text": [
      "CPU times: user 648 ms, sys: 0 ns, total: 648 ms\n",
      "Wall time: 655 ms\n"
     ]
    },
    {
     "data": {
      "text/plain": [
       "RandomForestRegressor(bootstrap=True, criterion='mse', max_depth=None,\n",
       "                      max_features='auto', max_leaf_nodes=None,\n",
       "                      min_impurity_decrease=0.0, min_impurity_split=None,\n",
       "                      min_samples_leaf=1, min_samples_split=2,\n",
       "                      min_weight_fraction_leaf=0.0, n_estimators=20,\n",
       "                      n_jobs=None, oob_score=False, random_state=42, verbose=0,\n",
       "                      warm_start=False)"
      ]
     },
     "execution_count": 46,
     "metadata": {},
     "output_type": "execute_result"
    }
   ],
   "source": [
    "%%time\n",
    "\n",
    "X = data_train_smp10k[cols_feature]\n",
    "y = data_train_smp10k['Price']\n",
    "\n",
    "model = RandomForestRegressor(n_estimators=20, random_state=42)\n",
    "model.fit(X, y)\n"
   ]
  },
  {
   "cell_type": "code",
   "execution_count": 47,
   "metadata": {},
   "outputs": [],
   "source": [
    "feature_list = list(X.columns)\n"
   ]
  },
  {
   "cell_type": "code",
   "execution_count": 48,
   "metadata": {},
   "outputs": [
    {
     "name": "stdout",
     "output_type": "stream",
     "text": [
      "Variable: RegistrationYear     Importance: 0.47\n",
      "Variable: Power                Importance: 0.3\n",
      "Variable: Kilometer            Importance: 0.08\n",
      "Variable: Brand                Importance: 0.04\n",
      "Variable: Model                Importance: 0.04\n",
      "Variable: VehicleType          Importance: 0.04\n",
      "Variable: NotRepaired          Importance: 0.02\n",
      "Variable: Gearbox              Importance: 0.01\n",
      "Variable: FuelType             Importance: 0.01\n"
     ]
    }
   ],
   "source": [
    "importances = list(model.feature_importances_)\n",
    "feature_importances = [(feature, round(importance, 2)) for feature, importance in zip(feature_list, importances)]\n",
    "feature_importances = sorted(feature_importances, key = lambda x: x[1], reverse = True)\n",
    "[print('Variable: {:20} Importance: {}'.format(*pair)) for pair in feature_importances];\n"
   ]
  },
  {
   "cell_type": "code",
   "execution_count": 49,
   "metadata": {},
   "outputs": [
    {
     "data": {
      "image/png": "[encoded data removed]",
      "text/plain": [
       "<Figure size 432x288 with 1 Axes>"
      ]
     },
     "metadata": {},
     "output_type": "display_data"
    }
   ],
   "source": [
    "x_values = list(range(len(importances)))\n",
    "plt.bar(x_values, importances, orientation = 'vertical')\n",
    "plt.xticks(x_values, feature_list, rotation='vertical')\n",
    "plt.ylabel('Importance'); plt.xlabel('Variable'); plt.title('Variable Importances');"
   ]
  },
  {
   "cell_type": "code",
   "execution_count": 50,
   "metadata": {},
   "outputs": [
    {
     "name": "stdout",
     "output_type": "stream",
     "text": [
      "При том что признак Power так важен, 0 записей со значением 0\n"
     ]
    }
   ],
   "source": [
    "print('При том что признак Power так важен, {} записей со значением 0'.format(\n",
    "    data_train.query('Power == 0').shape[0]\n",
    "))"
   ]
  },
  {
   "cell_type": "markdown",
   "metadata": {},
   "source": [
    "## Обучение"
   ]
  },
  {
   "cell_type": "code",
   "execution_count": 51,
   "metadata": {},
   "outputs": [],
   "source": [
    "def rmse(y_test, y_pred):\n",
    "    return (mean_squared_error(y_test, y_pred) ** 0.5)\n",
    "\n",
    "def print_score_cmp(title, y_train, y_train_pred, y_test, y_test_pred):\n",
    "    rmse_train = print_score(title + ' train', y_train, y_train_pred)\n",
    "    rmse_test = print_score(title + ' test', y_test, y_test_pred)\n",
    "    return rmse_train, rmse_test\n",
    "\n",
    "def print_score(title, y_test, y_pred):\n",
    "    errors = abs(y_pred - y_test)\n",
    "    _rmse = rmse(y_test, y_pred)\n",
    "    print(title, 'Average error: ', round(np.mean(errors), 2))\n",
    "    print(title, 'RMSE:', _rmse)\n",
    "    return _rmse\n",
    "\n",
    "def mape(y_true, y_pred): \n",
    "    #     y_true, y_pred = check_arrays(y_true, y_pred)\n",
    "    return np.mean(np.abs((y_true - y_pred) / y_true)) * 100\n",
    "\n",
    "# print_score('test', np.array([100]), np.array([99]))\n",
    "# print_score('test', np.array([100]), np.array([99]))\n",
    "\n",
    "# print_score_cmp('test', np.array([100]), np.array([99]),np.array([100]), np.array([99]))"
   ]
  },
  {
   "cell_type": "code",
   "execution_count": 52,
   "metadata": {},
   "outputs": [],
   "source": [
    "df_result = pd.DataFrame(columns=['nick', 'rmse_train', 'rmse_test', 'time'])\n",
    "\n",
    "def df_result_add(df_result, nick, rmse_train, rmse_test, time):\n",
    "    return df_result.append(\n",
    "        {'nick': nick, 'rmse_train': rmse_train, 'rmse_test': rmse_test, 'time': time}, \n",
    "        ignore_index=True\n",
    "    )"
   ]
  },
  {
   "cell_type": "markdown",
   "metadata": {},
   "source": [
    "## Baseline"
   ]
  },
  {
   "cell_type": "code",
   "execution_count": 53,
   "metadata": {},
   "outputs": [],
   "source": [
    "X = data_train[cols_feature]\n",
    "y = data_train['Price']\n",
    "\n",
    "X_train, X_test, y_train, y_test = train_test_split(\n",
    "    X, y, test_size = 0.25, random_state = 42\n",
    ")"
   ]
  },
  {
   "cell_type": "code",
   "execution_count": 54,
   "metadata": {},
   "outputs": [
    {
     "name": "stdout",
     "output_type": "stream",
     "text": [
      "Baseline train Average error:  3600.02\n",
      "Baseline train RMSE: 4571.545490281787\n",
      "Baseline test Average error:  3616.89\n",
      "Baseline test RMSE: 4594.845323742783\n"
     ]
    },
    {
     "data": {
      "text/html": [
       "<div>\n",
       "<style scoped>\n",
       "    .dataframe tbody tr th:only-of-type {\n",
       "        vertical-align: middle;\n",
       "    }\n",
       "\n",
       "    .dataframe tbody tr th {\n",
       "        vertical-align: top;\n",
       "    }\n",
       "\n",
       "    .dataframe thead th {\n",
       "        text-align: right;\n",
       "    }\n",
       "</style>\n",
       "<table border=\"1\" class=\"dataframe\">\n",
       "  <thead>\n",
       "    <tr style=\"text-align: right;\">\n",
       "      <th></th>\n",
       "      <th>nick</th>\n",
       "      <th>rmse_train</th>\n",
       "      <th>rmse_test</th>\n",
       "      <th>time</th>\n",
       "    </tr>\n",
       "  </thead>\n",
       "  <tbody>\n",
       "    <tr>\n",
       "      <td>0</td>\n",
       "      <td>Baseline</td>\n",
       "      <td>4571.54549</td>\n",
       "      <td>4594.845324</td>\n",
       "      <td>0</td>\n",
       "    </tr>\n",
       "  </tbody>\n",
       "</table>\n",
       "</div>"
      ],
      "text/plain": [
       "       nick  rmse_train    rmse_test time\n",
       "0  Baseline  4571.54549  4594.845324    0"
      ]
     },
     "execution_count": 54,
     "metadata": {},
     "output_type": "execute_result"
    }
   ],
   "source": [
    "train_preds = np.full(y_train.size, np.mean(y))\n",
    "test_preds = np.full(y_test.size, np.mean(y))\n",
    "rmse_train, rmse_test = print_score_cmp('Baseline', y_train, train_preds, y_test, test_preds)\n",
    "df_result = df_result_add(df_result, 'Baseline', rmse_train, rmse_test, 0)\n",
    "df_result"
   ]
  },
  {
   "cell_type": "markdown",
   "metadata": {},
   "source": [
    "## LinearRegression"
   ]
  },
  {
   "cell_type": "code",
   "execution_count": 55,
   "metadata": {
    "scrolled": true
   },
   "outputs": [
    {
     "name": "stdout",
     "output_type": "stream",
     "text": [
      "LinearRegression train Average error:  1851.31\n",
      "LinearRegression train RMSE: 2692.1582685668614\n",
      "LinearRegression test Average error:  1863.16\n",
      "LinearRegression test RMSE: 2709.0635119003337\n",
      "CPU times: user 22.7 s, sys: 7.59 s, total: 30.2 s\n",
      "Wall time: 30.2 s\n"
     ]
    },
    {
     "data": {
      "text/html": [
       "<div>\n",
       "<style scoped>\n",
       "    .dataframe tbody tr th:only-of-type {\n",
       "        vertical-align: middle;\n",
       "    }\n",
       "\n",
       "    .dataframe tbody tr th {\n",
       "        vertical-align: top;\n",
       "    }\n",
       "\n",
       "    .dataframe thead th {\n",
       "        text-align: right;\n",
       "    }\n",
       "</style>\n",
       "<table border=\"1\" class=\"dataframe\">\n",
       "  <thead>\n",
       "    <tr style=\"text-align: right;\">\n",
       "      <th></th>\n",
       "      <th>nick</th>\n",
       "      <th>rmse_train</th>\n",
       "      <th>rmse_test</th>\n",
       "      <th>time</th>\n",
       "    </tr>\n",
       "  </thead>\n",
       "  <tbody>\n",
       "    <tr>\n",
       "      <td>0</td>\n",
       "      <td>Baseline</td>\n",
       "      <td>4571.545490</td>\n",
       "      <td>4594.845324</td>\n",
       "      <td>0</td>\n",
       "    </tr>\n",
       "    <tr>\n",
       "      <td>1</td>\n",
       "      <td>LinearRegression</td>\n",
       "      <td>2692.158269</td>\n",
       "      <td>2709.063512</td>\n",
       "      <td>30.1797</td>\n",
       "    </tr>\n",
       "  </tbody>\n",
       "</table>\n",
       "</div>"
      ],
      "text/plain": [
       "               nick   rmse_train    rmse_test     time\n",
       "0          Baseline  4571.545490  4594.845324        0\n",
       "1  LinearRegression  2692.158269  2709.063512  30.1797"
      ]
     },
     "execution_count": 55,
     "metadata": {},
     "output_type": "execute_result"
    }
   ],
   "source": [
    "%%time\n",
    "\n",
    "t0 = time.time()\n",
    "\n",
    "data_train_ohe = data_notna[cols_feature + ['Price']].copy()\n",
    "data_train_ohe = pd.get_dummies(data_train_ohe, columns=cols_cat, drop_first=True)\n",
    "data_train_ohe.columns\n",
    "\n",
    "\n",
    "cols_feature_ohe = [col for col in data_train_ohe.columns if col != 'Price']\n",
    "X = data_train_ohe[cols_feature_ohe]\n",
    "y = data_train_ohe['Price']\n",
    "\n",
    "scaler = StandardScaler()\n",
    "scaler.fit(X)\n",
    "X = scaler.transform(X)\n",
    "\n",
    "\n",
    "X_train, X_test, y_train, y_test = train_test_split(\n",
    "    X, y, test_size = 0.25, random_state = 42\n",
    ")\n",
    "\n",
    "model = LinearRegression()\n",
    "model.fit(X_train, y_train)\n",
    "\n",
    "y_pred_train = model.predict(X_train)\n",
    "y_pred = model.predict(X_test)\n",
    "\n",
    "# print_score('LinearRegression', y_test, y_pred)\n",
    "rmse_train, rmse_test = print_score_cmp('LinearRegression', y_train, y_pred_train, y_test, y_pred)\n",
    "\n",
    "df_result = df_result_add(df_result, 'LinearRegression', rmse_train, rmse_test, (time.time() - t0))\n",
    "df_result"
   ]
  },
  {
   "cell_type": "markdown",
   "metadata": {},
   "source": [
    "### Удаление неиспользуемых переменных"
   ]
  },
  {
   "cell_type": "code",
   "execution_count": 56,
   "metadata": {},
   "outputs": [
    {
     "name": "stdout",
     "output_type": "stream",
     "text": [
      "[['X', '680.3MiB'],\n",
      " ['X_train', '510.2MiB'],\n",
      " ['data', '217.0MiB'],\n",
      " ['data_notna', '195.8MiB'],\n",
      " ['X_test', '170.1MiB'],\n",
      " ['data_train_ohe', '95.2MiB'],\n",
      " ['data_train', '24.1MiB'],\n",
      " ['data_train_smp100k', '8.4MiB'],\n",
      " ['y', '4.4MiB'],\n",
      " ['y_train', '3.3MiB']]\n"
     ]
    }
   ],
   "source": [
    "print_mem_usage_vars(dir())"
   ]
  },
  {
   "cell_type": "code",
   "execution_count": 57,
   "metadata": {},
   "outputs": [],
   "source": [
    "del data_notna \n",
    "del data\n",
    "del X\n",
    "del X_train\n",
    "del X_test\n",
    "del data_train_ohe\n",
    "\n",
    "# print_mem_usage_vars(dir())"
   ]
  },
  {
   "cell_type": "markdown",
   "metadata": {},
   "source": [
    "### RandomForestRegressor"
   ]
  },
  {
   "cell_type": "markdown",
   "metadata": {},
   "source": [
    "#### RandomForestRegressor  подбор параметров"
   ]
  },
  {
   "cell_type": "code",
   "execution_count": 58,
   "metadata": {},
   "outputs": [
    {
     "name": "stdout",
     "output_type": "stream",
     "text": [
      "param_grid\n",
      "{'max_depth': [10, 60, 110, None], 'n_estimators': [50, 275, 500]}\n",
      "\n"
     ]
    }
   ],
   "source": [
    "# n_estimators = [int(x) for x in np.linspace(start = 50, stop = 500, num = 10)]\n",
    "# max_features = ['auto', 'sqrt']\n",
    "# max_depth = [int(x) for x in np.linspace(10, 110, num = 11)]\n",
    "# max_depth.append(None)\n",
    "# min_samples_split = [2, 5, 10]\n",
    "# min_samples_leaf = [1, 2, 4]\n",
    "# bootstrap = [True, False]\n",
    "# random_grid = {'n_estimators': n_estimators,\n",
    "#                'max_features': max_features,\n",
    "#                'max_depth': max_depth,\n",
    "#                'min_samples_split': min_samples_split,\n",
    "#                'min_samples_leaf': min_samples_leaf,\n",
    "#                'bootstrap': bootstrap}\n",
    "# print('random_grid')\n",
    "# pprint(random_grid)\n",
    "# print()\n",
    "\n",
    "\n",
    "n_estimators = [int(x) for x in np.linspace(start = 50, stop = 500, num = 3)]\n",
    "# max_features = ['auto', 'sqrt']\n",
    "max_depth = [int(x) for x in np.linspace(10, 110, num = 3)]\n",
    "max_depth.append(None)\n",
    "\n",
    "param_grid = {\n",
    "    'n_estimators': n_estimators,\n",
    "    'max_depth': max_depth,\n",
    "}\n",
    "print('param_grid')\n",
    "pprint(param_grid)\n",
    "print()"
   ]
  },
  {
   "cell_type": "code",
   "execution_count": 59,
   "metadata": {},
   "outputs": [],
   "source": [
    "def rmse_scorer(y_true, y_pred):\n",
    "    rmse = mean_squared_error(y_true, y_pred) ** 0.5\n",
    "    print('RMSE: {}'.format(rmse))\n",
    "    return rmse\n",
    "# rmse_scorer(y_test, y_pred)\n",
    "\n",
    "def my_scorer():\n",
    "    return make_scorer(rmse_scorer, greater_is_better=False) \n"
   ]
  },
  {
   "cell_type": "code",
   "execution_count": 60,
   "metadata": {
    "scrolled": true
   },
   "outputs": [
    {
     "name": "stdout",
     "output_type": "stream",
     "text": [
      "CPU times: user 0 ns, sys: 8 ms, total: 8 ms\n",
      "Wall time: 7.42 ms\n"
     ]
    }
   ],
   "source": [
    "%%time\n",
    "\n",
    "X = data_train_smp10k[cols_feature]\n",
    "y = data_train_smp10k['Price']\n",
    "\n",
    "rf = RandomForestRegressor()\n",
    "# rf_random = RandomizedSearchCV(\n",
    "#     estimator = rf, \n",
    "#     param_distributions = random_grid, \n",
    "#     n_iter = 100,\n",
    "#     cv = 3, \n",
    "#     verbose=2, \n",
    "#     random_state=42, \n",
    "#     n_jobs = -1\n",
    "# )\n",
    "# rf_random.fit(X, y)\n",
    "# rf_random.best_params_\n",
    "# del rf_random\n",
    "\n",
    "grid_search = GridSearchCV(\n",
    "    estimator = rf, \n",
    "    param_grid = param_grid, \n",
    "    cv = 3, \n",
    "    n_jobs = -1, \n",
    "    verbose = 2,\n",
    "    scoring=my_scorer()\n",
    ")\n",
    "# grid_search.fit(X, y)\n",
    "# grid_search.best_params_\n"
   ]
  },
  {
   "cell_type": "markdown",
   "metadata": {},
   "source": [
    "#### Обучение модели"
   ]
  },
  {
   "cell_type": "code",
   "execution_count": 61,
   "metadata": {},
   "outputs": [],
   "source": [
    "X = data_train_smp100k[cols_feature].values\n",
    "y = data_train_smp100k['Price'].values\n",
    "\n",
    "X_train, X_test, y_train, y_test = train_test_split(\n",
    "    X, y, test_size = 0.25, random_state = 42\n",
    ")\n"
   ]
  },
  {
   "cell_type": "code",
   "execution_count": 62,
   "metadata": {},
   "outputs": [
    {
     "name": "stdout",
     "output_type": "stream",
     "text": [
      "RandomForestRegressor train Average error:  549.49\n",
      "RandomForestRegressor train RMSE: 887.6540617324404\n",
      "RandomForestRegressor test Average error:  1096.52\n",
      "RandomForestRegressor test RMSE: 1777.1887673794745\n",
      "CPU times: user 2min 11s, sys: 1.23 s, total: 2min 12s\n",
      "Wall time: 2min 12s\n"
     ]
    },
    {
     "data": {
      "text/html": [
       "<div>\n",
       "<style scoped>\n",
       "    .dataframe tbody tr th:only-of-type {\n",
       "        vertical-align: middle;\n",
       "    }\n",
       "\n",
       "    .dataframe tbody tr th {\n",
       "        vertical-align: top;\n",
       "    }\n",
       "\n",
       "    .dataframe thead th {\n",
       "        text-align: right;\n",
       "    }\n",
       "</style>\n",
       "<table border=\"1\" class=\"dataframe\">\n",
       "  <thead>\n",
       "    <tr style=\"text-align: right;\">\n",
       "      <th></th>\n",
       "      <th>nick</th>\n",
       "      <th>rmse_train</th>\n",
       "      <th>rmse_test</th>\n",
       "      <th>time</th>\n",
       "    </tr>\n",
       "  </thead>\n",
       "  <tbody>\n",
       "    <tr>\n",
       "      <td>0</td>\n",
       "      <td>Baseline</td>\n",
       "      <td>4571.545490</td>\n",
       "      <td>4594.845324</td>\n",
       "      <td>0</td>\n",
       "    </tr>\n",
       "    <tr>\n",
       "      <td>1</td>\n",
       "      <td>LinearRegression</td>\n",
       "      <td>2692.158269</td>\n",
       "      <td>2709.063512</td>\n",
       "      <td>30.1797</td>\n",
       "    </tr>\n",
       "    <tr>\n",
       "      <td>2</td>\n",
       "      <td>RandomForestRegressor</td>\n",
       "      <td>887.654062</td>\n",
       "      <td>1777.188767</td>\n",
       "      <td>132.707</td>\n",
       "    </tr>\n",
       "  </tbody>\n",
       "</table>\n",
       "</div>"
      ],
      "text/plain": [
       "                    nick   rmse_train    rmse_test     time\n",
       "0               Baseline  4571.545490  4594.845324        0\n",
       "1       LinearRegression  2692.158269  2709.063512  30.1797\n",
       "2  RandomForestRegressor   887.654062  1777.188767  132.707"
      ]
     },
     "execution_count": 62,
     "metadata": {},
     "output_type": "execute_result"
    }
   ],
   "source": [
    "%%time\n",
    "\n",
    "t0 = time.time()\n",
    "\n",
    "# params = grid_search.best_params_\n",
    "params = {'max_depth': 110, 'n_estimators': 500}\n",
    "\n",
    "model = RandomForestRegressor(**params)\n",
    "model.fit(X_train, y_train)\n",
    "\n",
    "y_pred_train = model.predict(X_train)\n",
    "y_pred = model.predict(X_test)\n",
    "rmse_train, rmse_test = print_score_cmp('RandomForestRegressor', y_train, y_pred_train, y_test, y_pred)\n",
    "df_result = df_result_add(df_result, 'RandomForestRegressor', rmse_train, rmse_test, (time.time() - t0))\n",
    "df_result"
   ]
  },
  {
   "cell_type": "markdown",
   "metadata": {},
   "source": [
    "### LightGBM"
   ]
  },
  {
   "cell_type": "code",
   "execution_count": 63,
   "metadata": {},
   "outputs": [],
   "source": [
    "def rmse_lgb(y_true, y_pred):\n",
    "    score = mean_squared_error(y_true, y_pred)**0.5\n",
    "    return ('RMSE', score, False)"
   ]
  },
  {
   "cell_type": "markdown",
   "metadata": {},
   "source": [
    "#### Подбор гиперпараметров "
   ]
  },
  {
   "cell_type": "code",
   "execution_count": 64,
   "metadata": {},
   "outputs": [],
   "source": [
    "X = data_train_smp10k[cols_feature].values\n",
    "y = data_train_smp10k['Price'].values\n",
    "\n",
    "X_train, X_test, y_train, y_test = train_test_split(\n",
    "    X, y, test_size = 0.25, random_state = 42\n",
    ")\n"
   ]
  },
  {
   "cell_type": "code",
   "execution_count": 65,
   "metadata": {
    "scrolled": true
   },
   "outputs": [
    {
     "name": "stdout",
     "output_type": "stream",
     "text": [
      "{'learning_rate': [0.005],\n",
      " 'max_depth': [-1, 20, 50],\n",
      " 'n_estimators': [20, 100, 300]}\n"
     ]
    }
   ],
   "source": [
    "estimator = lgb.LGBMRegressor()\n",
    "\n",
    "\n",
    "# # __Stop\n",
    "# n_estimators = [int(x) for x in np.linspace(100, 5000, num = 3)]\n",
    "# max_depth = [int(x) for x in np.linspace(10, 110, num = 3)]\n",
    "# max_depth.append(None)\n",
    "\n",
    "\n",
    "# param_grid = {\n",
    "#     'learning_rate': [0.01, 0.05],\n",
    "#     'n_estimators': n_estimators,\n",
    "#     'max_depth': max_depth,\n",
    "# #     'num_leaves': [5, 10, 20],\n",
    "# #     'min_data': [25, 50, 100],\n",
    "# }\n",
    "\n",
    "\n",
    "param_grid = {\n",
    "    'learning_rate': [0.005],\n",
    "    'n_estimators': [20,100,300],\n",
    "    'max_depth': [-1,20,50],\n",
    "}\n",
    "\n",
    "pprint(param_grid)\n"
   ]
  },
  {
   "cell_type": "code",
   "execution_count": 66,
   "metadata": {
    "scrolled": true
   },
   "outputs": [
    {
     "name": "stdout",
     "output_type": "stream",
     "text": [
      "CPU times: user 0 ns, sys: 0 ns, total: 0 ns\n",
      "Wall time: 45.8 µs\n"
     ]
    }
   ],
   "source": [
    "%%time\n",
    "\n",
    "gbm = GridSearchCV(\n",
    "    estimator, \n",
    "    param_grid, \n",
    "    cv=3,\n",
    "    verbose=2, \n",
    "    n_jobs = -1,\n",
    "    scoring=my_scorer()\n",
    "\n",
    ")\n",
    "\n",
    "# gbm.fit(\n",
    "#     X_train, \n",
    "#     y_train, \n",
    "#     eval_metric=rmse_lgb,\n",
    "#     categorical_feature=cols_cat_idx,\n",
    "# )\n",
    "# print('Best parameters found by grid search are:', gbm.best_params_)\n"
   ]
  },
  {
   "cell_type": "code",
   "execution_count": 67,
   "metadata": {},
   "outputs": [],
   "source": [
    "# print(gbm.best_params_)\n",
    "# print(gbm.best_score_)\n",
    "\n",
    "# Best parameters found by grid search are: {'learning_rate': 0.005, 'max_depth': -1, 'n_estimators': 300}\n",
    "# CPU times: user 45.2 s, sys: 704 ms, total: 45.9 s\n",
    "# Wall time: 46.5 s"
   ]
  },
  {
   "cell_type": "markdown",
   "metadata": {},
   "source": [
    "#### Обучение"
   ]
  },
  {
   "cell_type": "code",
   "execution_count": 68,
   "metadata": {
    "scrolled": true
   },
   "outputs": [],
   "source": [
    "X = data_train[cols_feature].values\n",
    "y = data_train['Price'].values\n",
    "\n",
    "X_train, X_test, y_train, y_test = train_test_split(\n",
    "    X, y, test_size = 0.25, random_state = 42\n",
    ")\n"
   ]
  },
  {
   "cell_type": "code",
   "execution_count": 69,
   "metadata": {},
   "outputs": [
    {
     "name": "stderr",
     "output_type": "stream",
     "text": [
      "/opt/conda/lib/python3.7/site-packages/lightgbm/basic.py:1295: UserWarning: categorical_feature in Dataset is overridden.\n",
      "New categorical_feature is [0, 1, 4, 5, 6, 8]\n",
      "  'New categorical_feature is {}'.format(sorted(list(categorical_feature))))\n"
     ]
    },
    {
     "name": "stdout",
     "output_type": "stream",
     "text": [
      "[1]\tvalid_0's l2: 2.09585e+07\tvalid_0's RMSE: 4578.05\n",
      "Training until validation scores don't improve for 5 rounds\n",
      "[2]\tvalid_0's l2: 2.08061e+07\tvalid_0's RMSE: 4561.37\n",
      "[3]\tvalid_0's l2: 2.06548e+07\tvalid_0's RMSE: 4544.75\n",
      "[4]\tvalid_0's l2: 2.05051e+07\tvalid_0's RMSE: 4528.26\n",
      "[5]\tvalid_0's l2: 2.03567e+07\tvalid_0's RMSE: 4511.84\n",
      "[6]\tvalid_0's l2: 2.02105e+07\tvalid_0's RMSE: 4495.6\n",
      "[7]\tvalid_0's l2: 2.00652e+07\tvalid_0's RMSE: 4479.42\n",
      "[8]\tvalid_0's l2: 1.9922e+07\tvalid_0's RMSE: 4463.41\n",
      "[9]\tvalid_0's l2: 1.97796e+07\tvalid_0's RMSE: 4447.43\n",
      "[10]\tvalid_0's l2: 1.96382e+07\tvalid_0's RMSE: 4431.51\n",
      "[11]\tvalid_0's l2: 1.94989e+07\tvalid_0's RMSE: 4415.75\n",
      "[12]\tvalid_0's l2: 1.93609e+07\tvalid_0's RMSE: 4400.1\n",
      "[13]\tvalid_0's l2: 1.9224e+07\tvalid_0's RMSE: 4384.51\n",
      "[14]\tvalid_0's l2: 1.90884e+07\tvalid_0's RMSE: 4369.02\n",
      "[15]\tvalid_0's l2: 1.89539e+07\tvalid_0's RMSE: 4353.61\n",
      "[16]\tvalid_0's l2: 1.88209e+07\tvalid_0's RMSE: 4338.31\n",
      "[17]\tvalid_0's l2: 1.86879e+07\tvalid_0's RMSE: 4322.96\n",
      "[18]\tvalid_0's l2: 1.85576e+07\tvalid_0's RMSE: 4307.85\n",
      "[19]\tvalid_0's l2: 1.84288e+07\tvalid_0's RMSE: 4292.88\n",
      "[20]\tvalid_0's l2: 1.83006e+07\tvalid_0's RMSE: 4277.92\n",
      "[21]\tvalid_0's l2: 1.81739e+07\tvalid_0's RMSE: 4263.08\n",
      "[22]\tvalid_0's l2: 1.80476e+07\tvalid_0's RMSE: 4248.25\n",
      "[23]\tvalid_0's l2: 1.79232e+07\tvalid_0's RMSE: 4233.58\n",
      "[24]\tvalid_0's l2: 1.7799e+07\tvalid_0's RMSE: 4218.89\n",
      "[25]\tvalid_0's l2: 1.76768e+07\tvalid_0's RMSE: 4204.38\n",
      "[26]\tvalid_0's l2: 1.75546e+07\tvalid_0's RMSE: 4189.82\n",
      "[27]\tvalid_0's l2: 1.74338e+07\tvalid_0's RMSE: 4175.37\n",
      "[28]\tvalid_0's l2: 1.73147e+07\tvalid_0's RMSE: 4161.09\n",
      "[29]\tvalid_0's l2: 1.71965e+07\tvalid_0's RMSE: 4146.87\n",
      "[30]\tvalid_0's l2: 1.70803e+07\tvalid_0's RMSE: 4132.83\n",
      "[31]\tvalid_0's l2: 1.69636e+07\tvalid_0's RMSE: 4118.69\n",
      "[32]\tvalid_0's l2: 1.68482e+07\tvalid_0's RMSE: 4104.66\n",
      "[33]\tvalid_0's l2: 1.67357e+07\tvalid_0's RMSE: 4090.92\n",
      "[34]\tvalid_0's l2: 1.6623e+07\tvalid_0's RMSE: 4077.13\n",
      "[35]\tvalid_0's l2: 1.65118e+07\tvalid_0's RMSE: 4063.47\n",
      "[36]\tvalid_0's l2: 1.6401e+07\tvalid_0's RMSE: 4049.82\n",
      "[37]\tvalid_0's l2: 1.62937e+07\tvalid_0's RMSE: 4036.55\n",
      "[38]\tvalid_0's l2: 1.61848e+07\tvalid_0's RMSE: 4023.03\n",
      "[39]\tvalid_0's l2: 1.60767e+07\tvalid_0's RMSE: 4009.58\n",
      "[40]\tvalid_0's l2: 1.59724e+07\tvalid_0's RMSE: 3996.55\n",
      "[41]\tvalid_0's l2: 1.58666e+07\tvalid_0's RMSE: 3983.28\n",
      "[42]\tvalid_0's l2: 1.57642e+07\tvalid_0's RMSE: 3970.41\n",
      "[43]\tvalid_0's l2: 1.56595e+07\tvalid_0's RMSE: 3957.21\n",
      "[44]\tvalid_0's l2: 1.5559e+07\tvalid_0's RMSE: 3944.49\n",
      "[45]\tvalid_0's l2: 1.54568e+07\tvalid_0's RMSE: 3931.51\n",
      "[46]\tvalid_0's l2: 1.53582e+07\tvalid_0's RMSE: 3918.96\n",
      "[47]\tvalid_0's l2: 1.52577e+07\tvalid_0's RMSE: 3906.11\n",
      "[48]\tvalid_0's l2: 1.51577e+07\tvalid_0's RMSE: 3893.3\n",
      "[49]\tvalid_0's l2: 1.50621e+07\tvalid_0's RMSE: 3880.99\n",
      "[50]\tvalid_0's l2: 1.49643e+07\tvalid_0's RMSE: 3868.37\n",
      "[51]\tvalid_0's l2: 1.48704e+07\tvalid_0's RMSE: 3856.21\n",
      "[52]\tvalid_0's l2: 1.47747e+07\tvalid_0's RMSE: 3843.79\n",
      "[53]\tvalid_0's l2: 1.46826e+07\tvalid_0's RMSE: 3831.78\n",
      "[54]\tvalid_0's l2: 1.45879e+07\tvalid_0's RMSE: 3819.41\n",
      "[55]\tvalid_0's l2: 1.4495e+07\tvalid_0's RMSE: 3807.23\n",
      "[56]\tvalid_0's l2: 1.44052e+07\tvalid_0's RMSE: 3795.42\n",
      "[57]\tvalid_0's l2: 1.43131e+07\tvalid_0's RMSE: 3783.27\n",
      "[58]\tvalid_0's l2: 1.4225e+07\tvalid_0's RMSE: 3771.6\n",
      "[59]\tvalid_0's l2: 1.41349e+07\tvalid_0's RMSE: 3759.64\n",
      "[60]\tvalid_0's l2: 1.40479e+07\tvalid_0's RMSE: 3748.06\n",
      "[61]\tvalid_0's l2: 1.39598e+07\tvalid_0's RMSE: 3736.28\n",
      "[62]\tvalid_0's l2: 1.38745e+07\tvalid_0's RMSE: 3724.85\n",
      "[63]\tvalid_0's l2: 1.37879e+07\tvalid_0's RMSE: 3713.21\n",
      "[64]\tvalid_0's l2: 1.3702e+07\tvalid_0's RMSE: 3701.63\n",
      "[65]\tvalid_0's l2: 1.36171e+07\tvalid_0's RMSE: 3690.14\n",
      "[66]\tvalid_0's l2: 1.35346e+07\tvalid_0's RMSE: 3678.94\n",
      "[67]\tvalid_0's l2: 1.34506e+07\tvalid_0's RMSE: 3667.51\n",
      "[68]\tvalid_0's l2: 1.33681e+07\tvalid_0's RMSE: 3656.23\n",
      "[69]\tvalid_0's l2: 1.32874e+07\tvalid_0's RMSE: 3645.18\n",
      "[70]\tvalid_0's l2: 1.32062e+07\tvalid_0's RMSE: 3634.03\n",
      "[71]\tvalid_0's l2: 1.31269e+07\tvalid_0's RMSE: 3623.11\n",
      "[72]\tvalid_0's l2: 1.30472e+07\tvalid_0's RMSE: 3612.09\n",
      "[73]\tvalid_0's l2: 1.29677e+07\tvalid_0's RMSE: 3601.07\n",
      "[74]\tvalid_0's l2: 1.28912e+07\tvalid_0's RMSE: 3590.43\n",
      "[75]\tvalid_0's l2: 1.28137e+07\tvalid_0's RMSE: 3579.62\n",
      "[76]\tvalid_0's l2: 1.27385e+07\tvalid_0's RMSE: 3569.1\n",
      "[77]\tvalid_0's l2: 1.26617e+07\tvalid_0's RMSE: 3558.33\n",
      "[78]\tvalid_0's l2: 1.25879e+07\tvalid_0's RMSE: 3547.94\n",
      "[79]\tvalid_0's l2: 1.25126e+07\tvalid_0's RMSE: 3537.32\n",
      "[80]\tvalid_0's l2: 1.24378e+07\tvalid_0's RMSE: 3526.72\n",
      "[81]\tvalid_0's l2: 1.2365e+07\tvalid_0's RMSE: 3516.39\n",
      "[82]\tvalid_0's l2: 1.22915e+07\tvalid_0's RMSE: 3505.92\n",
      "[83]\tvalid_0's l2: 1.22208e+07\tvalid_0's RMSE: 3495.83\n",
      "[84]\tvalid_0's l2: 1.21488e+07\tvalid_0's RMSE: 3485.52\n",
      "[85]\tvalid_0's l2: 1.20783e+07\tvalid_0's RMSE: 3475.39\n",
      "[86]\tvalid_0's l2: 1.20075e+07\tvalid_0's RMSE: 3465.19\n",
      "[87]\tvalid_0's l2: 1.19383e+07\tvalid_0's RMSE: 3455.19\n",
      "[88]\tvalid_0's l2: 1.18687e+07\tvalid_0's RMSE: 3445.1\n",
      "[89]\tvalid_0's l2: 1.17997e+07\tvalid_0's RMSE: 3435.06\n",
      "[90]\tvalid_0's l2: 1.17325e+07\tvalid_0's RMSE: 3425.27\n",
      "[91]\tvalid_0's l2: 1.16646e+07\tvalid_0's RMSE: 3415.35\n",
      "[92]\tvalid_0's l2: 1.15992e+07\tvalid_0's RMSE: 3405.77\n",
      "[93]\tvalid_0's l2: 1.15327e+07\tvalid_0's RMSE: 3395.98\n",
      "[94]\tvalid_0's l2: 1.14682e+07\tvalid_0's RMSE: 3386.47\n",
      "[95]\tvalid_0's l2: 1.14028e+07\tvalid_0's RMSE: 3376.81\n",
      "[96]\tvalid_0's l2: 1.1338e+07\tvalid_0's RMSE: 3367.2\n",
      "[97]\tvalid_0's l2: 1.12747e+07\tvalid_0's RMSE: 3357.78\n",
      "[98]\tvalid_0's l2: 1.12112e+07\tvalid_0's RMSE: 3348.31\n",
      "[99]\tvalid_0's l2: 1.11499e+07\tvalid_0's RMSE: 3339.15\n",
      "[100]\tvalid_0's l2: 1.10873e+07\tvalid_0's RMSE: 3329.76\n",
      "[101]\tvalid_0's l2: 1.1027e+07\tvalid_0's RMSE: 3320.69\n",
      "[102]\tvalid_0's l2: 1.09657e+07\tvalid_0's RMSE: 3311.45\n",
      "[103]\tvalid_0's l2: 1.09051e+07\tvalid_0's RMSE: 3302.29\n",
      "[104]\tvalid_0's l2: 1.08466e+07\tvalid_0's RMSE: 3293.42\n",
      "[105]\tvalid_0's l2: 1.07865e+07\tvalid_0's RMSE: 3284.28\n",
      "[106]\tvalid_0's l2: 1.07265e+07\tvalid_0's RMSE: 3275.13\n",
      "[107]\tvalid_0's l2: 1.06695e+07\tvalid_0's RMSE: 3266.42\n",
      "[108]\tvalid_0's l2: 1.06113e+07\tvalid_0's RMSE: 3257.5\n",
      "[109]\tvalid_0's l2: 1.0555e+07\tvalid_0's RMSE: 3248.85\n",
      "[110]\tvalid_0's l2: 1.04979e+07\tvalid_0's RMSE: 3240.04\n",
      "[111]\tvalid_0's l2: 1.04406e+07\tvalid_0's RMSE: 3231.19\n",
      "[112]\tvalid_0's l2: 1.03856e+07\tvalid_0's RMSE: 3222.66\n",
      "[113]\tvalid_0's l2: 1.03294e+07\tvalid_0's RMSE: 3213.95\n",
      "[114]\tvalid_0's l2: 1.02757e+07\tvalid_0's RMSE: 3205.58\n",
      "[115]\tvalid_0's l2: 1.02205e+07\tvalid_0's RMSE: 3196.95\n",
      "[116]\tvalid_0's l2: 1.01673e+07\tvalid_0's RMSE: 3188.62\n",
      "[117]\tvalid_0's l2: 1.0113e+07\tvalid_0's RMSE: 3180.09\n",
      "[118]\tvalid_0's l2: 1.00608e+07\tvalid_0's RMSE: 3171.88\n",
      "[119]\tvalid_0's l2: 1.00069e+07\tvalid_0's RMSE: 3163.37\n",
      "[120]\tvalid_0's l2: 9.95423e+06\tvalid_0's RMSE: 3155.03\n",
      "[121]\tvalid_0's l2: 9.90276e+06\tvalid_0's RMSE: 3146.86\n",
      "[122]\tvalid_0's l2: 9.85099e+06\tvalid_0's RMSE: 3138.63\n",
      "[123]\tvalid_0's l2: 9.80024e+06\tvalid_0's RMSE: 3130.53\n",
      "[124]\tvalid_0's l2: 9.74983e+06\tvalid_0's RMSE: 3122.47\n",
      "[125]\tvalid_0's l2: 9.69874e+06\tvalid_0's RMSE: 3114.28\n",
      "[126]\tvalid_0's l2: 9.64908e+06\tvalid_0's RMSE: 3106.3\n",
      "[127]\tvalid_0's l2: 9.59901e+06\tvalid_0's RMSE: 3098.23\n",
      "[128]\tvalid_0's l2: 9.55007e+06\tvalid_0's RMSE: 3090.32\n",
      "[129]\tvalid_0's l2: 9.5008e+06\tvalid_0's RMSE: 3082.34\n",
      "[130]\tvalid_0's l2: 9.45289e+06\tvalid_0's RMSE: 3074.55\n",
      "[131]\tvalid_0's l2: 9.40471e+06\tvalid_0's RMSE: 3066.71\n",
      "[132]\tvalid_0's l2: 9.35794e+06\tvalid_0's RMSE: 3059.07\n",
      "[133]\tvalid_0's l2: 9.3105e+06\tvalid_0's RMSE: 3051.31\n",
      "[134]\tvalid_0's l2: 9.2643e+06\tvalid_0's RMSE: 3043.73\n",
      "[135]\tvalid_0's l2: 9.21747e+06\tvalid_0's RMSE: 3036.03\n",
      "[136]\tvalid_0's l2: 9.17045e+06\tvalid_0's RMSE: 3028.28\n",
      "[137]\tvalid_0's l2: 9.1236e+06\tvalid_0's RMSE: 3020.53\n",
      "[138]\tvalid_0's l2: 9.07711e+06\tvalid_0's RMSE: 3012.82\n",
      "[139]\tvalid_0's l2: 9.03146e+06\tvalid_0's RMSE: 3005.24\n",
      "[140]\tvalid_0's l2: 8.98592e+06\tvalid_0's RMSE: 2997.65\n",
      "[141]\tvalid_0's l2: 8.94086e+06\tvalid_0's RMSE: 2990.13\n",
      "[142]\tvalid_0's l2: 8.89625e+06\tvalid_0's RMSE: 2982.66\n",
      "[143]\tvalid_0's l2: 8.85205e+06\tvalid_0's RMSE: 2975.24\n",
      "[144]\tvalid_0's l2: 8.80844e+06\tvalid_0's RMSE: 2967.9\n",
      "[145]\tvalid_0's l2: 8.76497e+06\tvalid_0's RMSE: 2960.57\n",
      "[146]\tvalid_0's l2: 8.72179e+06\tvalid_0's RMSE: 2953.27\n",
      "[147]\tvalid_0's l2: 8.67926e+06\tvalid_0's RMSE: 2946.06\n",
      "[148]\tvalid_0's l2: 8.63635e+06\tvalid_0's RMSE: 2938.77\n",
      "[149]\tvalid_0's l2: 8.59436e+06\tvalid_0's RMSE: 2931.61\n",
      "[150]\tvalid_0's l2: 8.5531e+06\tvalid_0's RMSE: 2924.57\n",
      "[151]\tvalid_0's l2: 8.51192e+06\tvalid_0's RMSE: 2917.52\n",
      "[152]\tvalid_0's l2: 8.47108e+06\tvalid_0's RMSE: 2910.51\n",
      "[153]\tvalid_0's l2: 8.43056e+06\tvalid_0's RMSE: 2903.54\n",
      "[154]\tvalid_0's l2: 8.39105e+06\tvalid_0's RMSE: 2896.73\n",
      "[155]\tvalid_0's l2: 8.35085e+06\tvalid_0's RMSE: 2889.78\n",
      "[156]\tvalid_0's l2: 8.3116e+06\tvalid_0's RMSE: 2882.98\n",
      "[157]\tvalid_0's l2: 8.27266e+06\tvalid_0's RMSE: 2876.22\n",
      "[158]\tvalid_0's l2: 8.23397e+06\tvalid_0's RMSE: 2869.49\n",
      "[159]\tvalid_0's l2: 8.19506e+06\tvalid_0's RMSE: 2862.7\n",
      "[160]\tvalid_0's l2: 8.15688e+06\tvalid_0's RMSE: 2856.02\n",
      "[161]\tvalid_0's l2: 8.11904e+06\tvalid_0's RMSE: 2849.39\n",
      "[162]\tvalid_0's l2: 8.08103e+06\tvalid_0's RMSE: 2842.72\n",
      "[163]\tvalid_0's l2: 8.04367e+06\tvalid_0's RMSE: 2836.14\n",
      "[164]\tvalid_0's l2: 8.00718e+06\tvalid_0's RMSE: 2829.7\n",
      "[165]\tvalid_0's l2: 7.97009e+06\tvalid_0's RMSE: 2823.13\n",
      "[166]\tvalid_0's l2: 7.93311e+06\tvalid_0's RMSE: 2816.58\n",
      "[167]\tvalid_0's l2: 7.89728e+06\tvalid_0's RMSE: 2810.21\n",
      "[168]\tvalid_0's l2: 7.86096e+06\tvalid_0's RMSE: 2803.74\n",
      "[169]\tvalid_0's l2: 7.82608e+06\tvalid_0's RMSE: 2797.51\n",
      "[170]\tvalid_0's l2: 7.79078e+06\tvalid_0's RMSE: 2791.2\n",
      "[171]\tvalid_0's l2: 7.75575e+06\tvalid_0's RMSE: 2784.92\n",
      "[172]\tvalid_0's l2: 7.72099e+06\tvalid_0's RMSE: 2778.67\n",
      "[173]\tvalid_0's l2: 7.68756e+06\tvalid_0's RMSE: 2772.65\n",
      "[174]\tvalid_0's l2: 7.65374e+06\tvalid_0's RMSE: 2766.54\n",
      "[175]\tvalid_0's l2: 7.62046e+06\tvalid_0's RMSE: 2760.52\n",
      "[176]\tvalid_0's l2: 7.58653e+06\tvalid_0's RMSE: 2754.37\n",
      "[177]\tvalid_0's l2: 7.55336e+06\tvalid_0's RMSE: 2748.34\n",
      "[178]\tvalid_0's l2: 7.52082e+06\tvalid_0's RMSE: 2742.41\n",
      "[179]\tvalid_0's l2: 7.48801e+06\tvalid_0's RMSE: 2736.42\n",
      "[180]\tvalid_0's l2: 7.45589e+06\tvalid_0's RMSE: 2730.55\n",
      "[181]\tvalid_0's l2: 7.4237e+06\tvalid_0's RMSE: 2724.65\n",
      "[182]\tvalid_0's l2: 7.39146e+06\tvalid_0's RMSE: 2718.72\n",
      "[183]\tvalid_0's l2: 7.36005e+06\tvalid_0's RMSE: 2712.94\n",
      "[184]\tvalid_0's l2: 7.32863e+06\tvalid_0's RMSE: 2707.14\n",
      "[185]\tvalid_0's l2: 7.29774e+06\tvalid_0's RMSE: 2701.43\n",
      "[186]\tvalid_0's l2: 7.26682e+06\tvalid_0's RMSE: 2695.7\n",
      "[187]\tvalid_0's l2: 7.23612e+06\tvalid_0's RMSE: 2690\n",
      "[188]\tvalid_0's l2: 7.20566e+06\tvalid_0's RMSE: 2684.34\n",
      "[189]\tvalid_0's l2: 7.17562e+06\tvalid_0's RMSE: 2678.73\n",
      "[190]\tvalid_0's l2: 7.14591e+06\tvalid_0's RMSE: 2673.18\n",
      "[191]\tvalid_0's l2: 7.11631e+06\tvalid_0's RMSE: 2667.64\n",
      "[192]\tvalid_0's l2: 7.08695e+06\tvalid_0's RMSE: 2662.13\n",
      "[193]\tvalid_0's l2: 7.05762e+06\tvalid_0's RMSE: 2656.62\n",
      "[194]\tvalid_0's l2: 7.02878e+06\tvalid_0's RMSE: 2651.18\n",
      "[195]\tvalid_0's l2: 7.00007e+06\tvalid_0's RMSE: 2645.76\n",
      "[196]\tvalid_0's l2: 6.9718e+06\tvalid_0's RMSE: 2640.42\n",
      "[197]\tvalid_0's l2: 6.94361e+06\tvalid_0's RMSE: 2635.07\n",
      "[198]\tvalid_0's l2: 6.91553e+06\tvalid_0's RMSE: 2629.74\n",
      "[199]\tvalid_0's l2: 6.88752e+06\tvalid_0's RMSE: 2624.41\n",
      "[200]\tvalid_0's l2: 6.86019e+06\tvalid_0's RMSE: 2619.2\n",
      "[201]\tvalid_0's l2: 6.83274e+06\tvalid_0's RMSE: 2613.95\n",
      "[202]\tvalid_0's l2: 6.80561e+06\tvalid_0's RMSE: 2608.76\n",
      "[203]\tvalid_0's l2: 6.77873e+06\tvalid_0's RMSE: 2603.6\n",
      "[204]\tvalid_0's l2: 6.75201e+06\tvalid_0's RMSE: 2598.46\n",
      "[205]\tvalid_0's l2: 6.72554e+06\tvalid_0's RMSE: 2593.36\n",
      "[206]\tvalid_0's l2: 6.69918e+06\tvalid_0's RMSE: 2588.28\n",
      "[207]\tvalid_0's l2: 6.67303e+06\tvalid_0's RMSE: 2583.22\n",
      "[208]\tvalid_0's l2: 6.64693e+06\tvalid_0's RMSE: 2578.16\n",
      "[209]\tvalid_0's l2: 6.62124e+06\tvalid_0's RMSE: 2573.18\n",
      "[210]\tvalid_0's l2: 6.59566e+06\tvalid_0's RMSE: 2568.2\n",
      "[211]\tvalid_0's l2: 6.57073e+06\tvalid_0's RMSE: 2563.34\n",
      "[212]\tvalid_0's l2: 6.5454e+06\tvalid_0's RMSE: 2558.4\n",
      "[213]\tvalid_0's l2: 6.52063e+06\tvalid_0's RMSE: 2553.55\n",
      "[214]\tvalid_0's l2: 6.49583e+06\tvalid_0's RMSE: 2548.69\n",
      "[215]\tvalid_0's l2: 6.47152e+06\tvalid_0's RMSE: 2543.92\n",
      "[216]\tvalid_0's l2: 6.44709e+06\tvalid_0's RMSE: 2539.11\n",
      "[217]\tvalid_0's l2: 6.42291e+06\tvalid_0's RMSE: 2534.35\n",
      "[218]\tvalid_0's l2: 6.39906e+06\tvalid_0's RMSE: 2529.64\n",
      "[219]\tvalid_0's l2: 6.37502e+06\tvalid_0's RMSE: 2524.88\n",
      "[220]\tvalid_0's l2: 6.3513e+06\tvalid_0's RMSE: 2520.18\n",
      "[221]\tvalid_0's l2: 6.32767e+06\tvalid_0's RMSE: 2515.49\n",
      "[222]\tvalid_0's l2: 6.30457e+06\tvalid_0's RMSE: 2510.89\n",
      "[223]\tvalid_0's l2: 6.28123e+06\tvalid_0's RMSE: 2506.24\n",
      "[224]\tvalid_0's l2: 6.25834e+06\tvalid_0's RMSE: 2501.67\n",
      "[225]\tvalid_0's l2: 6.23542e+06\tvalid_0's RMSE: 2497.08\n",
      "[226]\tvalid_0's l2: 6.21341e+06\tvalid_0's RMSE: 2492.67\n",
      "[227]\tvalid_0's l2: 6.19085e+06\tvalid_0's RMSE: 2488.14\n",
      "[228]\tvalid_0's l2: 6.16868e+06\tvalid_0's RMSE: 2483.68\n",
      "[229]\tvalid_0's l2: 6.14656e+06\tvalid_0's RMSE: 2479.23\n",
      "[230]\tvalid_0's l2: 6.12506e+06\tvalid_0's RMSE: 2474.89\n",
      "[231]\tvalid_0's l2: 6.10329e+06\tvalid_0's RMSE: 2470.48\n",
      "[232]\tvalid_0's l2: 6.08159e+06\tvalid_0's RMSE: 2466.09\n",
      "[233]\tvalid_0's l2: 6.06034e+06\tvalid_0's RMSE: 2461.78\n",
      "[234]\tvalid_0's l2: 6.03882e+06\tvalid_0's RMSE: 2457.4\n",
      "[235]\tvalid_0's l2: 6.01765e+06\tvalid_0's RMSE: 2453.09\n",
      "[236]\tvalid_0's l2: 5.99675e+06\tvalid_0's RMSE: 2448.83\n",
      "[237]\tvalid_0's l2: 5.97611e+06\tvalid_0's RMSE: 2444.61\n",
      "[238]\tvalid_0's l2: 5.95539e+06\tvalid_0's RMSE: 2440.37\n",
      "[239]\tvalid_0's l2: 5.935e+06\tvalid_0's RMSE: 2436.18\n",
      "[240]\tvalid_0's l2: 5.9147e+06\tvalid_0's RMSE: 2432.02\n",
      "[241]\tvalid_0's l2: 5.89488e+06\tvalid_0's RMSE: 2427.94\n",
      "[242]\tvalid_0's l2: 5.87472e+06\tvalid_0's RMSE: 2423.78\n",
      "[243]\tvalid_0's l2: 5.85515e+06\tvalid_0's RMSE: 2419.74\n",
      "[244]\tvalid_0's l2: 5.83563e+06\tvalid_0's RMSE: 2415.7\n",
      "[245]\tvalid_0's l2: 5.8164e+06\tvalid_0's RMSE: 2411.72\n",
      "[246]\tvalid_0's l2: 5.79704e+06\tvalid_0's RMSE: 2407.7\n",
      "[247]\tvalid_0's l2: 5.77806e+06\tvalid_0's RMSE: 2403.76\n",
      "[248]\tvalid_0's l2: 5.75913e+06\tvalid_0's RMSE: 2399.82\n",
      "[249]\tvalid_0's l2: 5.74042e+06\tvalid_0's RMSE: 2395.92\n",
      "[250]\tvalid_0's l2: 5.72155e+06\tvalid_0's RMSE: 2391.98\n",
      "[251]\tvalid_0's l2: 5.70318e+06\tvalid_0's RMSE: 2388.13\n",
      "[252]\tvalid_0's l2: 5.68453e+06\tvalid_0's RMSE: 2384.22\n",
      "[253]\tvalid_0's l2: 5.66607e+06\tvalid_0's RMSE: 2380.35\n",
      "[254]\tvalid_0's l2: 5.6481e+06\tvalid_0's RMSE: 2376.57\n",
      "[255]\tvalid_0's l2: 5.63028e+06\tvalid_0's RMSE: 2372.82\n",
      "[256]\tvalid_0's l2: 5.61256e+06\tvalid_0's RMSE: 2369.08\n",
      "[257]\tvalid_0's l2: 5.59483e+06\tvalid_0's RMSE: 2365.34\n",
      "[258]\tvalid_0's l2: 5.57742e+06\tvalid_0's RMSE: 2361.66\n",
      "[259]\tvalid_0's l2: 5.5599e+06\tvalid_0's RMSE: 2357.94\n",
      "[260]\tvalid_0's l2: 5.54296e+06\tvalid_0's RMSE: 2354.35\n",
      "[261]\tvalid_0's l2: 5.5259e+06\tvalid_0's RMSE: 2350.72\n",
      "[262]\tvalid_0's l2: 5.50874e+06\tvalid_0's RMSE: 2347.07\n",
      "[263]\tvalid_0's l2: 5.49129e+06\tvalid_0's RMSE: 2343.35\n",
      "[264]\tvalid_0's l2: 5.47429e+06\tvalid_0's RMSE: 2339.72\n",
      "[265]\tvalid_0's l2: 5.45739e+06\tvalid_0's RMSE: 2336.1\n",
      "[266]\tvalid_0's l2: 5.44087e+06\tvalid_0's RMSE: 2332.57\n",
      "[267]\tvalid_0's l2: 5.42383e+06\tvalid_0's RMSE: 2328.91\n",
      "[268]\tvalid_0's l2: 5.40724e+06\tvalid_0's RMSE: 2325.35\n",
      "[269]\tvalid_0's l2: 5.39123e+06\tvalid_0's RMSE: 2321.9\n",
      "[270]\tvalid_0's l2: 5.37468e+06\tvalid_0's RMSE: 2318.34\n",
      "[271]\tvalid_0's l2: 5.35882e+06\tvalid_0's RMSE: 2314.91\n",
      "[272]\tvalid_0's l2: 5.34264e+06\tvalid_0's RMSE: 2311.42\n",
      "[273]\tvalid_0's l2: 5.32725e+06\tvalid_0's RMSE: 2308.08\n",
      "[274]\tvalid_0's l2: 5.31132e+06\tvalid_0's RMSE: 2304.63\n",
      "[275]\tvalid_0's l2: 5.29607e+06\tvalid_0's RMSE: 2301.32\n",
      "[276]\tvalid_0's l2: 5.28083e+06\tvalid_0's RMSE: 2298.01\n",
      "[277]\tvalid_0's l2: 5.26518e+06\tvalid_0's RMSE: 2294.6\n",
      "[278]\tvalid_0's l2: 5.25005e+06\tvalid_0's RMSE: 2291.3\n",
      "[279]\tvalid_0's l2: 5.23516e+06\tvalid_0's RMSE: 2288.05\n",
      "[280]\tvalid_0's l2: 5.22028e+06\tvalid_0's RMSE: 2284.79\n",
      "[281]\tvalid_0's l2: 5.20553e+06\tvalid_0's RMSE: 2281.56\n",
      "[282]\tvalid_0's l2: 5.19061e+06\tvalid_0's RMSE: 2278.29\n",
      "[283]\tvalid_0's l2: 5.17606e+06\tvalid_0's RMSE: 2275.1\n",
      "[284]\tvalid_0's l2: 5.16179e+06\tvalid_0's RMSE: 2271.96\n",
      "[285]\tvalid_0's l2: 5.14737e+06\tvalid_0's RMSE: 2268.78\n",
      "[286]\tvalid_0's l2: 5.13279e+06\tvalid_0's RMSE: 2265.57\n",
      "[287]\tvalid_0's l2: 5.11904e+06\tvalid_0's RMSE: 2262.53\n",
      "[288]\tvalid_0's l2: 5.10495e+06\tvalid_0's RMSE: 2259.41\n",
      "[289]\tvalid_0's l2: 5.09077e+06\tvalid_0's RMSE: 2256.27\n",
      "[290]\tvalid_0's l2: 5.07652e+06\tvalid_0's RMSE: 2253.11\n",
      "[291]\tvalid_0's l2: 5.06276e+06\tvalid_0's RMSE: 2250.06\n",
      "[292]\tvalid_0's l2: 5.04896e+06\tvalid_0's RMSE: 2246.99\n",
      "[293]\tvalid_0's l2: 5.0356e+06\tvalid_0's RMSE: 2244.02\n",
      "[294]\tvalid_0's l2: 5.02207e+06\tvalid_0's RMSE: 2241\n",
      "[295]\tvalid_0's l2: 5.00864e+06\tvalid_0's RMSE: 2238\n",
      "[296]\tvalid_0's l2: 4.99514e+06\tvalid_0's RMSE: 2234.98\n",
      "[297]\tvalid_0's l2: 4.9816e+06\tvalid_0's RMSE: 2231.95\n",
      "[298]\tvalid_0's l2: 4.96853e+06\tvalid_0's RMSE: 2229.02\n",
      "[299]\tvalid_0's l2: 4.95561e+06\tvalid_0's RMSE: 2226.12\n",
      "[300]\tvalid_0's l2: 4.94286e+06\tvalid_0's RMSE: 2223.25\n",
      "Did not meet early stopping. Best iteration is:\n",
      "[300]\tvalid_0's l2: 4.94286e+06\tvalid_0's RMSE: 2223.25\n",
      "LGBMRegressor train Average error:  1562.13\n",
      "LGBMRegressor train RMSE: 2195.6221086934856\n",
      "LGBMRegressor test Average error:  1575.51\n",
      "LGBMRegressor test RMSE: 2223.2534940297483\n",
      "CPU times: user 1min 10s, sys: 388 ms, total: 1min 11s\n",
      "Wall time: 1min 12s\n"
     ]
    },
    {
     "data": {
      "text/html": [
       "<div>\n",
       "<style scoped>\n",
       "    .dataframe tbody tr th:only-of-type {\n",
       "        vertical-align: middle;\n",
       "    }\n",
       "\n",
       "    .dataframe tbody tr th {\n",
       "        vertical-align: top;\n",
       "    }\n",
       "\n",
       "    .dataframe thead th {\n",
       "        text-align: right;\n",
       "    }\n",
       "</style>\n",
       "<table border=\"1\" class=\"dataframe\">\n",
       "  <thead>\n",
       "    <tr style=\"text-align: right;\">\n",
       "      <th></th>\n",
       "      <th>nick</th>\n",
       "      <th>rmse_train</th>\n",
       "      <th>rmse_test</th>\n",
       "      <th>time</th>\n",
       "    </tr>\n",
       "  </thead>\n",
       "  <tbody>\n",
       "    <tr>\n",
       "      <td>0</td>\n",
       "      <td>Baseline</td>\n",
       "      <td>4571.545490</td>\n",
       "      <td>4594.845324</td>\n",
       "      <td>0</td>\n",
       "    </tr>\n",
       "    <tr>\n",
       "      <td>1</td>\n",
       "      <td>LinearRegression</td>\n",
       "      <td>2692.158269</td>\n",
       "      <td>2709.063512</td>\n",
       "      <td>30.1797</td>\n",
       "    </tr>\n",
       "    <tr>\n",
       "      <td>2</td>\n",
       "      <td>RandomForestRegressor</td>\n",
       "      <td>887.654062</td>\n",
       "      <td>1777.188767</td>\n",
       "      <td>132.707</td>\n",
       "    </tr>\n",
       "    <tr>\n",
       "      <td>3</td>\n",
       "      <td>LGBMRegressor</td>\n",
       "      <td>2195.622109</td>\n",
       "      <td>2223.253494</td>\n",
       "      <td>72.1354</td>\n",
       "    </tr>\n",
       "  </tbody>\n",
       "</table>\n",
       "</div>"
      ],
      "text/plain": [
       "                    nick   rmse_train    rmse_test     time\n",
       "0               Baseline  4571.545490  4594.845324        0\n",
       "1       LinearRegression  2692.158269  2709.063512  30.1797\n",
       "2  RandomForestRegressor   887.654062  1777.188767  132.707\n",
       "3          LGBMRegressor  2195.622109  2223.253494  72.1354"
      ]
     },
     "execution_count": 69,
     "metadata": {},
     "output_type": "execute_result"
    }
   ],
   "source": [
    "%%time\n",
    "\n",
    "t0 = time.time()\n",
    "\n",
    "params = {'learning_rate': 0.005, 'max_depth': -1, 'n_estimators': 300}\n",
    "\n",
    "\n",
    "# train\n",
    "model = lgb.LGBMRegressor(**params)\n",
    "\n",
    "model.fit(\n",
    "    X_train, \n",
    "    y_train,\n",
    "    eval_set=[(X_test, y_test)],\n",
    "    eval_metric=rmse_lgb,\n",
    "    early_stopping_rounds=5,\n",
    "    categorical_feature=cols_cat_idx\n",
    ")\n",
    "\n",
    "\n",
    "y_pred_train = model.predict(X_train)\n",
    "y_pred = model.predict(X_test)\n",
    "rmse_train, rmse_test = print_score_cmp('LGBMRegressor', y_train, y_pred_train, y_test, y_pred)\n",
    "df_result = df_result_add(df_result, 'LGBMRegressor', rmse_train, rmse_test, (time.time() - t0))\n",
    "df_result"
   ]
  },
  {
   "cell_type": "markdown",
   "metadata": {},
   "source": [
    "### CatBoost"
   ]
  },
  {
   "cell_type": "code",
   "execution_count": 70,
   "metadata": {},
   "outputs": [],
   "source": [
    "# data_notna_smp10k = data_notna.sample(10000, random_state=42)\n",
    "\n",
    "# X = data_notna_smp10k[cols_feature].values\n",
    "# y = data_notna_smp10k['Price'].values\n",
    "\n",
    "# X_train, X_test, y_train, y_test = train_test_split(\n",
    "#     X, y, test_size = 0.25, random_state = 42\n",
    "# )\n"
   ]
  },
  {
   "cell_type": "markdown",
   "metadata": {},
   "source": [
    "#### Подбор параметров"
   ]
  },
  {
   "cell_type": "code",
   "execution_count": 71,
   "metadata": {},
   "outputs": [],
   "source": [
    "X = data_train_smp100k[cols_feature].values\n",
    "y = data_train_smp100k['Price'].values\n",
    "\n",
    "X_train, X_test, y_train, y_test = train_test_split(\n",
    "    X, y, test_size = 0.25, random_state = 42\n",
    ")\n",
    "\n",
    "train_pool = Pool(X_train, label=y_train)\n",
    "test_pool = Pool(X_test, label=y_test)"
   ]
  },
  {
   "cell_type": "code",
   "execution_count": 72,
   "metadata": {},
   "outputs": [],
   "source": [
    "grid = {\n",
    "    'learning_rate': [0.03, 0.1],\n",
    "    'max_depth': [4, 6, 10],\n",
    "    'iterations': [100, 250, 500]\n",
    "}\n",
    "\n",
    "model = CatBoostRegressor(\n",
    "    loss_function='RMSE'\n",
    ")\n",
    "\n",
    "# grid_search_results = model.grid_search(grid, train_pool, shuffle=False, verbose=3, plot=False)"
   ]
  },
  {
   "cell_type": "code",
   "execution_count": 73,
   "metadata": {},
   "outputs": [],
   "source": [
    "# grid_search_results['params']\n"
   ]
  },
  {
   "cell_type": "markdown",
   "metadata": {},
   "source": [
    "#### Обучение модели"
   ]
  },
  {
   "cell_type": "code",
   "execution_count": 74,
   "metadata": {},
   "outputs": [],
   "source": [
    "X = data_train[cols_feature].values\n",
    "y = data_train['Price'].values\n",
    "\n",
    "X_train, X_test, y_train, y_test = train_test_split(\n",
    "    X, y, test_size = 0.25, random_state = 42\n",
    ")\n",
    "\n",
    "train_pool = Pool(X_train, label=y_train)\n",
    "test_pool = Pool(X_test, label=y_test)"
   ]
  },
  {
   "cell_type": "code",
   "execution_count": 75,
   "metadata": {
    "scrolled": true
   },
   "outputs": [
    {
     "name": "stdout",
     "output_type": "stream",
     "text": [
      "0:\tlearn: 4250.9657381\ttest: 4274.3623428\tbest: 4274.3623428 (0)\ttotal: 255ms\tremaining: 2m 7s\n",
      "3:\tlearn: 3491.7803648\ttest: 3514.8775097\tbest: 3514.8775097 (3)\ttotal: 1.13s\tremaining: 2m 19s\n",
      "6:\tlearn: 2972.4957340\ttest: 2995.8176544\tbest: 2995.8176544 (6)\ttotal: 1.92s\tremaining: 2m 15s\n",
      "9:\tlearn: 2613.5022030\ttest: 2639.2135472\tbest: 2639.2135472 (9)\ttotal: 2.63s\tremaining: 2m 8s\n",
      "12:\tlearn: 2374.4161801\ttest: 2402.0858608\tbest: 2402.0858608 (12)\ttotal: 3.42s\tremaining: 2m 8s\n",
      "15:\tlearn: 2217.2465216\ttest: 2247.3186916\tbest: 2247.3186916 (15)\ttotal: 4.21s\tremaining: 2m 7s\n",
      "18:\tlearn: 2108.3668814\ttest: 2140.9324571\tbest: 2140.9324571 (18)\ttotal: 5s\tremaining: 2m 6s\n",
      "21:\tlearn: 2025.4697898\ttest: 2060.4689398\tbest: 2060.4689398 (21)\ttotal: 5.79s\tremaining: 2m 5s\n",
      "24:\tlearn: 1967.3797498\ttest: 2003.8537389\tbest: 2003.8537389 (24)\ttotal: 6.58s\tremaining: 2m 5s\n",
      "27:\tlearn: 1925.7736924\ttest: 1963.8783243\tbest: 1963.8783243 (27)\ttotal: 7.37s\tremaining: 2m 4s\n",
      "30:\tlearn: 1890.4900040\ttest: 1930.2794111\tbest: 1930.2794111 (30)\ttotal: 8.17s\tremaining: 2m 3s\n",
      "33:\tlearn: 1864.1521733\ttest: 1905.1296791\tbest: 1905.1296791 (33)\ttotal: 8.97s\tremaining: 2m 2s\n",
      "36:\tlearn: 1843.1237728\ttest: 1884.7834492\tbest: 1884.7834492 (36)\ttotal: 9.75s\tremaining: 2m 1s\n",
      "39:\tlearn: 1824.6571490\ttest: 1868.0418137\tbest: 1868.0418137 (39)\ttotal: 10.5s\tremaining: 2m 1s\n",
      "42:\tlearn: 1808.5647167\ttest: 1852.2367837\tbest: 1852.2367837 (42)\ttotal: 11.3s\tremaining: 2m\n",
      "45:\tlearn: 1790.4327367\ttest: 1835.2345004\tbest: 1835.2345004 (45)\ttotal: 12.1s\tremaining: 1m 59s\n",
      "48:\tlearn: 1779.9809463\ttest: 1826.0229397\tbest: 1826.0229397 (48)\ttotal: 13s\tremaining: 1m 59s\n",
      "51:\tlearn: 1768.1701263\ttest: 1815.4403263\tbest: 1815.4403263 (51)\ttotal: 13.8s\tremaining: 1m 58s\n",
      "54:\tlearn: 1758.5590996\ttest: 1807.6310921\tbest: 1807.6310921 (54)\ttotal: 14.6s\tremaining: 1m 58s\n",
      "57:\tlearn: 1749.8826376\ttest: 1799.9768418\tbest: 1799.9768418 (57)\ttotal: 15.4s\tremaining: 1m 57s\n",
      "60:\tlearn: 1741.3583564\ttest: 1792.0310861\tbest: 1792.0310861 (60)\ttotal: 16.2s\tremaining: 1m 56s\n",
      "63:\tlearn: 1733.0164330\ttest: 1785.2033848\tbest: 1785.2033848 (63)\ttotal: 17s\tremaining: 1m 55s\n",
      "66:\tlearn: 1725.4190254\ttest: 1778.4554380\tbest: 1778.4554380 (66)\ttotal: 17.8s\tremaining: 1m 54s\n",
      "69:\tlearn: 1718.8613762\ttest: 1772.3985656\tbest: 1772.3985656 (69)\ttotal: 18.6s\tremaining: 1m 53s\n",
      "72:\tlearn: 1713.1720027\ttest: 1768.1223195\tbest: 1768.1223195 (72)\ttotal: 19.3s\tremaining: 1m 53s\n",
      "75:\tlearn: 1707.2880062\ttest: 1763.1934006\tbest: 1763.1934006 (75)\ttotal: 20.1s\tremaining: 1m 52s\n",
      "78:\tlearn: 1701.7458908\ttest: 1758.3415291\tbest: 1758.3415291 (78)\ttotal: 21s\tremaining: 1m 52s\n",
      "81:\tlearn: 1697.9252156\ttest: 1755.9273347\tbest: 1755.9273347 (81)\ttotal: 21.8s\tremaining: 1m 51s\n",
      "84:\tlearn: 1694.2745212\ttest: 1753.0006023\tbest: 1753.0006023 (84)\ttotal: 22.6s\tremaining: 1m 50s\n",
      "87:\tlearn: 1689.1573292\ttest: 1748.6625584\tbest: 1748.6625584 (87)\ttotal: 23.4s\tremaining: 1m 49s\n",
      "90:\tlearn: 1684.7671783\ttest: 1745.4466420\tbest: 1745.4466420 (90)\ttotal: 24.2s\tremaining: 1m 48s\n",
      "93:\tlearn: 1680.5961512\ttest: 1742.4388986\tbest: 1742.4388986 (93)\ttotal: 25s\tremaining: 1m 47s\n",
      "96:\tlearn: 1676.8252963\ttest: 1739.4477369\tbest: 1739.4477369 (96)\ttotal: 25.9s\tremaining: 1m 47s\n",
      "99:\tlearn: 1672.1270102\ttest: 1735.1499915\tbest: 1735.1499915 (99)\ttotal: 26.7s\tremaining: 1m 46s\n",
      "102:\tlearn: 1668.8542161\ttest: 1732.8939242\tbest: 1732.8939242 (102)\ttotal: 27.5s\tremaining: 1m 45s\n",
      "105:\tlearn: 1664.8011934\ttest: 1729.3825172\tbest: 1729.3825172 (105)\ttotal: 28.2s\tremaining: 1m 44s\n",
      "108:\tlearn: 1661.7122010\ttest: 1727.1018268\tbest: 1727.1018268 (108)\ttotal: 29s\tremaining: 1m 44s\n",
      "111:\tlearn: 1658.3484781\ttest: 1724.4193429\tbest: 1724.4193429 (111)\ttotal: 29.8s\tremaining: 1m 43s\n",
      "114:\tlearn: 1655.4420830\ttest: 1722.2936073\tbest: 1722.2936073 (114)\ttotal: 30.6s\tremaining: 1m 42s\n",
      "117:\tlearn: 1651.2030749\ttest: 1719.3564218\tbest: 1719.3564218 (117)\ttotal: 31.4s\tremaining: 1m 41s\n",
      "120:\tlearn: 1647.5291460\ttest: 1716.4328287\tbest: 1716.4328287 (120)\ttotal: 32.2s\tremaining: 1m 40s\n",
      "123:\tlearn: 1643.6133091\ttest: 1713.9044379\tbest: 1713.9044379 (123)\ttotal: 33s\tremaining: 1m 40s\n",
      "126:\tlearn: 1640.6810331\ttest: 1711.9168920\tbest: 1711.9168920 (126)\ttotal: 33.8s\tremaining: 1m 39s\n",
      "129:\tlearn: 1637.1664104\ttest: 1709.7939080\tbest: 1709.7939080 (129)\ttotal: 34.6s\tremaining: 1m 38s\n",
      "132:\tlearn: 1633.3469029\ttest: 1707.0997768\tbest: 1707.0997768 (132)\ttotal: 35.4s\tremaining: 1m 37s\n",
      "135:\tlearn: 1630.7075342\ttest: 1705.4223653\tbest: 1705.4223653 (135)\ttotal: 36.2s\tremaining: 1m 36s\n",
      "138:\tlearn: 1627.2237479\ttest: 1702.5715972\tbest: 1702.5715972 (138)\ttotal: 37s\tremaining: 1m 36s\n",
      "141:\tlearn: 1623.9864078\ttest: 1700.4201535\tbest: 1700.4201535 (141)\ttotal: 37.8s\tremaining: 1m 35s\n",
      "144:\tlearn: 1620.1780853\ttest: 1697.9342810\tbest: 1697.9342810 (144)\ttotal: 38.6s\tremaining: 1m 34s\n",
      "147:\tlearn: 1617.5346018\ttest: 1696.5399844\tbest: 1696.5399844 (147)\ttotal: 39.4s\tremaining: 1m 33s\n",
      "150:\tlearn: 1615.2732375\ttest: 1695.1802465\tbest: 1695.1802465 (150)\ttotal: 40.2s\tremaining: 1m 32s\n",
      "153:\tlearn: 1612.9525745\ttest: 1693.7993667\tbest: 1693.7993667 (153)\ttotal: 41s\tremaining: 1m 32s\n",
      "156:\tlearn: 1610.8912642\ttest: 1692.5346315\tbest: 1692.5346315 (156)\ttotal: 41.8s\tremaining: 1m 31s\n",
      "159:\tlearn: 1608.2308573\ttest: 1690.2709391\tbest: 1690.2709391 (159)\ttotal: 42.6s\tremaining: 1m 30s\n",
      "162:\tlearn: 1606.1993446\ttest: 1689.1052640\tbest: 1689.1052640 (162)\ttotal: 43.4s\tremaining: 1m 29s\n",
      "165:\tlearn: 1603.7487362\ttest: 1687.2594277\tbest: 1687.2594277 (165)\ttotal: 44.2s\tremaining: 1m 28s\n",
      "168:\tlearn: 1600.3863470\ttest: 1685.5893003\tbest: 1685.5893003 (168)\ttotal: 45s\tremaining: 1m 28s\n",
      "171:\tlearn: 1597.8884421\ttest: 1684.2867429\tbest: 1684.2867429 (171)\ttotal: 45.8s\tremaining: 1m 27s\n",
      "174:\tlearn: 1595.6685662\ttest: 1683.1980635\tbest: 1683.1980635 (174)\ttotal: 46.5s\tremaining: 1m 26s\n",
      "177:\tlearn: 1593.5644193\ttest: 1682.3067143\tbest: 1682.3067143 (177)\ttotal: 47.3s\tremaining: 1m 25s\n",
      "180:\tlearn: 1591.4704022\ttest: 1680.5280711\tbest: 1680.5280711 (180)\ttotal: 48.1s\tremaining: 1m 24s\n",
      "183:\tlearn: 1589.4929786\ttest: 1679.0718763\tbest: 1679.0718763 (183)\ttotal: 48.9s\tremaining: 1m 24s\n",
      "186:\tlearn: 1587.2948702\ttest: 1678.0709145\tbest: 1678.0709145 (186)\ttotal: 49.7s\tremaining: 1m 23s\n",
      "189:\tlearn: 1585.2831036\ttest: 1676.4831687\tbest: 1676.4831687 (189)\ttotal: 50.5s\tremaining: 1m 22s\n",
      "192:\tlearn: 1583.5074902\ttest: 1675.5041683\tbest: 1675.5041683 (192)\ttotal: 51.3s\tremaining: 1m 21s\n",
      "195:\tlearn: 1581.3665164\ttest: 1674.2868369\tbest: 1674.2868369 (195)\ttotal: 52.1s\tremaining: 1m 20s\n",
      "198:\tlearn: 1579.4379522\ttest: 1673.1095929\tbest: 1673.1095929 (198)\ttotal: 52.9s\tremaining: 1m 19s\n",
      "201:\tlearn: 1577.9135288\ttest: 1672.5609097\tbest: 1672.5609097 (201)\ttotal: 53.7s\tremaining: 1m 19s\n",
      "204:\tlearn: 1575.8725517\ttest: 1671.7687329\tbest: 1671.7687329 (204)\ttotal: 54.5s\tremaining: 1m 18s\n",
      "207:\tlearn: 1573.5956683\ttest: 1670.5918866\tbest: 1670.5918866 (207)\ttotal: 55.3s\tremaining: 1m 17s\n",
      "210:\tlearn: 1571.6132540\ttest: 1669.3578801\tbest: 1669.3578801 (210)\ttotal: 56.1s\tremaining: 1m 16s\n",
      "213:\tlearn: 1569.7088269\ttest: 1668.1852588\tbest: 1668.1852588 (213)\ttotal: 56.9s\tremaining: 1m 16s\n",
      "216:\tlearn: 1567.8796507\ttest: 1667.5299872\tbest: 1667.5299872 (216)\ttotal: 57.7s\tremaining: 1m 15s\n",
      "219:\tlearn: 1565.7855665\ttest: 1666.0753044\tbest: 1666.0753044 (219)\ttotal: 58.5s\tremaining: 1m 14s\n",
      "222:\tlearn: 1563.8325081\ttest: 1665.2318908\tbest: 1665.2318908 (222)\ttotal: 59.3s\tremaining: 1m 13s\n",
      "225:\tlearn: 1562.0647227\ttest: 1664.6774803\tbest: 1664.6774803 (225)\ttotal: 1m\tremaining: 1m 12s\n",
      "228:\tlearn: 1560.6897377\ttest: 1664.0262601\tbest: 1664.0262601 (228)\ttotal: 1m\tremaining: 1m 12s\n",
      "231:\tlearn: 1559.4694857\ttest: 1663.3615819\tbest: 1663.3615819 (231)\ttotal: 1m 1s\tremaining: 1m 11s\n",
      "234:\tlearn: 1558.1208384\ttest: 1662.7606115\tbest: 1662.7606115 (234)\ttotal: 1m 2s\tremaining: 1m 10s\n",
      "237:\tlearn: 1556.4672150\ttest: 1661.7953490\tbest: 1661.7953490 (237)\ttotal: 1m 3s\tremaining: 1m 9s\n",
      "240:\tlearn: 1555.3238957\ttest: 1661.3271902\tbest: 1661.3271902 (240)\ttotal: 1m 4s\tremaining: 1m 8s\n",
      "243:\tlearn: 1553.8200429\ttest: 1660.8124612\tbest: 1660.8124612 (243)\ttotal: 1m 4s\tremaining: 1m 8s\n",
      "246:\tlearn: 1552.3985596\ttest: 1659.8563588\tbest: 1659.8563588 (246)\ttotal: 1m 5s\tremaining: 1m 7s\n",
      "249:\tlearn: 1550.1321705\ttest: 1658.9386368\tbest: 1658.9386368 (249)\ttotal: 1m 6s\tremaining: 1m 6s\n",
      "252:\tlearn: 1548.3012375\ttest: 1658.1446042\tbest: 1658.1446042 (252)\ttotal: 1m 7s\tremaining: 1m 5s\n",
      "255:\tlearn: 1546.0228027\ttest: 1656.8191934\tbest: 1656.8191934 (255)\ttotal: 1m 8s\tremaining: 1m 4s\n",
      "258:\tlearn: 1544.4843188\ttest: 1656.3746858\tbest: 1656.3746858 (258)\ttotal: 1m 8s\tremaining: 1m 4s\n",
      "261:\tlearn: 1542.7829856\ttest: 1655.5682400\tbest: 1655.5682400 (261)\ttotal: 1m 9s\tremaining: 1m 3s\n",
      "264:\tlearn: 1541.0534646\ttest: 1654.7550255\tbest: 1654.7550255 (264)\ttotal: 1m 10s\tremaining: 1m 2s\n",
      "267:\tlearn: 1539.8579009\ttest: 1654.2237841\tbest: 1654.2237841 (267)\ttotal: 1m 11s\tremaining: 1m 1s\n",
      "270:\tlearn: 1538.7457757\ttest: 1654.0527047\tbest: 1654.0527047 (270)\ttotal: 1m 12s\tremaining: 1m\n",
      "273:\tlearn: 1537.0598179\ttest: 1653.4484478\tbest: 1653.4484478 (273)\ttotal: 1m 12s\tremaining: 1m\n",
      "276:\tlearn: 1535.0008648\ttest: 1652.4423422\tbest: 1652.4423422 (276)\ttotal: 1m 13s\tremaining: 59.3s\n",
      "279:\tlearn: 1534.0116392\ttest: 1651.9894720\tbest: 1651.9894720 (279)\ttotal: 1m 14s\tremaining: 58.5s\n",
      "282:\tlearn: 1532.7933480\ttest: 1651.3338102\tbest: 1651.3338102 (282)\ttotal: 1m 15s\tremaining: 57.7s\n",
      "285:\tlearn: 1531.4065843\ttest: 1650.6360371\tbest: 1650.6360371 (285)\ttotal: 1m 16s\tremaining: 56.9s\n",
      "288:\tlearn: 1530.1520595\ttest: 1650.1487755\tbest: 1650.1487755 (288)\ttotal: 1m 16s\tremaining: 56.1s\n",
      "291:\tlearn: 1528.8452841\ttest: 1649.4662642\tbest: 1649.4662642 (291)\ttotal: 1m 17s\tremaining: 55.3s\n",
      "294:\tlearn: 1527.5192882\ttest: 1649.0743848\tbest: 1649.0743848 (294)\ttotal: 1m 18s\tremaining: 54.4s\n",
      "297:\tlearn: 1526.3809155\ttest: 1648.7538335\tbest: 1648.7538335 (297)\ttotal: 1m 19s\tremaining: 53.6s\n",
      "300:\tlearn: 1525.2388451\ttest: 1648.3469715\tbest: 1648.3469715 (300)\ttotal: 1m 19s\tremaining: 52.8s\n",
      "303:\tlearn: 1524.2160895\ttest: 1648.0691922\tbest: 1648.0691922 (303)\ttotal: 1m 20s\tremaining: 52s\n",
      "306:\tlearn: 1522.7421477\ttest: 1647.2313160\tbest: 1647.2313160 (306)\ttotal: 1m 21s\tremaining: 51.2s\n",
      "309:\tlearn: 1521.3210713\ttest: 1646.7897596\tbest: 1646.7897596 (309)\ttotal: 1m 22s\tremaining: 50.4s\n",
      "312:\tlearn: 1519.9625309\ttest: 1646.0456580\tbest: 1646.0456580 (312)\ttotal: 1m 23s\tremaining: 49.6s\n",
      "315:\tlearn: 1518.3318478\ttest: 1645.6875868\tbest: 1645.6875868 (315)\ttotal: 1m 23s\tremaining: 48.8s\n",
      "318:\tlearn: 1516.6978312\ttest: 1644.9772247\tbest: 1644.9772247 (318)\ttotal: 1m 24s\tremaining: 48.1s\n",
      "321:\tlearn: 1515.5911907\ttest: 1644.4404403\tbest: 1644.4404403 (321)\ttotal: 1m 25s\tremaining: 47.3s\n",
      "324:\tlearn: 1514.5052579\ttest: 1644.1906190\tbest: 1644.1906190 (324)\ttotal: 1m 26s\tremaining: 46.5s\n",
      "327:\tlearn: 1513.3540161\ttest: 1643.9893949\tbest: 1643.9893949 (327)\ttotal: 1m 27s\tremaining: 45.7s\n",
      "330:\tlearn: 1511.9869900\ttest: 1643.3100798\tbest: 1643.3100798 (330)\ttotal: 1m 28s\tremaining: 44.9s\n",
      "333:\tlearn: 1510.6828812\ttest: 1642.6091479\tbest: 1642.6091479 (333)\ttotal: 1m 28s\tremaining: 44.2s\n",
      "336:\tlearn: 1509.2500936\ttest: 1642.0710803\tbest: 1642.0710803 (336)\ttotal: 1m 29s\tremaining: 43.4s\n",
      "339:\tlearn: 1508.1981305\ttest: 1641.7677101\tbest: 1641.7677101 (339)\ttotal: 1m 30s\tremaining: 42.6s\n",
      "342:\tlearn: 1506.8926244\ttest: 1641.1696083\tbest: 1641.1696083 (342)\ttotal: 1m 31s\tremaining: 41.8s\n",
      "345:\tlearn: 1505.7559770\ttest: 1640.7321963\tbest: 1640.7321963 (345)\ttotal: 1m 32s\tremaining: 41s\n",
      "348:\tlearn: 1504.6424404\ttest: 1640.0695613\tbest: 1640.0695613 (348)\ttotal: 1m 32s\tremaining: 40.2s\n",
      "351:\tlearn: 1503.5748111\ttest: 1639.9215564\tbest: 1639.9017599 (349)\ttotal: 1m 33s\tremaining: 39.4s\n",
      "354:\tlearn: 1502.6204604\ttest: 1639.5485157\tbest: 1639.5485157 (354)\ttotal: 1m 34s\tremaining: 38.6s\n",
      "357:\tlearn: 1501.4371097\ttest: 1638.9193941\tbest: 1638.9193941 (357)\ttotal: 1m 35s\tremaining: 37.8s\n",
      "360:\tlearn: 1500.5935340\ttest: 1638.4437730\tbest: 1638.4437730 (360)\ttotal: 1m 36s\tremaining: 37s\n",
      "363:\tlearn: 1499.5894390\ttest: 1638.1708609\tbest: 1638.1708609 (363)\ttotal: 1m 36s\tremaining: 36.2s\n",
      "366:\tlearn: 1498.5874661\ttest: 1637.5830661\tbest: 1637.5830661 (366)\ttotal: 1m 37s\tremaining: 35.4s\n",
      "369:\tlearn: 1497.7100803\ttest: 1637.3171751\tbest: 1637.3171751 (369)\ttotal: 1m 38s\tremaining: 34.6s\n",
      "372:\tlearn: 1496.4719351\ttest: 1636.8235061\tbest: 1636.8235061 (372)\ttotal: 1m 39s\tremaining: 33.8s\n",
      "375:\tlearn: 1495.2766416\ttest: 1636.2995826\tbest: 1636.2995826 (375)\ttotal: 1m 39s\tremaining: 33s\n",
      "378:\tlearn: 1494.1361630\ttest: 1635.9308933\tbest: 1635.9308933 (378)\ttotal: 1m 40s\tremaining: 32.2s\n",
      "381:\tlearn: 1493.3070022\ttest: 1635.6804528\tbest: 1635.6804528 (381)\ttotal: 1m 41s\tremaining: 31.4s\n",
      "384:\tlearn: 1492.3053973\ttest: 1635.3438219\tbest: 1635.3438219 (384)\ttotal: 1m 42s\tremaining: 30.6s\n",
      "387:\tlearn: 1491.4162547\ttest: 1634.9772760\tbest: 1634.9772760 (387)\ttotal: 1m 43s\tremaining: 29.8s\n",
      "390:\tlearn: 1490.4598174\ttest: 1634.6638195\tbest: 1634.6638195 (390)\ttotal: 1m 43s\tremaining: 29s\n",
      "393:\tlearn: 1489.4272380\ttest: 1634.3697277\tbest: 1634.3697277 (393)\ttotal: 1m 44s\tremaining: 28.2s\n",
      "396:\tlearn: 1488.2101786\ttest: 1633.9012964\tbest: 1633.9012964 (396)\ttotal: 1m 45s\tremaining: 27.4s\n",
      "399:\tlearn: 1487.0622667\ttest: 1633.5226266\tbest: 1633.5226266 (399)\ttotal: 1m 46s\tremaining: 26.6s\n",
      "402:\tlearn: 1485.6431520\ttest: 1632.8239320\tbest: 1632.8239320 (402)\ttotal: 1m 47s\tremaining: 25.8s\n",
      "405:\tlearn: 1484.6204751\ttest: 1632.3453213\tbest: 1632.3453213 (405)\ttotal: 1m 47s\tremaining: 25s\n",
      "408:\tlearn: 1483.5445271\ttest: 1631.9127297\tbest: 1631.9127297 (408)\ttotal: 1m 48s\tremaining: 24.2s\n",
      "411:\tlearn: 1482.5539626\ttest: 1631.4486139\tbest: 1631.4486139 (411)\ttotal: 1m 49s\tremaining: 23.4s\n",
      "414:\tlearn: 1481.8727341\ttest: 1631.1988277\tbest: 1631.1988277 (414)\ttotal: 1m 50s\tremaining: 22.6s\n",
      "417:\tlearn: 1480.6877118\ttest: 1630.8548798\tbest: 1630.8548798 (417)\ttotal: 1m 51s\tremaining: 21.8s\n",
      "420:\tlearn: 1479.5744455\ttest: 1630.5133575\tbest: 1630.5133575 (420)\ttotal: 1m 51s\tremaining: 21s\n",
      "423:\tlearn: 1478.3274080\ttest: 1629.7167769\tbest: 1629.7167769 (423)\ttotal: 1m 52s\tremaining: 20.2s\n",
      "426:\tlearn: 1477.2408790\ttest: 1629.1970518\tbest: 1629.1970518 (426)\ttotal: 1m 53s\tremaining: 19.4s\n",
      "429:\tlearn: 1476.1290563\ttest: 1628.9056347\tbest: 1628.9056347 (429)\ttotal: 1m 54s\tremaining: 18.6s\n",
      "432:\tlearn: 1475.1205913\ttest: 1628.3675623\tbest: 1628.3675623 (432)\ttotal: 1m 55s\tremaining: 17.8s\n",
      "435:\tlearn: 1474.1497284\ttest: 1628.2772916\tbest: 1628.2324394 (434)\ttotal: 1m 55s\tremaining: 17s\n",
      "438:\tlearn: 1473.2434540\ttest: 1627.8849103\tbest: 1627.8849103 (438)\ttotal: 1m 56s\tremaining: 16.2s\n",
      "441:\tlearn: 1472.4131565\ttest: 1627.6939236\tbest: 1627.6939236 (441)\ttotal: 1m 57s\tremaining: 15.4s\n",
      "444:\tlearn: 1471.3839662\ttest: 1627.3258646\tbest: 1627.3258646 (444)\ttotal: 1m 58s\tremaining: 14.6s\n",
      "447:\tlearn: 1470.5138090\ttest: 1626.9569030\tbest: 1626.9569030 (447)\ttotal: 1m 59s\tremaining: 13.8s\n",
      "450:\tlearn: 1469.6521306\ttest: 1626.7388905\tbest: 1626.7388905 (450)\ttotal: 1m 59s\tremaining: 13s\n",
      "453:\tlearn: 1468.8732963\ttest: 1626.5364500\tbest: 1626.5364500 (453)\ttotal: 2m\tremaining: 12.2s\n",
      "456:\tlearn: 1468.4468573\ttest: 1626.4762526\tbest: 1626.4683212 (455)\ttotal: 2m 1s\tremaining: 11.4s\n",
      "459:\tlearn: 1467.6227585\ttest: 1626.0622164\tbest: 1626.0622164 (459)\ttotal: 2m 2s\tremaining: 10.6s\n",
      "462:\tlearn: 1466.7602308\ttest: 1625.8394853\tbest: 1625.8394853 (462)\ttotal: 2m 3s\tremaining: 9.84s\n",
      "465:\tlearn: 1465.8473302\ttest: 1625.4548061\tbest: 1625.4548061 (465)\ttotal: 2m 3s\tremaining: 9.04s\n",
      "468:\tlearn: 1465.0044226\ttest: 1625.3589785\tbest: 1625.3427984 (467)\ttotal: 2m 4s\tremaining: 8.24s\n",
      "471:\tlearn: 1464.2018228\ttest: 1625.1121360\tbest: 1625.1121360 (471)\ttotal: 2m 5s\tremaining: 7.44s\n",
      "474:\tlearn: 1463.3009598\ttest: 1624.6167959\tbest: 1624.6167959 (474)\ttotal: 2m 6s\tremaining: 6.65s\n",
      "477:\tlearn: 1462.4081828\ttest: 1624.4859830\tbest: 1624.4859830 (477)\ttotal: 2m 7s\tremaining: 5.85s\n",
      "480:\tlearn: 1461.4537656\ttest: 1624.0877900\tbest: 1624.0877900 (480)\ttotal: 2m 7s\tremaining: 5.05s\n",
      "483:\tlearn: 1460.4523834\ttest: 1623.6078488\tbest: 1623.6078488 (483)\ttotal: 2m 8s\tremaining: 4.25s\n",
      "486:\tlearn: 1459.6416681\ttest: 1623.2393947\tbest: 1623.2393947 (486)\ttotal: 2m 9s\tremaining: 3.46s\n",
      "489:\tlearn: 1458.8907484\ttest: 1623.0868084\tbest: 1623.0868084 (489)\ttotal: 2m 10s\tremaining: 2.66s\n",
      "492:\tlearn: 1458.0474969\ttest: 1622.8014581\tbest: 1622.8014581 (492)\ttotal: 2m 11s\tremaining: 1.86s\n",
      "495:\tlearn: 1456.9489162\ttest: 1622.5038954\tbest: 1622.5038954 (495)\ttotal: 2m 11s\tremaining: 1.06s\n",
      "498:\tlearn: 1456.0675872\ttest: 1622.0678971\tbest: 1622.0678971 (498)\ttotal: 2m 12s\tremaining: 266ms\n",
      "499:\tlearn: 1455.7815226\ttest: 1622.0410369\tbest: 1622.0410369 (499)\ttotal: 2m 12s\tremaining: 0us\n",
      "\n",
      "bestTest = 1622.041037\n",
      "bestIteration = 499\n",
      "\n",
      "CatBoostRegressor train Average error:  942.79\n",
      "CatBoostRegressor train RMSE: 1455.7815226329321\n",
      "CatBoostRegressor test Average error:  1008.87\n",
      "CatBoostRegressor test RMSE: 1622.0410369330345\n",
      "CPU times: user 2min, sys: 15.5 s, total: 2min 15s\n",
      "Wall time: 2min 19s\n"
     ]
    }
   ],
   "source": [
    "%%time\n",
    "\n",
    "t0 = time.time()\n",
    "\n",
    "\n",
    "# params = grid_search_results['params']\n",
    "params = {'depth': 10, 'iterations': 500, 'learning_rate': 0.1}\n",
    "\n",
    "cb_rmse = CatBoostRegressor(\n",
    "    loss_function='RMSE', \n",
    "    verbose=3,\n",
    "    **params\n",
    ")\n",
    "\n",
    "cb_rmse.fit(\n",
    "    train_pool, \n",
    "    eval_set=test_pool\n",
    ")\n",
    "\n",
    "y_pred_train = cb_rmse.predict(train_pool)\n",
    "y_pred = cb_rmse.predict(test_pool)\n",
    "rmse_train, rmse_test = print_score_cmp('CatBoostRegressor', y_train, y_pred_train, y_test, y_pred)\n",
    "df_result = df_result_add(df_result, 'CatBoostRegressor', rmse_train, rmse_test, (time.time() - t0))\n"
   ]
  },
  {
   "cell_type": "markdown",
   "metadata": {},
   "source": [
    "# 3. Анализ моделей"
   ]
  },
  {
   "cell_type": "code",
   "execution_count": 76,
   "metadata": {
    "scrolled": true
   },
   "outputs": [
    {
     "data": {
      "text/markdown": [
       "### Сравнение моделей"
      ],
      "text/plain": [
       "<IPython.core.display.Markdown object>"
      ]
     },
     "metadata": {},
     "output_type": "display_data"
    },
    {
     "data": {
      "text/html": [
       "<table style=\"display:inline;margin-right: 10px;\" border=\"1\" class=\"dataframe\">\n",
       "  <thead>\n",
       "    <tr style=\"text-align: right;\">\n",
       "      <th></th>\n",
       "      <th>nick</th>\n",
       "      <th>rmse_train</th>\n",
       "      <th>rmse_test</th>\n",
       "      <th>time</th>\n",
       "    </tr>\n",
       "  </thead>\n",
       "  <tbody>\n",
       "    <tr>\n",
       "      <th>0</th>\n",
       "      <td>Baseline</td>\n",
       "      <td>4571.545490</td>\n",
       "      <td>4594.845324</td>\n",
       "      <td>0</td>\n",
       "    </tr>\n",
       "    <tr>\n",
       "      <th>1</th>\n",
       "      <td>LinearRegression</td>\n",
       "      <td>2692.158269</td>\n",
       "      <td>2709.063512</td>\n",
       "      <td>30.1797</td>\n",
       "    </tr>\n",
       "    <tr>\n",
       "      <th>2</th>\n",
       "      <td>RandomForestRegressor</td>\n",
       "      <td>887.654062</td>\n",
       "      <td>1777.188767</td>\n",
       "      <td>132.707</td>\n",
       "    </tr>\n",
       "    <tr>\n",
       "      <th>3</th>\n",
       "      <td>LGBMRegressor</td>\n",
       "      <td>2195.622109</td>\n",
       "      <td>2223.253494</td>\n",
       "      <td>72.1354</td>\n",
       "    </tr>\n",
       "    <tr>\n",
       "      <th>4</th>\n",
       "      <td>CatBoostRegressor</td>\n",
       "      <td>1455.781523</td>\n",
       "      <td>1622.041037</td>\n",
       "      <td>139.848</td>\n",
       "    </tr>\n",
       "  </tbody>\n",
       "</table style=\"display:inline;margin-right: 10px;\">"
      ]
     },
     "metadata": {},
     "output_type": "display_data"
    }
   ],
   "source": [
    "print_header('Сравнение моделей')\n",
    "print_df(df_result)"
   ]
  },
  {
   "cell_type": "markdown",
   "metadata": {},
   "source": [
    "# Выводы\n",
    "\n",
    "Лучшая модель - CatBoostRegressor c RMSE: 1622\n",
    "\n",
    "Что еще можно улучшить\n",
    "* Можно восстановить данные для моделей датированых 1910 и 1000 годом. Нужно подтвердить гипотезу что записи с моделями автомобилей этих лет выппущены в 2010 и 2000 году соответственно\n",
    "* PostalCode - хороший признак в который можно углубиться. От региона может зависить стоимость автомобиля, но приведение этого признака к пригодному для использования виду это отдельный проект\n",
    "* Для восстановления признаков Model, Gearbox, FuelType, VehicleType, RegistrationYear можно обучить модель. Берем строки где не задан признак Model, обучаем модель на признаках Brand, Gearbox, FuelType, VehicleType, RegistrationYear."
   ]
  }
 ],
 "metadata": {
  "kernelspec": {
   "display_name": "Python 3",
   "language": "python",
   "name": "python3"
  },
  "language_info": {
   "codemirror_mode": {
    "name": "ipython",
    "version": 3
   },
   "file_extension": ".py",
   "mimetype": "text/x-python",
   "name": "python",
   "nbconvert_exporter": "python",
   "pygments_lexer": "ipython3",
   "version": "3.7.6"
  }
 },
 "nbformat": 4,
 "nbformat_minor": 2
}
