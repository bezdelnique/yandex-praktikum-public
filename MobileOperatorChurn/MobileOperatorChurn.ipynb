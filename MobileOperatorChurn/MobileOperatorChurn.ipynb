{
 "cells": [
  {
   "cell_type": "markdown",
   "metadata": {},
   "source": [
    "## Условие задачи\n",
    "\n",
    "Оператор связи «Ниединогоразрыва.ком» хочет научиться прогнозировать отток клиентов. Если выяснится, что пользователь планирует уйти, ему будут предложены промокоды и специальные условия. Команда оператора собрала персональные данные о некоторых клиентах, информацию об их тарифах и договорах.\n",
    "\n",
    "Ситуация на рынке складывается такая, что из-за конкуренции мы начали фиксировать ощутимый отток клиентов. Было принято решение давать скидку абонентам для сохранения абонентской базы. Но так как финансовые ресурсы у нас ограничены, необходимо таргетировать скидку на бегунков.\n",
    "\n",
    "\n",
    "### Описание услуг\n",
    "\n",
    "Оператор предоставляет два основных типа услуг: \n",
    "\n",
    "1. Стационарную телефонную связь. Возможно подключение телефонного аппарата к нескольким линиям одновременно.\n",
    "2. Интернет. Подключение может быть двух типов: через телефонную линию (DSL*,* от англ. *digital subscriber line*, «цифровая абонентская линия») или оптоволоконный кабель (*Fiber optic*)."
   ]
  },
  {
   "cell_type": "code",
   "execution_count": 1,
   "metadata": {},
   "outputs": [],
   "source": [
    "from pathlib import Path"
   ]
  },
  {
   "cell_type": "code",
   "execution_count": 2,
   "metadata": {},
   "outputs": [],
   "source": [
    "import numpy as np\n",
    "import pandas as pd\n",
    "import matplotlib.pyplot as plt\n",
    "import matplotlib.ticker as ticker\n"
   ]
  },
  {
   "cell_type": "code",
   "execution_count": 3,
   "metadata": {},
   "outputs": [],
   "source": [
    "from sklearn.model_selection import train_test_split\n",
    "from sklearn.linear_model import LogisticRegression\n",
    "\n",
    "from sklearn.metrics import roc_auc_score\n",
    "from sklearn.metrics import roc_curve\n",
    "from sklearn.metrics import f1_score\n",
    "from sklearn.metrics import accuracy_score\n",
    "\n",
    "# from sklearn.metrics import confusion_matrix\n",
    "from sklearn.metrics import recall_score\n",
    "from sklearn.metrics import precision_score\n",
    "from sklearn.metrics import roc_auc_score\n"
   ]
  },
  {
   "cell_type": "code",
   "execution_count": 4,
   "metadata": {},
   "outputs": [],
   "source": [
    "from sklearn.ensemble import RandomForestClassifier\n",
    "from sklearn.model_selection import GridSearchCV, RandomizedSearchCV\n",
    "from sklearn.metrics import make_scorer\n"
   ]
  },
  {
   "cell_type": "code",
   "execution_count": 5,
   "metadata": {},
   "outputs": [
    {
     "name": "stdout",
     "output_type": "stream",
     "text": [
      "CatBoost version 0.23.2\n"
     ]
    }
   ],
   "source": [
    "import catboost as cb\n",
    "from catboost import CatBoostClassifier, Pool\n",
    "from catboost import MetricVisualizer\n",
    "# from catboost.utils import get_roc_curve\n",
    "\n",
    "print('CatBoost version {}'.format(cb.__version__))\n"
   ]
  },
  {
   "cell_type": "code",
   "execution_count": 6,
   "metadata": {},
   "outputs": [],
   "source": [
    "from IPython.display import Markdown, display\n",
    "from IPython.display import display, HTML\n",
    "\n",
    "def printmd(string):\n",
    "    display(Markdown(string))\n",
    "\n",
    "# def printmd(string, color=None):\n",
    "#     colorstr = \"<span style='color:{}'>{}</span>\".format(color, string)\n",
    "#     display(Markdown(colorstr))\n",
    "    \n",
    "    \n",
    "def print_bold(msg):\n",
    "    printmd('**{}**'.format(msg))\n",
    "\n",
    "def print_italic(msg):\n",
    "    printmd('*{}*'.format(msg))\n",
    "\n",
    "def print_header(msg):\n",
    "    printmd('### {}'.format(msg))\n",
    "\n",
    "\n",
    "def print_table(df):\n",
    "    # display(HTML(df.to_html()))\n",
    "    display(df)\n",
    "\n",
    "# print_bold('bold')\n",
    "# print_italic('italic')\n",
    "# print_header('header')"
   ]
  },
  {
   "cell_type": "code",
   "execution_count": 7,
   "metadata": {},
   "outputs": [],
   "source": [
    "base_dir = ''\n",
    "if not Path('.local').is_file():\n",
    "    base_dir = '/datasets/final_provider/'\n",
    "  \n",
    "contract_data = pd.read_csv(base_dir + 'contract.csv')\n",
    "internet_data = pd.read_csv(base_dir + 'internet.csv')\n",
    "personal_data = pd.read_csv(base_dir + 'personal.csv')\n",
    "phone_data = pd.read_csv(base_dir + 'phone.csv')"
   ]
  },
  {
   "cell_type": "markdown",
   "metadata": {},
   "source": [
    "# Исследование данных"
   ]
  },
  {
   "cell_type": "code",
   "execution_count": 8,
   "metadata": {},
   "outputs": [],
   "source": [
    "def prc_(a,b):\n",
    "    return round(a/b*100,2)"
   ]
  },
  {
   "cell_type": "markdown",
   "metadata": {},
   "source": [
    "## Информация о договоре"
   ]
  },
  {
   "cell_type": "code",
   "execution_count": 9,
   "metadata": {},
   "outputs": [
    {
     "data": {
      "text/plain": [
       "(7043, 8)"
      ]
     },
     "execution_count": 9,
     "metadata": {},
     "output_type": "execute_result"
    }
   ],
   "source": [
    "contract_data.shape"
   ]
  },
  {
   "cell_type": "code",
   "execution_count": 10,
   "metadata": {
    "scrolled": true
   },
   "outputs": [
    {
     "name": "stdout",
     "output_type": "stream",
     "text": [
      "<class 'pandas.core.frame.DataFrame'>\n",
      "RangeIndex: 7043 entries, 0 to 7042\n",
      "Data columns (total 8 columns):\n",
      " #   Column            Non-Null Count  Dtype  \n",
      "---  ------            --------------  -----  \n",
      " 0   customerID        7043 non-null   object \n",
      " 1   BeginDate         7043 non-null   object \n",
      " 2   EndDate           7043 non-null   object \n",
      " 3   Type              7043 non-null   object \n",
      " 4   PaperlessBilling  7043 non-null   object \n",
      " 5   PaymentMethod     7043 non-null   object \n",
      " 6   MonthlyCharges    7043 non-null   float64\n",
      " 7   TotalCharges      7043 non-null   object \n",
      "dtypes: float64(1), object(7)\n",
      "memory usage: 440.3+ KB\n"
     ]
    }
   ],
   "source": [
    "contract_data.info()"
   ]
  },
  {
   "cell_type": "code",
   "execution_count": 11,
   "metadata": {},
   "outputs": [
    {
     "data": {
      "text/html": [
       "<div>\n",
       "<style scoped>\n",
       "    .dataframe tbody tr th:only-of-type {\n",
       "        vertical-align: middle;\n",
       "    }\n",
       "\n",
       "    .dataframe tbody tr th {\n",
       "        vertical-align: top;\n",
       "    }\n",
       "\n",
       "    .dataframe thead th {\n",
       "        text-align: right;\n",
       "    }\n",
       "</style>\n",
       "<table border=\"1\" class=\"dataframe\">\n",
       "  <thead>\n",
       "    <tr style=\"text-align: right;\">\n",
       "      <th></th>\n",
       "      <th>customerID</th>\n",
       "      <th>BeginDate</th>\n",
       "      <th>EndDate</th>\n",
       "      <th>Type</th>\n",
       "      <th>PaperlessBilling</th>\n",
       "      <th>PaymentMethod</th>\n",
       "      <th>MonthlyCharges</th>\n",
       "      <th>TotalCharges</th>\n",
       "    </tr>\n",
       "  </thead>\n",
       "  <tbody>\n",
       "    <tr>\n",
       "      <th>0</th>\n",
       "      <td>7590-VHVEG</td>\n",
       "      <td>2020-01-01</td>\n",
       "      <td>No</td>\n",
       "      <td>Month-to-month</td>\n",
       "      <td>Yes</td>\n",
       "      <td>Electronic check</td>\n",
       "      <td>29.85</td>\n",
       "      <td>29.85</td>\n",
       "    </tr>\n",
       "    <tr>\n",
       "      <th>1</th>\n",
       "      <td>5575-GNVDE</td>\n",
       "      <td>2017-04-01</td>\n",
       "      <td>No</td>\n",
       "      <td>One year</td>\n",
       "      <td>No</td>\n",
       "      <td>Mailed check</td>\n",
       "      <td>56.95</td>\n",
       "      <td>1889.5</td>\n",
       "    </tr>\n",
       "    <tr>\n",
       "      <th>2</th>\n",
       "      <td>3668-QPYBK</td>\n",
       "      <td>2019-10-01</td>\n",
       "      <td>2019-12-01 00:00:00</td>\n",
       "      <td>Month-to-month</td>\n",
       "      <td>Yes</td>\n",
       "      <td>Mailed check</td>\n",
       "      <td>53.85</td>\n",
       "      <td>108.15</td>\n",
       "    </tr>\n",
       "  </tbody>\n",
       "</table>\n",
       "</div>"
      ],
      "text/plain": [
       "   customerID   BeginDate              EndDate            Type  \\\n",
       "0  7590-VHVEG  2020-01-01                   No  Month-to-month   \n",
       "1  5575-GNVDE  2017-04-01                   No        One year   \n",
       "2  3668-QPYBK  2019-10-01  2019-12-01 00:00:00  Month-to-month   \n",
       "\n",
       "  PaperlessBilling     PaymentMethod  MonthlyCharges TotalCharges  \n",
       "0              Yes  Electronic check           29.85        29.85  \n",
       "1               No      Mailed check           56.95       1889.5  \n",
       "2              Yes      Mailed check           53.85       108.15  "
      ]
     },
     "execution_count": 11,
     "metadata": {},
     "output_type": "execute_result"
    }
   ],
   "source": [
    "contract_data.head(3)"
   ]
  },
  {
   "cell_type": "code",
   "execution_count": 12,
   "metadata": {},
   "outputs": [
    {
     "data": {
      "text/markdown": [
       "**Количество ид клиентов в разных таблицах**"
      ],
      "text/plain": [
       "<IPython.core.display.Markdown object>"
      ]
     },
     "metadata": {},
     "output_type": "display_data"
    },
    {
     "name": "stdout",
     "output_type": "stream",
     "text": [
      "personal: 7043\n",
      "contract: 7043\n",
      "phone: 6361\n",
      "internet: 5517\n"
     ]
    },
    {
     "data": {
      "text/markdown": [
       "*Есть клиенты использующие услугу интернет и не использующие услугу телефон и наоборот*"
      ],
      "text/plain": [
       "<IPython.core.display.Markdown object>"
      ]
     },
     "metadata": {},
     "output_type": "display_data"
    }
   ],
   "source": [
    "print_bold('Количество ид клиентов в разных таблицах')\n",
    "print('personal: {}\\ncontract: {}\\nphone: {}\\ninternet: {}'.format(\n",
    "    personal_data['customerID'].nunique(),\n",
    "    contract_data['customerID'].nunique(),\n",
    "    phone_data['customerID'].nunique(),\n",
    "    internet_data['customerID'].nunique()\n",
    "))\n",
    "print_italic('Есть клиенты использующие услугу интернет и не использующие услугу телефон и наоборот')\n"
   ]
  },
  {
   "cell_type": "code",
   "execution_count": 13,
   "metadata": {},
   "outputs": [
    {
     "data": {
      "text/markdown": [
       "**Отказники**"
      ],
      "text/plain": [
       "<IPython.core.display.Markdown object>"
      ]
     },
     "metadata": {},
     "output_type": "display_data"
    },
    {
     "name": "stdout",
     "output_type": "stream",
     "text": [
      "0    5174\n",
      "1    1869\n",
      "Name: Cancel, dtype: int64\n"
     ]
    },
    {
     "data": {
      "text/markdown": [
       "*Отказники это те у которых проставлена дата окончания договора.*"
      ],
      "text/plain": [
       "<IPython.core.display.Markdown object>"
      ]
     },
     "metadata": {},
     "output_type": "display_data"
    }
   ],
   "source": [
    "contract_data['Cancel'] = 1\n",
    "contract_data.loc[contract_data.query('EndDate==\"No\"').index, 'Cancel'] = 0\n",
    "print_bold('Отказники')\n",
    "print(contract_data['Cancel'].value_counts())\n",
    "print_italic('Отказники это те у которых проставлена дата окончания договора.')"
   ]
  },
  {
   "cell_type": "code",
   "execution_count": 14,
   "metadata": {},
   "outputs": [
    {
     "data": {
      "text/markdown": [
       "*Преобразование дат в тип \"дата\".*"
      ],
      "text/plain": [
       "<IPython.core.display.Markdown object>"
      ]
     },
     "metadata": {},
     "output_type": "display_data"
    }
   ],
   "source": [
    "contract_data['BeginDate'] = pd.to_datetime(contract_data['BeginDate'])\n",
    "contract_data['EndDate_'] = pd.to_datetime(contract_data['EndDate'], errors='coerce')\n",
    "\n",
    "print_italic('Преобразование дат в тип \"дата\".')"
   ]
  },
  {
   "cell_type": "code",
   "execution_count": 15,
   "metadata": {
    "scrolled": true
   },
   "outputs": [
    {
     "name": "stdout",
     "output_type": "stream",
     "text": [
      "BeginDate from: 2013-10-01 00:00:00\n",
      "BeginDate to: 2020-02-01 00:00:00\n",
      "EndDate from: 2019-10-01 00:00:00\n",
      "EndDate to: 2020-01-01 00:00:00\n"
     ]
    },
    {
     "data": {
      "text/markdown": [
       "*Периоды дат начала гораздо шире дат окончания договора.*"
      ],
      "text/plain": [
       "<IPython.core.display.Markdown object>"
      ]
     },
     "metadata": {},
     "output_type": "display_data"
    }
   ],
   "source": [
    "print('BeginDate from: {}\\nBeginDate to: {}\\nEndDate from: {}\\nEndDate to: {}'.format(\n",
    "contract_data['BeginDate'].min(),\n",
    "    contract_data['BeginDate'].max(),\n",
    "    contract_data['EndDate_'].min(),\n",
    "    contract_data['EndDate_'].max(),\n",
    "))\n",
    "\n",
    "print_italic('Периоды дат начала гораздо шире дат окончания договора.')"
   ]
  },
  {
   "cell_type": "code",
   "execution_count": 16,
   "metadata": {
    "scrolled": false
   },
   "outputs": [
    {
     "data": {
      "text/markdown": [
       "*Есть выброс в районе 2014-01 и увеленичение кол-ва договоров к концу 2019 года*"
      ],
      "text/plain": [
       "<IPython.core.display.Markdown object>"
      ]
     },
     "metadata": {},
     "output_type": "display_data"
    },
    {
     "data": {
      "image/png": "[encoded data removed]",
      "text/plain": [
       "<Figure size 1440x576 with 1 Axes>"
      ]
     },
     "metadata": {
      "needs_background": "light"
     },
     "output_type": "display_data"
    }
   ],
   "source": [
    "(\n",
    "    contract_data\n",
    "    .sort_values(by='BeginDate', ascending=True)\n",
    "    .groupby([contract_data[\"BeginDate\"].dt.year, contract_data[\"BeginDate\"].dt.month])['BeginDate']\n",
    "    .count()\n",
    "    .plot(kind=\"bar\", figsize=(20,8), rot=60, grid=True, title='Даты начала контрактов')\n",
    ")\n",
    "\n",
    "print_italic('Есть выброс в районе 2014-01 и увеленичение кол-ва договоров к концу 2019 года')"
   ]
  },
  {
   "cell_type": "code",
   "execution_count": 17,
   "metadata": {},
   "outputs": [
    {
     "data": {
      "text/markdown": [
       "*Наглядно видно что закрытие договоров сосредоточено в 4 датах*"
      ],
      "text/plain": [
       "<IPython.core.display.Markdown object>"
      ]
     },
     "metadata": {},
     "output_type": "display_data"
    },
    {
     "data": {
      "image/png": "[encoded data removed]",
      "text/plain": [
       "<Figure size 432x288 with 1 Axes>"
      ]
     },
     "metadata": {
      "needs_background": "light"
     },
     "output_type": "display_data"
    }
   ],
   "source": [
    "(\n",
    "    contract_data\n",
    "    .sort_values(by='EndDate_', ascending=True)\n",
    "    .groupby([contract_data[\"EndDate_\"].dt.year, contract_data[\"EndDate_\"].dt.month])['EndDate_']\n",
    "    .count()\n",
    "    .plot(kind=\"bar\", rot=60)\n",
    ")\n",
    "\n",
    "print_italic('Наглядно видно что закрытие договоров сосредоточено в 4 датах')"
   ]
  },
  {
   "cell_type": "code",
   "execution_count": 18,
   "metadata": {},
   "outputs": [
    {
     "name": "stdout",
     "output_type": "stream",
     "text": [
      "Уникальных дат начала договора: 77, уникальных дат окончания договора: 4 (5.19%)\n"
     ]
    }
   ],
   "source": [
    "open_cnt = contract_data[\"BeginDate\"].nunique()\n",
    "close_cnt = contract_data[\"EndDate_\"].nunique()\n",
    "\n",
    "print('Уникальных дат начала договора: {}, уникальных дат окончания договора: {} ({}%)'.format(\n",
    "    open_cnt,\n",
    "    close_cnt,\n",
    "    prc_(close_cnt, open_cnt)\n",
    "))"
   ]
  },
  {
   "cell_type": "code",
   "execution_count": 19,
   "metadata": {},
   "outputs": [
    {
     "data": {
      "text/markdown": [
       "*Большая часть договоров отказников заключена за последние 6 месяцев*"
      ],
      "text/plain": [
       "<IPython.core.display.Markdown object>"
      ]
     },
     "metadata": {},
     "output_type": "display_data"
    },
    {
     "data": {
      "image/png": "[encoded data removed]",
      "text/plain": [
       "<Figure size 1440x576 with 1 Axes>"
      ]
     },
     "metadata": {
      "needs_background": "light"
     },
     "output_type": "display_data"
    }
   ],
   "source": [
    "(\n",
    "    contract_data\n",
    "    .query('Cancel == 1')\n",
    "    .sort_values(by='BeginDate', ascending=True)\n",
    "    .groupby([contract_data[\"BeginDate\"].dt.year, contract_data[\"BeginDate\"].dt.month])['BeginDate']\n",
    "    .count()\n",
    "    .plot(kind=\"bar\", figsize=(20,8), rot=60, grid=True, title='Даты начала контрактов для отказников')\n",
    ")\n",
    "\n",
    "print_italic('Большая часть договоров отказников заключена за последние 6 месяцев')"
   ]
  },
  {
   "cell_type": "code",
   "execution_count": 20,
   "metadata": {},
   "outputs": [
    {
     "name": "stdout",
     "output_type": "stream",
     "text": [
      "Отказников с контрактам до 2019-06: 1109, после 2019-06: 760 (40.66%)\n"
     ]
    }
   ],
   "source": [
    "total = contract_data.query('Cancel == 1')['customerID'].count()\n",
    "after = contract_data.query('Cancel == 1 and BeginDate >= \"2019-06\"')['customerID'].count()\n",
    "before = contract_data.query('Cancel == 1 and BeginDate < \"2019-06\"')['customerID'].count()\n",
    "\n",
    "print('Отказников с контрактам до 2019-06: {}, после 2019-06: {} ({}%)'.format(\n",
    "    before,\n",
    "    after,\n",
    "    prc_(after, total)\n",
    "))\n"
   ]
  },
  {
   "cell_type": "code",
   "execution_count": 21,
   "metadata": {},
   "outputs": [
    {
     "data": {
      "text/html": [
       "<div>\n",
       "<style scoped>\n",
       "    .dataframe tbody tr th:only-of-type {\n",
       "        vertical-align: middle;\n",
       "    }\n",
       "\n",
       "    .dataframe tbody tr th {\n",
       "        vertical-align: top;\n",
       "    }\n",
       "\n",
       "    .dataframe thead th {\n",
       "        text-align: right;\n",
       "    }\n",
       "</style>\n",
       "<table border=\"1\" class=\"dataframe\">\n",
       "  <thead>\n",
       "    <tr style=\"text-align: right;\">\n",
       "      <th></th>\n",
       "      <th>customerID</th>\n",
       "      <th>BeginDate</th>\n",
       "      <th>EndDate</th>\n",
       "      <th>Type</th>\n",
       "      <th>PaperlessBilling</th>\n",
       "      <th>PaymentMethod</th>\n",
       "      <th>MonthlyCharges</th>\n",
       "      <th>TotalCharges</th>\n",
       "      <th>Cancel</th>\n",
       "      <th>EndDate_</th>\n",
       "    </tr>\n",
       "  </thead>\n",
       "  <tbody>\n",
       "    <tr>\n",
       "      <th>0</th>\n",
       "      <td>7590-VHVEG</td>\n",
       "      <td>2020-01-01</td>\n",
       "      <td>No</td>\n",
       "      <td>Month-to-month</td>\n",
       "      <td>Yes</td>\n",
       "      <td>Electronic check</td>\n",
       "      <td>29.85</td>\n",
       "      <td>29.85</td>\n",
       "      <td>0</td>\n",
       "      <td>NaT</td>\n",
       "    </tr>\n",
       "    <tr>\n",
       "      <th>1</th>\n",
       "      <td>5575-GNVDE</td>\n",
       "      <td>2017-04-01</td>\n",
       "      <td>No</td>\n",
       "      <td>One year</td>\n",
       "      <td>No</td>\n",
       "      <td>Mailed check</td>\n",
       "      <td>56.95</td>\n",
       "      <td>1889.5</td>\n",
       "      <td>0</td>\n",
       "      <td>NaT</td>\n",
       "    </tr>\n",
       "    <tr>\n",
       "      <th>2</th>\n",
       "      <td>3668-QPYBK</td>\n",
       "      <td>2019-10-01</td>\n",
       "      <td>2019-12-01 00:00:00</td>\n",
       "      <td>Month-to-month</td>\n",
       "      <td>Yes</td>\n",
       "      <td>Mailed check</td>\n",
       "      <td>53.85</td>\n",
       "      <td>108.15</td>\n",
       "      <td>1</td>\n",
       "      <td>2019-12-01</td>\n",
       "    </tr>\n",
       "  </tbody>\n",
       "</table>\n",
       "</div>"
      ],
      "text/plain": [
       "   customerID  BeginDate              EndDate            Type  \\\n",
       "0  7590-VHVEG 2020-01-01                   No  Month-to-month   \n",
       "1  5575-GNVDE 2017-04-01                   No        One year   \n",
       "2  3668-QPYBK 2019-10-01  2019-12-01 00:00:00  Month-to-month   \n",
       "\n",
       "  PaperlessBilling     PaymentMethod  MonthlyCharges TotalCharges  Cancel  \\\n",
       "0              Yes  Electronic check           29.85        29.85       0   \n",
       "1               No      Mailed check           56.95       1889.5       0   \n",
       "2              Yes      Mailed check           53.85       108.15       1   \n",
       "\n",
       "    EndDate_  \n",
       "0        NaT  \n",
       "1        NaT  \n",
       "2 2019-12-01  "
      ]
     },
     "execution_count": 21,
     "metadata": {},
     "output_type": "execute_result"
    }
   ],
   "source": [
    "contract_data.head(3)"
   ]
  },
  {
   "cell_type": "code",
   "execution_count": 22,
   "metadata": {},
   "outputs": [
    {
     "data": {
      "text/markdown": [
       "### Анализ возможных значений колонок"
      ],
      "text/plain": [
       "<IPython.core.display.Markdown object>"
      ]
     },
     "metadata": {},
     "output_type": "display_data"
    },
    {
     "data": {
      "text/markdown": [
       "**Type**"
      ],
      "text/plain": [
       "<IPython.core.display.Markdown object>"
      ]
     },
     "metadata": {},
     "output_type": "display_data"
    },
    {
     "name": "stdout",
     "output_type": "stream",
     "text": [
      "Month-to-month    3875\n",
      "Two year          1695\n",
      "One year          1473\n",
      "Name: Type, dtype: int64\n"
     ]
    },
    {
     "data": {
      "text/markdown": [
       "**PaymentMethod**"
      ],
      "text/plain": [
       "<IPython.core.display.Markdown object>"
      ]
     },
     "metadata": {},
     "output_type": "display_data"
    },
    {
     "name": "stdout",
     "output_type": "stream",
     "text": [
      "Electronic check             2365\n",
      "Mailed check                 1612\n",
      "Bank transfer (automatic)    1544\n",
      "Credit card (automatic)      1522\n",
      "Name: PaymentMethod, dtype: int64\n"
     ]
    }
   ],
   "source": [
    "print_header('Анализ возможных значений колонок')\n",
    "\n",
    "cols = ['Type', 'PaymentMethod']\n",
    "for col in cols:\n",
    "    print_bold(col)\n",
    "    print(contract_data[col].value_counts())"
   ]
  },
  {
   "cell_type": "code",
   "execution_count": 23,
   "metadata": {},
   "outputs": [
    {
     "data": {
      "text/markdown": [
       "### Анализ пропущенных значений"
      ],
      "text/plain": [
       "<IPython.core.display.Markdown object>"
      ]
     },
     "metadata": {},
     "output_type": "display_data"
    },
    {
     "name": "stdout",
     "output_type": "stream",
     "text": [
      "NA customerID: 0 (0.0%)\n",
      "NA BeginDate: 0 (0.0%)\n",
      "NA EndDate: 0 (0.0%)\n",
      "NA Type: 0 (0.0%)\n",
      "NA PaperlessBilling: 0 (0.0%)\n",
      "NA PaymentMethod: 0 (0.0%)\n",
      "NA MonthlyCharges: 0 (0.0%)\n",
      "NA TotalCharges: 0 (0.0%)\n",
      "NA Cancel: 0 (0.0%)\n",
      "NA EndDate_: 5174 (73.46%)\n"
     ]
    }
   ],
   "source": [
    "print_header('Анализ пропущенных значений')\n",
    "\n",
    "total = contract_data.shape[0]\n",
    "for col in contract_data.columns:\n",
    "    na = contract_data[contract_data[col].isna() == True].shape[0]\n",
    "    prc = round(na/total*100, 2)\n",
    "    print('NA {}: {} ({}%)'.format(col, na, prc))"
   ]
  },
  {
   "cell_type": "code",
   "execution_count": 24,
   "metadata": {},
   "outputs": [
    {
     "data": {
      "text/markdown": [
       "*Преобразоване колонки TotalCharges к числу*"
      ],
      "text/plain": [
       "<IPython.core.display.Markdown object>"
      ]
     },
     "metadata": {},
     "output_type": "display_data"
    }
   ],
   "source": [
    "contract_data = contract_data[contract_data['TotalCharges'].isna() == False]\n",
    "contract_data = contract_data[contract_data['TotalCharges'] != ' ']\n",
    "contract_data.loc[contract_data.index, 'TotalCharges'] = pd.to_numeric(contract_data['TotalCharges'])\n",
    "\n",
    "print_italic('Преобразоване колонки TotalCharges к числу')\n"
   ]
  },
  {
   "cell_type": "code",
   "execution_count": 25,
   "metadata": {},
   "outputs": [
    {
     "data": {
      "text/markdown": [
       "*Выделение колонки UsingDuration - кол-во месяцев использования. Уникальных значений: 73*"
      ],
      "text/plain": [
       "<IPython.core.display.Markdown object>"
      ]
     },
     "metadata": {},
     "output_type": "display_data"
    }
   ],
   "source": [
    "contract_data['UsingDuration'] = 0\n",
    "\n",
    "# Уже закончился срок обслуживания\n",
    "idx = contract_data.query('EndDate_ == EndDate_').index\n",
    "contract_data.loc[idx, 'UsingDuration'] = (\n",
    "    (contract_data.loc[idx, 'EndDate_'] - contract_data.loc[idx, 'BeginDate'])/np.timedelta64(1, 'M')\n",
    ")\n",
    "\n",
    "# Еще наш клиент, беру максимальную дату на момент выгрузки - это 2020-01-01\n",
    "date_to = contract_data.BeginDate.max()\n",
    "idx = contract_data.query('EndDate_ != EndDate_').index\n",
    "contract_data.loc[idx, 'UsingDuration'] = (\n",
    "    (date_to - contract_data.loc[idx, 'BeginDate'])/np.timedelta64(1, 'M')\n",
    ")\n",
    "\n",
    "contract_data.loc[:, 'UsingDuration'] = round(contract_data['UsingDuration'])\n",
    "contract_data.loc[:, 'UsingDuration'] = contract_data['UsingDuration'].astype('int64')\n",
    "\n",
    "uniq_ = contract_data['UsingDuration'].nunique()\n",
    "print_italic('Выделение колонки UsingDuration - кол-во месяцев использования. Уникальных значений: {}'.format(uniq_))\n"
   ]
  },
  {
   "cell_type": "code",
   "execution_count": 26,
   "metadata": {},
   "outputs": [
    {
     "data": {
      "image/png": "[encoded data removed]",
      "text/plain": [
       "<Figure size 1440x576 with 1 Axes>"
      ]
     },
     "metadata": {
      "needs_background": "light"
     },
     "output_type": "display_data"
    }
   ],
   "source": [
    "\n",
    "ax = (\n",
    "    contract_data\n",
    "    .groupby('UsingDuration')\n",
    "    ['UsingDuration']\n",
    "    .count()\n",
    "    .plot(kind=\"bar\", figsize=(20,8), rot=60, grid=True, title='Кол-во месяцев использования')\n",
    ")\n",
    "\n",
    "ax.xaxis.set_major_locator(ticker.AutoLocator())\n"
   ]
  },
  {
   "cell_type": "code",
   "execution_count": 27,
   "metadata": {
    "scrolled": true
   },
   "outputs": [
    {
     "data": {
      "text/markdown": [
       "### Анализ числовых значений"
      ],
      "text/plain": [
       "<IPython.core.display.Markdown object>"
      ]
     },
     "metadata": {},
     "output_type": "display_data"
    },
    {
     "data": {
      "text/markdown": [
       "**MonthlyCharges**"
      ],
      "text/plain": [
       "<IPython.core.display.Markdown object>"
      ]
     },
     "metadata": {},
     "output_type": "display_data"
    },
    {
     "data": {
      "image/png": "[encoded data removed]",
      "text/plain": [
       "<Figure size 432x288 with 1 Axes>"
      ]
     },
     "metadata": {
      "needs_background": "light"
     },
     "output_type": "display_data"
    },
    {
     "data": {
      "image/png": "[encoded data removed]",
      "text/plain": [
       "<Figure size 432x288 with 1 Axes>"
      ]
     },
     "metadata": {
      "needs_background": "light"
     },
     "output_type": "display_data"
    },
    {
     "name": "stdout",
     "output_type": "stream",
     "text": [
      "       MonthlyCharges\n",
      "count     7032.000000\n",
      "mean        64.798208\n",
      "std         30.085974\n",
      "min         18.250000\n",
      "25%         35.587500\n",
      "50%         70.350000\n",
      "75%         89.862500\n",
      "max        118.750000\n"
     ]
    },
    {
     "data": {
      "text/markdown": [
       "**TotalCharges**"
      ],
      "text/plain": [
       "<IPython.core.display.Markdown object>"
      ]
     },
     "metadata": {},
     "output_type": "display_data"
    },
    {
     "data": {
      "image/png": "[encoded data removed]",
      "text/plain": [
       "<Figure size 432x288 with 1 Axes>"
      ]
     },
     "metadata": {
      "needs_background": "light"
     },
     "output_type": "display_data"
    },
    {
     "data": {
      "image/png": "[encoded data removed]",
      "text/plain": [
       "<Figure size 432x288 with 1 Axes>"
      ]
     },
     "metadata": {
      "needs_background": "light"
     },
     "output_type": "display_data"
    },
    {
     "name": "stdout",
     "output_type": "stream",
     "text": [
      "       TotalCharges\n",
      "count   7032.000000\n",
      "mean    2283.300441\n",
      "std     2266.771362\n",
      "min       18.800000\n",
      "25%      401.450000\n",
      "50%     1397.475000\n",
      "75%     3794.737500\n",
      "max     8684.800000\n"
     ]
    },
    {
     "data": {
      "text/markdown": [
       "**UsingDuration**"
      ],
      "text/plain": [
       "<IPython.core.display.Markdown object>"
      ]
     },
     "metadata": {},
     "output_type": "display_data"
    },
    {
     "data": {
      "image/png": "[encoded data removed]",
      "text/plain": [
       "<Figure size 432x288 with 1 Axes>"
      ]
     },
     "metadata": {
      "needs_background": "light"
     },
     "output_type": "display_data"
    },
    {
     "data": {
      "image/png": "[encoded data removed]",
      "text/plain": [
       "<Figure size 432x288 with 1 Axes>"
      ]
     },
     "metadata": {
      "needs_background": "light"
     },
     "output_type": "display_data"
    },
    {
     "name": "stdout",
     "output_type": "stream",
     "text": [
      "       UsingDuration\n",
      "count    7032.000000\n",
      "mean       31.687571\n",
      "std        24.392347\n",
      "min         0.000000\n",
      "25%         8.000000\n",
      "50%        28.000000\n",
      "75%        55.000000\n",
      "max        72.000000\n"
     ]
    }
   ],
   "source": [
    "print_header('Анализ числовых значений')\n",
    "\n",
    "cols = ['MonthlyCharges', 'TotalCharges', 'UsingDuration']\n",
    "for col in cols:\n",
    "    print_bold(col)\n",
    "    contract_data[col].hist()\n",
    "    plt.show()\n",
    "    contract_data[[col]].boxplot()\n",
    "    plt.show()\n",
    "    print(contract_data[[col]].describe())\n"
   ]
  },
  {
   "cell_type": "markdown",
   "metadata": {},
   "source": [
    "_Выбросов нет._\n",
    "\n",
    "MonthlyCharges\n",
    "* mean        64.798208\n",
    "* min         18.250000\n",
    "* max        118.750000\n",
    "\n",
    "TotalCharges\n",
    "* mean    2283.300441\n",
    "* min       18.800000\n",
    "* max     8684.800000\n",
    "\n",
    "UsingDuration\n",
    "* mean       31.844568\n",
    "* min         0.000000\n",
    "* max        75.000000"
   ]
  },
  {
   "cell_type": "code",
   "execution_count": 28,
   "metadata": {},
   "outputs": [
    {
     "data": {
      "image/png": "[encoded data removed]",
      "text/plain": [
       "<Figure size 1440x576 with 1 Axes>"
      ]
     },
     "metadata": {
      "needs_background": "light"
     },
     "output_type": "display_data"
    }
   ],
   "source": [
    "ax = (\n",
    "    contract_data\n",
    "    .groupby('UsingDuration')\n",
    "    ['UsingDuration']\n",
    "    .count()\n",
    "    .plot(kind=\"bar\", figsize=(20,8), rot=60, grid=True, title='Кол-во месяцев использования')\n",
    ")\n",
    "\n",
    "ax.xaxis.set_major_locator(ticker.AutoLocator())\n"
   ]
  },
  {
   "cell_type": "code",
   "execution_count": 29,
   "metadata": {},
   "outputs": [
    {
     "name": "stdout",
     "output_type": "stream",
     "text": [
      "Абонентов в среднем по месяцам: 32, абонентов с длительностью пользования 70 месяцев: 175\n"
     ]
    }
   ],
   "source": [
    "print('Абонентов в среднем по месяцам: {}, абонентов с длительностью пользования 70 месяцев: {}'.format(\n",
    "    round(contract_data['UsingDuration'].mean()),\n",
    "    contract_data.query('UsingDuration == 70')['UsingDuration'].count()\n",
    "))"
   ]
  },
  {
   "cell_type": "markdown",
   "metadata": {},
   "source": [
    "### Выводы\n",
    "\n",
    "* 7043 - строк\n",
    "* BeginDate, EndDate - приведен к datetime64\n",
    "* TotalCharges - приведен к float\n",
    "\n",
    "_Приведение BeginDate и EndDate к формату datetime64. Так как EndDate содержит текствое значение No, выделил в отдельную колонку в которое значение No приравнено к Nat_\n",
    "\n",
    "\n",
    "Выделил признак Cancel - это контракты у которых проставлена дата EndDate\n",
    "\n",
    "* 0    5174\n",
    "* 1    1869\n",
    "\n",
    "Получатся что даты начала договора у нас с 2013-10-01, даты окончания с 2020-01-01\n",
    "* BeginDate from: 2013-10-01 00:00:00\n",
    "* BeginDate to: 2020-02-01 00:00:00\n",
    "* EndDate from: 2019-10-01 00:00:00\n",
    "* EndDate to: 2020-01-01 00:00:00\n",
    "\n",
    "Более того месяцы подключения распределены равномерно, а даты окончания сосредоточены в четырех датах.\n",
    "\n",
    "* 2019-10-01    458\n",
    "* 2019-11-01    485\n",
    "* 2019-12-01    466\n",
    "* 2020-01-01    460\n",
    "\n",
    "\n",
    "__Значения колонок__\n",
    "\n",
    "Type\n",
    "\n",
    "* Month-to-month    3875\n",
    "* Two year          1695\n",
    "* One year          1473\n",
    "\n",
    "PaymentMethod\n",
    "\n",
    "* Electronic check             2365\n",
    "* Mailed check                 1612\n",
    "* Bank transfer (automatic)    1544\n",
    "* Credit card (automatic)      1522\n",
    "\n",
    "Тыц\n",
    "* Половина клиентов клиентов предпочитает ежемесячные платежи. Платежи ежегодные и за два года делят пополам оставшихся клиентов;\n",
    "* Чуть меньше половины пользуется автоматической оплатой\n",
    "\n",
    "\n",
    "11 записей содержат TotalCharges == null, эти записи все за одну дату 2020-02-01, это последняя дата в данных. Видимо TotalCharges рассчитывается на конец месяца. Такие записи составляют 0,16% данных. Удалил их.\n",
    "\n",
    "MonthlyCharges, TotalCharges, UsingDuration - не содержат выборосов.\n",
    "\n",
    "MonthlyCharges\n",
    "* mean        64.798208\n",
    "* min         18.250000\n",
    "* max        118.750000\n",
    "\n",
    "TotalCharges\n",
    "* mean    2283.300441\n",
    "* min       18.800000\n",
    "* max     8684.800000\n",
    "\n",
    "UsingDuration\n",
    "* mean       31.844568\n",
    "* min         0.000000\n",
    "* max        75.000000\n",
    "\n",
    "\n",
    "Абонентов в среднем по месяцам: 32, абонентов с длительностью пользования 70 месяцев: 544\n",
    "\n",
    "Отказников с контрактам до 2019-06: 1109, после 2019-06 760 (68.53%). Многие отказники это клиенты подключенные за послдение 6 месяцев."
   ]
  },
  {
   "cell_type": "markdown",
   "metadata": {},
   "source": [
    "## Персональные данные клиента"
   ]
  },
  {
   "cell_type": "code",
   "execution_count": 30,
   "metadata": {},
   "outputs": [
    {
     "name": "stdout",
     "output_type": "stream",
     "text": [
      "<class 'pandas.core.frame.DataFrame'>\n",
      "RangeIndex: 7043 entries, 0 to 7042\n",
      "Data columns (total 5 columns):\n",
      " #   Column         Non-Null Count  Dtype \n",
      "---  ------         --------------  ----- \n",
      " 0   customerID     7043 non-null   object\n",
      " 1   gender         7043 non-null   object\n",
      " 2   SeniorCitizen  7043 non-null   int64 \n",
      " 3   Partner        7043 non-null   object\n",
      " 4   Dependents     7043 non-null   object\n",
      "dtypes: int64(1), object(4)\n",
      "memory usage: 275.2+ KB\n"
     ]
    }
   ],
   "source": [
    "personal_data.info()"
   ]
  },
  {
   "cell_type": "code",
   "execution_count": 31,
   "metadata": {},
   "outputs": [
    {
     "data": {
      "text/html": [
       "<div>\n",
       "<style scoped>\n",
       "    .dataframe tbody tr th:only-of-type {\n",
       "        vertical-align: middle;\n",
       "    }\n",
       "\n",
       "    .dataframe tbody tr th {\n",
       "        vertical-align: top;\n",
       "    }\n",
       "\n",
       "    .dataframe thead th {\n",
       "        text-align: right;\n",
       "    }\n",
       "</style>\n",
       "<table border=\"1\" class=\"dataframe\">\n",
       "  <thead>\n",
       "    <tr style=\"text-align: right;\">\n",
       "      <th></th>\n",
       "      <th>customerID</th>\n",
       "      <th>gender</th>\n",
       "      <th>SeniorCitizen</th>\n",
       "      <th>Partner</th>\n",
       "      <th>Dependents</th>\n",
       "    </tr>\n",
       "  </thead>\n",
       "  <tbody>\n",
       "    <tr>\n",
       "      <th>0</th>\n",
       "      <td>7590-VHVEG</td>\n",
       "      <td>Female</td>\n",
       "      <td>0</td>\n",
       "      <td>Yes</td>\n",
       "      <td>No</td>\n",
       "    </tr>\n",
       "    <tr>\n",
       "      <th>1</th>\n",
       "      <td>5575-GNVDE</td>\n",
       "      <td>Male</td>\n",
       "      <td>0</td>\n",
       "      <td>No</td>\n",
       "      <td>No</td>\n",
       "    </tr>\n",
       "    <tr>\n",
       "      <th>2</th>\n",
       "      <td>3668-QPYBK</td>\n",
       "      <td>Male</td>\n",
       "      <td>0</td>\n",
       "      <td>No</td>\n",
       "      <td>No</td>\n",
       "    </tr>\n",
       "  </tbody>\n",
       "</table>\n",
       "</div>"
      ],
      "text/plain": [
       "   customerID  gender  SeniorCitizen Partner Dependents\n",
       "0  7590-VHVEG  Female              0     Yes         No\n",
       "1  5575-GNVDE    Male              0      No         No\n",
       "2  3668-QPYBK    Male              0      No         No"
      ]
     },
     "execution_count": 31,
     "metadata": {},
     "output_type": "execute_result"
    }
   ],
   "source": [
    "personal_data.head(3)"
   ]
  },
  {
   "cell_type": "code",
   "execution_count": 32,
   "metadata": {},
   "outputs": [
    {
     "data": {
      "text/markdown": [
       "**gender**"
      ],
      "text/plain": [
       "<IPython.core.display.Markdown object>"
      ]
     },
     "metadata": {},
     "output_type": "display_data"
    },
    {
     "name": "stdout",
     "output_type": "stream",
     "text": [
      "Male      3555\n",
      "Female    3488\n",
      "Name: gender, dtype: int64\n",
      "\n"
     ]
    },
    {
     "data": {
      "text/markdown": [
       "**SeniorCitizen**"
      ],
      "text/plain": [
       "<IPython.core.display.Markdown object>"
      ]
     },
     "metadata": {},
     "output_type": "display_data"
    },
    {
     "name": "stdout",
     "output_type": "stream",
     "text": [
      "0    5901\n",
      "1    1142\n",
      "Name: SeniorCitizen, dtype: int64\n",
      "\n"
     ]
    },
    {
     "data": {
      "text/markdown": [
       "**Partner**"
      ],
      "text/plain": [
       "<IPython.core.display.Markdown object>"
      ]
     },
     "metadata": {},
     "output_type": "display_data"
    },
    {
     "name": "stdout",
     "output_type": "stream",
     "text": [
      "No     3641\n",
      "Yes    3402\n",
      "Name: Partner, dtype: int64\n",
      "\n"
     ]
    },
    {
     "data": {
      "text/markdown": [
       "**Dependents**"
      ],
      "text/plain": [
       "<IPython.core.display.Markdown object>"
      ]
     },
     "metadata": {},
     "output_type": "display_data"
    },
    {
     "name": "stdout",
     "output_type": "stream",
     "text": [
      "No     4933\n",
      "Yes    2110\n",
      "Name: Dependents, dtype: int64\n",
      "\n"
     ]
    }
   ],
   "source": [
    "cols = personal_data.columns.to_list()\n",
    "cols.remove('customerID')\n",
    "for col in cols:\n",
    "    print_bold(col)\n",
    "    print(personal_data[col].value_counts())\n",
    "    print()\n"
   ]
  },
  {
   "cell_type": "markdown",
   "metadata": {},
   "source": [
    "## Выводы\n",
    "\n",
    "* SeniorCitizen - пенсионер\n",
    "* Partner\t- супруг\n",
    "* Dependents - дети"
   ]
  },
  {
   "cell_type": "markdown",
   "metadata": {},
   "source": [
    "## Информация об интернет-услугах"
   ]
  },
  {
   "cell_type": "code",
   "execution_count": 33,
   "metadata": {},
   "outputs": [
    {
     "name": "stdout",
     "output_type": "stream",
     "text": [
      "<class 'pandas.core.frame.DataFrame'>\n",
      "RangeIndex: 5517 entries, 0 to 5516\n",
      "Data columns (total 8 columns):\n",
      " #   Column            Non-Null Count  Dtype \n",
      "---  ------            --------------  ----- \n",
      " 0   customerID        5517 non-null   object\n",
      " 1   InternetService   5517 non-null   object\n",
      " 2   OnlineSecurity    5517 non-null   object\n",
      " 3   OnlineBackup      5517 non-null   object\n",
      " 4   DeviceProtection  5517 non-null   object\n",
      " 5   TechSupport       5517 non-null   object\n",
      " 6   StreamingTV       5517 non-null   object\n",
      " 7   StreamingMovies   5517 non-null   object\n",
      "dtypes: object(8)\n",
      "memory usage: 344.9+ KB\n"
     ]
    }
   ],
   "source": [
    "internet_data.info()"
   ]
  },
  {
   "cell_type": "code",
   "execution_count": 34,
   "metadata": {},
   "outputs": [
    {
     "data": {
      "text/html": [
       "<div>\n",
       "<style scoped>\n",
       "    .dataframe tbody tr th:only-of-type {\n",
       "        vertical-align: middle;\n",
       "    }\n",
       "\n",
       "    .dataframe tbody tr th {\n",
       "        vertical-align: top;\n",
       "    }\n",
       "\n",
       "    .dataframe thead th {\n",
       "        text-align: right;\n",
       "    }\n",
       "</style>\n",
       "<table border=\"1\" class=\"dataframe\">\n",
       "  <thead>\n",
       "    <tr style=\"text-align: right;\">\n",
       "      <th></th>\n",
       "      <th>customerID</th>\n",
       "      <th>InternetService</th>\n",
       "      <th>OnlineSecurity</th>\n",
       "      <th>OnlineBackup</th>\n",
       "      <th>DeviceProtection</th>\n",
       "      <th>TechSupport</th>\n",
       "      <th>StreamingTV</th>\n",
       "      <th>StreamingMovies</th>\n",
       "    </tr>\n",
       "  </thead>\n",
       "  <tbody>\n",
       "    <tr>\n",
       "      <th>0</th>\n",
       "      <td>7590-VHVEG</td>\n",
       "      <td>DSL</td>\n",
       "      <td>No</td>\n",
       "      <td>Yes</td>\n",
       "      <td>No</td>\n",
       "      <td>No</td>\n",
       "      <td>No</td>\n",
       "      <td>No</td>\n",
       "    </tr>\n",
       "    <tr>\n",
       "      <th>1</th>\n",
       "      <td>5575-GNVDE</td>\n",
       "      <td>DSL</td>\n",
       "      <td>Yes</td>\n",
       "      <td>No</td>\n",
       "      <td>Yes</td>\n",
       "      <td>No</td>\n",
       "      <td>No</td>\n",
       "      <td>No</td>\n",
       "    </tr>\n",
       "    <tr>\n",
       "      <th>2</th>\n",
       "      <td>3668-QPYBK</td>\n",
       "      <td>DSL</td>\n",
       "      <td>Yes</td>\n",
       "      <td>Yes</td>\n",
       "      <td>No</td>\n",
       "      <td>No</td>\n",
       "      <td>No</td>\n",
       "      <td>No</td>\n",
       "    </tr>\n",
       "  </tbody>\n",
       "</table>\n",
       "</div>"
      ],
      "text/plain": [
       "   customerID InternetService OnlineSecurity OnlineBackup DeviceProtection  \\\n",
       "0  7590-VHVEG             DSL             No          Yes               No   \n",
       "1  5575-GNVDE             DSL            Yes           No              Yes   \n",
       "2  3668-QPYBK             DSL            Yes          Yes               No   \n",
       "\n",
       "  TechSupport StreamingTV StreamingMovies  \n",
       "0          No          No              No  \n",
       "1          No          No              No  \n",
       "2          No          No              No  "
      ]
     },
     "execution_count": 34,
     "metadata": {},
     "output_type": "execute_result"
    }
   ],
   "source": [
    "internet_data.head(3)"
   ]
  },
  {
   "cell_type": "code",
   "execution_count": 35,
   "metadata": {},
   "outputs": [
    {
     "data": {
      "text/markdown": [
       "**InternetService**"
      ],
      "text/plain": [
       "<IPython.core.display.Markdown object>"
      ]
     },
     "metadata": {},
     "output_type": "display_data"
    },
    {
     "name": "stdout",
     "output_type": "stream",
     "text": [
      "Fiber optic    3096\n",
      "DSL            2421\n",
      "Name: InternetService, dtype: int64\n",
      "\n"
     ]
    },
    {
     "data": {
      "text/markdown": [
       "**OnlineSecurity**"
      ],
      "text/plain": [
       "<IPython.core.display.Markdown object>"
      ]
     },
     "metadata": {},
     "output_type": "display_data"
    },
    {
     "name": "stdout",
     "output_type": "stream",
     "text": [
      "No     3498\n",
      "Yes    2019\n",
      "Name: OnlineSecurity, dtype: int64\n",
      "\n"
     ]
    },
    {
     "data": {
      "text/markdown": [
       "**OnlineBackup**"
      ],
      "text/plain": [
       "<IPython.core.display.Markdown object>"
      ]
     },
     "metadata": {},
     "output_type": "display_data"
    },
    {
     "name": "stdout",
     "output_type": "stream",
     "text": [
      "No     3088\n",
      "Yes    2429\n",
      "Name: OnlineBackup, dtype: int64\n",
      "\n"
     ]
    },
    {
     "data": {
      "text/markdown": [
       "**DeviceProtection**"
      ],
      "text/plain": [
       "<IPython.core.display.Markdown object>"
      ]
     },
     "metadata": {},
     "output_type": "display_data"
    },
    {
     "name": "stdout",
     "output_type": "stream",
     "text": [
      "No     3095\n",
      "Yes    2422\n",
      "Name: DeviceProtection, dtype: int64\n",
      "\n"
     ]
    },
    {
     "data": {
      "text/markdown": [
       "**TechSupport**"
      ],
      "text/plain": [
       "<IPython.core.display.Markdown object>"
      ]
     },
     "metadata": {},
     "output_type": "display_data"
    },
    {
     "name": "stdout",
     "output_type": "stream",
     "text": [
      "No     3473\n",
      "Yes    2044\n",
      "Name: TechSupport, dtype: int64\n",
      "\n"
     ]
    },
    {
     "data": {
      "text/markdown": [
       "**StreamingTV**"
      ],
      "text/plain": [
       "<IPython.core.display.Markdown object>"
      ]
     },
     "metadata": {},
     "output_type": "display_data"
    },
    {
     "name": "stdout",
     "output_type": "stream",
     "text": [
      "No     2810\n",
      "Yes    2707\n",
      "Name: StreamingTV, dtype: int64\n",
      "\n"
     ]
    },
    {
     "data": {
      "text/markdown": [
       "**StreamingMovies**"
      ],
      "text/plain": [
       "<IPython.core.display.Markdown object>"
      ]
     },
     "metadata": {},
     "output_type": "display_data"
    },
    {
     "name": "stdout",
     "output_type": "stream",
     "text": [
      "No     2785\n",
      "Yes    2732\n",
      "Name: StreamingMovies, dtype: int64\n",
      "\n"
     ]
    }
   ],
   "source": [
    "cols = internet_data.columns.to_list()\n",
    "cols.remove('customerID')\n",
    "for col in cols:\n",
    "    print_bold(col)\n",
    "    print(internet_data[col].value_counts())\n",
    "    print()\n"
   ]
  },
  {
   "cell_type": "markdown",
   "metadata": {},
   "source": [
    "### Выводы\n",
    "\n",
    "Все колонки содержать информацию да\\нет по услуге. Колонка InternetService содержит информацию о типе соеденения."
   ]
  },
  {
   "cell_type": "markdown",
   "metadata": {},
   "source": [
    "## Информация об услугах телефонии"
   ]
  },
  {
   "cell_type": "code",
   "execution_count": 36,
   "metadata": {},
   "outputs": [
    {
     "name": "stdout",
     "output_type": "stream",
     "text": [
      "<class 'pandas.core.frame.DataFrame'>\n",
      "RangeIndex: 6361 entries, 0 to 6360\n",
      "Data columns (total 2 columns):\n",
      " #   Column         Non-Null Count  Dtype \n",
      "---  ------         --------------  ----- \n",
      " 0   customerID     6361 non-null   object\n",
      " 1   MultipleLines  6361 non-null   object\n",
      "dtypes: object(2)\n",
      "memory usage: 99.5+ KB\n"
     ]
    }
   ],
   "source": [
    "phone_data.info()"
   ]
  },
  {
   "cell_type": "code",
   "execution_count": 37,
   "metadata": {},
   "outputs": [
    {
     "data": {
      "text/html": [
       "<div>\n",
       "<style scoped>\n",
       "    .dataframe tbody tr th:only-of-type {\n",
       "        vertical-align: middle;\n",
       "    }\n",
       "\n",
       "    .dataframe tbody tr th {\n",
       "        vertical-align: top;\n",
       "    }\n",
       "\n",
       "    .dataframe thead th {\n",
       "        text-align: right;\n",
       "    }\n",
       "</style>\n",
       "<table border=\"1\" class=\"dataframe\">\n",
       "  <thead>\n",
       "    <tr style=\"text-align: right;\">\n",
       "      <th></th>\n",
       "      <th>customerID</th>\n",
       "      <th>MultipleLines</th>\n",
       "    </tr>\n",
       "  </thead>\n",
       "  <tbody>\n",
       "    <tr>\n",
       "      <th>0</th>\n",
       "      <td>5575-GNVDE</td>\n",
       "      <td>No</td>\n",
       "    </tr>\n",
       "    <tr>\n",
       "      <th>1</th>\n",
       "      <td>3668-QPYBK</td>\n",
       "      <td>No</td>\n",
       "    </tr>\n",
       "    <tr>\n",
       "      <th>2</th>\n",
       "      <td>9237-HQITU</td>\n",
       "      <td>No</td>\n",
       "    </tr>\n",
       "    <tr>\n",
       "      <th>3</th>\n",
       "      <td>9305-CDSKC</td>\n",
       "      <td>Yes</td>\n",
       "    </tr>\n",
       "    <tr>\n",
       "      <th>4</th>\n",
       "      <td>1452-KIOVK</td>\n",
       "      <td>Yes</td>\n",
       "    </tr>\n",
       "  </tbody>\n",
       "</table>\n",
       "</div>"
      ],
      "text/plain": [
       "   customerID MultipleLines\n",
       "0  5575-GNVDE            No\n",
       "1  3668-QPYBK            No\n",
       "2  9237-HQITU            No\n",
       "3  9305-CDSKC           Yes\n",
       "4  1452-KIOVK           Yes"
      ]
     },
     "execution_count": 37,
     "metadata": {},
     "output_type": "execute_result"
    }
   ],
   "source": [
    "phone_data.head()"
   ]
  },
  {
   "cell_type": "code",
   "execution_count": 38,
   "metadata": {},
   "outputs": [
    {
     "data": {
      "text/plain": [
       "No     3390\n",
       "Yes    2971\n",
       "Name: MultipleLines, dtype: int64"
      ]
     },
     "execution_count": 38,
     "metadata": {},
     "output_type": "execute_result"
    }
   ],
   "source": [
    "phone_data['MultipleLines'].value_counts()"
   ]
  },
  {
   "cell_type": "markdown",
   "metadata": {},
   "source": [
    "### Выводы\n",
    "\n",
    "Колонка MultipleLines содержит информацию использует ли клиент возможность подключения телефонного аппарата к нескольким линиям одновременно."
   ]
  },
  {
   "cell_type": "markdown",
   "metadata": {},
   "source": [
    "## Полнота данных о пользователе"
   ]
  },
  {
   "cell_type": "code",
   "execution_count": 39,
   "metadata": {},
   "outputs": [
    {
     "name": "stdout",
     "output_type": "stream",
     "text": [
      "contract. Всего клиентов: 7032, уникальных: 7032\n",
      "personal. Всего клиентов: 7043, уникальных: 7043\n",
      "internet. Всего клиентов: 5517, уникальных: 5517\n",
      "phone. Всего клиентов: 6361, уникальных: 6361\n"
     ]
    },
    {
     "data": {
      "text/markdown": [
       "*Все таблицы содержат данные по уникальным клиентам.*"
      ],
      "text/plain": [
       "<IPython.core.display.Markdown object>"
      ]
     },
     "metadata": {},
     "output_type": "display_data"
    }
   ],
   "source": [
    "def print_nunique(title, df, col='customerID'):\n",
    "    print('{}. Всего клиентов: {}, уникальных: {}'.format(\n",
    "        title,\n",
    "        df[col].count(),\n",
    "        df[col].nunique()\n",
    "    ))\n",
    "\n",
    "print_nunique('contract', contract_data)\n",
    "print_nunique('personal', personal_data)\n",
    "print_nunique('internet', internet_data)\n",
    "print_nunique('phone', phone_data)\n",
    "\n",
    "print_italic('Все таблицы содержат данные по уникальным клиентам.')"
   ]
  },
  {
   "cell_type": "code",
   "execution_count": 40,
   "metadata": {},
   "outputs": [
    {
     "data": {
      "text/html": [
       "<div>\n",
       "<style scoped>\n",
       "    .dataframe tbody tr th:only-of-type {\n",
       "        vertical-align: middle;\n",
       "    }\n",
       "\n",
       "    .dataframe tbody tr th {\n",
       "        vertical-align: top;\n",
       "    }\n",
       "\n",
       "    .dataframe thead th {\n",
       "        text-align: right;\n",
       "    }\n",
       "</style>\n",
       "<table border=\"1\" class=\"dataframe\">\n",
       "  <thead>\n",
       "    <tr style=\"text-align: right;\">\n",
       "      <th></th>\n",
       "      <th>customerID</th>\n",
       "      <th>PaymentType</th>\n",
       "      <th>PaymentMethod</th>\n",
       "      <th>MonthlyCharges</th>\n",
       "      <th>TotalCharges</th>\n",
       "      <th>Cancel</th>\n",
       "      <th>UsingDuration</th>\n",
       "      <th>TotalChargesCalc</th>\n",
       "      <th>Internet</th>\n",
       "      <th>InternetExtended</th>\n",
       "      <th>...</th>\n",
       "      <th>OnlineBackup</th>\n",
       "      <th>DeviceProtection</th>\n",
       "      <th>TechSupport</th>\n",
       "      <th>StreamingTV</th>\n",
       "      <th>StreamingMovies</th>\n",
       "      <th>PhoneMultipleLines</th>\n",
       "      <th>Gender</th>\n",
       "      <th>SeniorCitizen</th>\n",
       "      <th>Partner</th>\n",
       "      <th>Dependents</th>\n",
       "    </tr>\n",
       "  </thead>\n",
       "  <tbody>\n",
       "    <tr>\n",
       "      <th>0</th>\n",
       "      <td>7590-VHVEG</td>\n",
       "      <td>Month-to-month</td>\n",
       "      <td>Electronic check</td>\n",
       "      <td>29.85</td>\n",
       "      <td>29.85</td>\n",
       "      <td>0</td>\n",
       "      <td>0</td>\n",
       "      <td>0.00</td>\n",
       "      <td>1</td>\n",
       "      <td>1</td>\n",
       "      <td>...</td>\n",
       "      <td>Yes</td>\n",
       "      <td>No</td>\n",
       "      <td>No</td>\n",
       "      <td>No</td>\n",
       "      <td>No</td>\n",
       "      <td>Not used</td>\n",
       "      <td>Female</td>\n",
       "      <td>0</td>\n",
       "      <td>Yes</td>\n",
       "      <td>No</td>\n",
       "    </tr>\n",
       "    <tr>\n",
       "      <th>1</th>\n",
       "      <td>5575-GNVDE</td>\n",
       "      <td>One year</td>\n",
       "      <td>Mailed check</td>\n",
       "      <td>56.95</td>\n",
       "      <td>1889.50</td>\n",
       "      <td>0</td>\n",
       "      <td>33</td>\n",
       "      <td>1879.35</td>\n",
       "      <td>1</td>\n",
       "      <td>1</td>\n",
       "      <td>...</td>\n",
       "      <td>No</td>\n",
       "      <td>Yes</td>\n",
       "      <td>No</td>\n",
       "      <td>No</td>\n",
       "      <td>No</td>\n",
       "      <td>No</td>\n",
       "      <td>Male</td>\n",
       "      <td>0</td>\n",
       "      <td>No</td>\n",
       "      <td>No</td>\n",
       "    </tr>\n",
       "    <tr>\n",
       "      <th>2</th>\n",
       "      <td>3668-QPYBK</td>\n",
       "      <td>Month-to-month</td>\n",
       "      <td>Mailed check</td>\n",
       "      <td>53.85</td>\n",
       "      <td>108.15</td>\n",
       "      <td>1</td>\n",
       "      <td>2</td>\n",
       "      <td>107.70</td>\n",
       "      <td>1</td>\n",
       "      <td>1</td>\n",
       "      <td>...</td>\n",
       "      <td>Yes</td>\n",
       "      <td>No</td>\n",
       "      <td>No</td>\n",
       "      <td>No</td>\n",
       "      <td>No</td>\n",
       "      <td>No</td>\n",
       "      <td>Male</td>\n",
       "      <td>0</td>\n",
       "      <td>No</td>\n",
       "      <td>No</td>\n",
       "    </tr>\n",
       "  </tbody>\n",
       "</table>\n",
       "<p>3 rows × 24 columns</p>\n",
       "</div>"
      ],
      "text/plain": [
       "   customerID     PaymentType     PaymentMethod  MonthlyCharges  TotalCharges  \\\n",
       "0  7590-VHVEG  Month-to-month  Electronic check           29.85         29.85   \n",
       "1  5575-GNVDE        One year      Mailed check           56.95       1889.50   \n",
       "2  3668-QPYBK  Month-to-month      Mailed check           53.85        108.15   \n",
       "\n",
       "   Cancel  UsingDuration  TotalChargesCalc  Internet  InternetExtended  ...  \\\n",
       "0       0              0              0.00         1                 1  ...   \n",
       "1       0             33           1879.35         1                 1  ...   \n",
       "2       1              2            107.70         1                 1  ...   \n",
       "\n",
       "   OnlineBackup  DeviceProtection TechSupport StreamingTV StreamingMovies  \\\n",
       "0           Yes                No          No          No              No   \n",
       "1            No               Yes          No          No              No   \n",
       "2           Yes                No          No          No              No   \n",
       "\n",
       "  PhoneMultipleLines  Gender SeniorCitizen Partner Dependents  \n",
       "0           Not used  Female             0     Yes         No  \n",
       "1                 No    Male             0      No         No  \n",
       "2                 No    Male             0      No         No  \n",
       "\n",
       "[3 rows x 24 columns]"
      ]
     },
     "metadata": {},
     "output_type": "display_data"
    }
   ],
   "source": [
    "df_internet = internet_data[['customerID', 'InternetService', 'OnlineSecurity', 'OnlineBackup',\n",
    "       'DeviceProtection', 'TechSupport', 'StreamingTV', 'StreamingMovies']]\n",
    "df_phone = (\n",
    "    phone_data[['customerID', 'MultipleLines']]\n",
    "    .rename(columns={\"MultipleLines\": \"PhoneMultipleLines\"})\n",
    ")\n",
    "\n",
    "df_personal_data = personal_data.rename(columns={'gender':'Gender'})\n",
    "\n",
    "# SeniorCitizen на самом деле категориональный признак\n",
    "# df_personal_data[df_personal_data.query('SeniorCitizen == 0').index, 'SeniorCitizen_'] = 'No'\n",
    "# df_personal_data[df_personal_data.query('SeniorCitizen == 1').index, 'SeniorCitizen_'] = 'Yes'\n",
    "\n",
    "\n",
    "flat_data = (\n",
    "    contract_data[['customerID', 'Type',\n",
    "       'PaymentMethod', 'MonthlyCharges', 'TotalCharges', 'Cancel', 'UsingDuration']]\n",
    "    .rename(columns={\"Type\": \"PaymentType\"})\n",
    "    .copy()\n",
    ")\n",
    "\n",
    "flat_data['TotalChargesCalc'] = flat_data['MonthlyCharges'] * flat_data['UsingDuration']\n",
    "flat_data['Internet'] = 0\n",
    "flat_data['InternetExtended'] = 0\n",
    "flat_data['Phone'] = 0\n",
    "flat_data['Family'] = 0\n",
    "\n",
    "flat_data = flat_data.merge(df_internet, on='customerID', how='left')\n",
    "flat_data = flat_data.merge(df_phone, on='customerID', how='left')\n",
    "flat_data = flat_data.merge(df_personal_data, on='customerID', how='left')\n",
    "\n",
    "# Есть инетик\\телефон\n",
    "flat_data.loc[flat_data.query('InternetService == InternetService').index, 'Internet'] = 1\n",
    "flat_data.loc[flat_data.query('PhoneMultipleLines == PhoneMultipleLines').index, 'Phone'] = 1\n",
    "\n",
    "# Пользуется расширенными интернет-услугами или нет\n",
    "where = []\n",
    "for col in ('OnlineSecurity', 'OnlineBackup', 'DeviceProtection', 'TechSupport', 'StreamingTV', 'StreamingMovies'):\n",
    "    where.append(\"{}=='Yes'\".format(col))\n",
    "flat_data.loc[flat_data.query(' or '.join(where)).index, 'InternetExtended'] = 1\n",
    "\n",
    "flat_data = flat_data.fillna('Not used').copy()\n",
    "\n",
    "# Семья\n",
    "flat_data.loc[flat_data.query('Partner == \"Yes\" or Dependents == \"Yes\"').index, 'Family'] = 1\n",
    "\n",
    "\n",
    "display(flat_data.head(3))\n",
    "# print_italic('Создание таблицы содержащей только нужные для анализа данные')\n",
    "# print('*', '\\n* '.join(flat_data.columns.to_list()))"
   ]
  },
  {
   "cell_type": "code",
   "execution_count": 41,
   "metadata": {},
   "outputs": [
    {
     "data": {
      "text/markdown": [
       "### Использованием услуг клиентом"
      ],
      "text/plain": [
       "<IPython.core.display.Markdown object>"
      ]
     },
     "metadata": {},
     "output_type": "display_data"
    },
    {
     "name": "stdout",
     "output_type": "stream",
     "text": [
      "* Без интернета, без телефона: 0\n",
      "* Без интернета, с телефоном: 1520\n",
      "* С интернетом, без телефона: 680\n",
      "* С интернетом, с телефоном: 4832\n",
      "\n",
      "Всего по строкам: 7032\n",
      "Всего фактически: 7032\n"
     ]
    }
   ],
   "source": [
    "print_header('Использованием услуг клиентом')\n",
    "\n",
    "total = 0\n",
    "\n",
    "segments_query = {\n",
    "    'Без интернета, без телефона': \"Internet != 1 and Phone != 1\",\n",
    "    'Без интернета, с телефоном': \"Internet != 1 and Phone == 1\",\n",
    "    'С интернетом, без телефона': \"Internet == 1 and Phone != 1\",\n",
    "    'С интернетом, с телефоном': \"Internet == 1 and Phone == 1\",\n",
    "}\n",
    "\n",
    "for title, query in segments_query.items():\n",
    "    cnt = flat_data.query(query)['customerID'].count() \n",
    "    total += cnt\n",
    "    print('* {}: {}'.format(\n",
    "        title, \n",
    "        cnt\n",
    "        \n",
    "    ))\n",
    "    \n",
    "print('\\nВсего по строкам: {}\\nВсего фактически: {}'.format(\n",
    "    flat_data.shape[0], \n",
    "    total\n",
    "))"
   ]
  },
  {
   "cell_type": "markdown",
   "metadata": {},
   "source": [
    "### Выводы\n",
    "\n",
    "Все таблицы содержат данные по уникальным клиентам.\n",
    "\n",
    "* contract. Всего клиентов: 7032, уникальных: 7032\n",
    "* personal. Всего клиентов: 7043, уникальных: 7043\n",
    "* internet. Всего клиентов: 5517, уникальных: 5517\n",
    "* phone. Всего клиентов: 6361, уникальных: 6361\n",
    "\n",
    "\n",
    "Создание таблицы содержащей только нужные для анализа данные.\n",
    "\n",
    "Использованием услуг клиентом\n",
    "\n",
    "* Без интернета, без телефона: 0\n",
    "* Без интернета, с телефоном: 1520\n",
    "* С интернетом, без телефона: 680\n",
    "* С интернетом, с телефоном: 4832\n",
    "* Всего по строкам: 7032\n",
    "* Всего фактически: 7032\n",
    "\n",
    "\n",
    "Если клиенты которые используют одну из услуг телефон или интернет. Таким образом у нас 3 базовых сегмента пользователей: \n",
    "\n",
    "* Без интернета, с телефоном\n",
    "* С интернетом, без телефона\n",
    "* С интернетом, с телефоном\n",
    "\n",
    "\n"
   ]
  },
  {
   "cell_type": "markdown",
   "metadata": {},
   "source": [
    "# План работ\n",
    "\n",
    "Базовые сегменты пользователей\n",
    "\n",
    "* Без интернета, с телефоном\n",
    "* С интернетом, без телефона\n",
    "* С интернетом, с телефоном\n",
    "\n",
    "Значимые данные для разделения пользователей на сегменты\n",
    "\n",
    "* Объем услуг интернета - Internet, InternetService, OnlineSecurity, OnlineBackup, DeviceProtection, TechSupport, StreamingTV, StreamingMovies. Также выделил признак есть ли вообще доп-услуги: InternetExtended\n",
    "* Объем услуг телефона - Phone, PhoneMultipleLines\n",
    "* Тип оплаты: ежемесечно, ежегодно, за 2 года - PaymentType\n",
    "* Метод оплаты - PaymentMethod\n",
    "* Длительность пользования услугой - UsingDuration. Посчитал сумму платежей как произведение месяцев использования на сумму ежемесячного платежа. Это немного странная цифра, потому что в течении использования сервисом сумма ежемесячного платежа может менятся.\n",
    "* Размер ежемесячного платежа - MonthlyCharges\n",
    "\n",
    "Исключенные поля\n",
    "* Cancel - признак отказник или нет\n",
    "* Даты договора использую как длительность использования для расчета UsingDuration\n"
   ]
  },
  {
   "cell_type": "markdown",
   "metadata": {},
   "source": [
    "# Отбор признаков и создание модели"
   ]
  },
  {
   "cell_type": "code",
   "execution_count": 42,
   "metadata": {},
   "outputs": [
    {
     "data": {
      "text/markdown": [
       "roc_auc_score: **0.75**"
      ],
      "text/plain": [
       "<IPython.core.display.Markdown object>"
      ]
     },
     "metadata": {},
     "output_type": "display_data"
    },
    {
     "data": {
      "text/markdown": [
       "accuracy_score: *0.6666666666666666*"
      ],
      "text/plain": [
       "<IPython.core.display.Markdown object>"
      ]
     },
     "metadata": {},
     "output_type": "display_data"
    },
    {
     "name": "stdout",
     "output_type": "stream",
     "text": [
      "recall_score: 1.0\n",
      "precision_score: 0.5\n",
      "{'roc_auc_score': 0.75, 'accuracy_score': 0.6666666666666666, 'recall_score': 1.0, 'precision_score': 0.5}\n"
     ]
    }
   ],
   "source": [
    "def print_metrics(target_, predictions_, predictions_proba_, threshold=0.5):\n",
    "    predictions_proba_ones_ = predictions_proba_[:, 1]\n",
    "    predictions_threshold_ = np.where(predictions_proba_ones_>=threshold, 1, 0)\n",
    "\n",
    "    # TN FP\n",
    "    # FN TP\n",
    "    # print('confusion_matrix:\\n', confusion_matrix(target_, predictions))\n",
    "    # print('* f1_score: {}\\n* accuracy: {}\\n* auc_roc: {}\\n'.format(f1_score_, accuracy_, auc_roc_))\n",
    "    \n",
    "    scores = {}\n",
    "    scores.update({'roc_auc_score': roc_auc_score(target_, predictions_)})\n",
    "    scores.update({'accuracy_score': accuracy_score(target_, predictions_)})\n",
    "    \n",
    "    if threshold != 0.5:\n",
    "        print('threshold:',threshold)\n",
    "        scores.update({'roc_auc_score threshold': roc_auc_score(target_, predictions_threshold_)})\n",
    "        scores.update({'accuracy_score threshold': accuracy_score(target_, predictions_threshold_)})\n",
    "    \n",
    "    scores.update({'recall_score': recall_score(target_, predictions_)})\n",
    "    scores.update({'precision_score': precision_score(target_, predictions_)})\n",
    "    # scores.update({'f1_score': f1_score(target_, predictions_)})\n",
    "    \n",
    "    \n",
    "    for k, v in scores.items():\n",
    "        msg = '{}: {}'.format(k, v)\n",
    "        if k =='roc_auc_score':\n",
    "            # print_bold(msg)\n",
    "            printmd('{}: **{}**'.format(k, v))\n",
    "        elif k =='accuracy_score':\n",
    "            # print_italic(msg)\n",
    "            printmd('{}: *{}*'.format(k, v))\n",
    "        else:\n",
    "            print(msg)\n",
    "\n",
    "    return scores\n",
    "\n",
    "# test\n",
    "scores = print_metrics(\n",
    "    np.array([0, 1, 0]), \n",
    "    np.array([1, 1, 0]), \n",
    "    np.array([[0.96115572, 0.03884428], [0.72743425, 0.27256575],[0.64515485, 0.35484515]])\n",
    ")    \n",
    "print(scores)"
   ]
  },
  {
   "cell_type": "code",
   "execution_count": 43,
   "metadata": {},
   "outputs": [],
   "source": [
    "# def roc_curve_draw(target_, predictions_proba_):\n",
    "#     predictions_proba_ones_ = predictions_proba_[:, 1]\n",
    "\n",
    "#     fpr, tpr, thresholds = roc_curve(target_, predictions_proba_ones_)\n",
    "\n",
    "#     plt.figure()\n",
    "#     plt.plot([0, 1], [0, 1], linestyle='--')\n",
    "\n",
    "#     plt.step(fpr, tpr, where='post')\n",
    "#     plt.xlabel('False Positive Rate')\n",
    "#     plt.ylabel('True Positive Rate')\n",
    "#     plt.ylim([0.0, 1.0])\n",
    "#     plt.xlim([0.0, 1.0])\n",
    "#     plt.title('ROC-кривая')\n",
    "#     plt.show()"
   ]
  },
  {
   "cell_type": "code",
   "execution_count": 44,
   "metadata": {},
   "outputs": [
    {
     "data": {
      "text/html": [
       "<div>\n",
       "<style scoped>\n",
       "    .dataframe tbody tr th:only-of-type {\n",
       "        vertical-align: middle;\n",
       "    }\n",
       "\n",
       "    .dataframe tbody tr th {\n",
       "        vertical-align: top;\n",
       "    }\n",
       "\n",
       "    .dataframe thead th {\n",
       "        text-align: right;\n",
       "    }\n",
       "</style>\n",
       "<table border=\"1\" class=\"dataframe\">\n",
       "  <thead>\n",
       "    <tr style=\"text-align: right;\">\n",
       "      <th></th>\n",
       "      <th>customerID</th>\n",
       "      <th>PaymentType</th>\n",
       "      <th>PaymentMethod</th>\n",
       "      <th>MonthlyCharges</th>\n",
       "      <th>TotalCharges</th>\n",
       "      <th>Cancel</th>\n",
       "      <th>UsingDuration</th>\n",
       "      <th>TotalChargesCalc</th>\n",
       "      <th>Internet</th>\n",
       "      <th>InternetExtended</th>\n",
       "      <th>...</th>\n",
       "      <th>OnlineBackup</th>\n",
       "      <th>DeviceProtection</th>\n",
       "      <th>TechSupport</th>\n",
       "      <th>StreamingTV</th>\n",
       "      <th>StreamingMovies</th>\n",
       "      <th>PhoneMultipleLines</th>\n",
       "      <th>Gender</th>\n",
       "      <th>SeniorCitizen</th>\n",
       "      <th>Partner</th>\n",
       "      <th>Dependents</th>\n",
       "    </tr>\n",
       "  </thead>\n",
       "  <tbody>\n",
       "    <tr>\n",
       "      <th>0</th>\n",
       "      <td>7590-VHVEG</td>\n",
       "      <td>Month-to-month</td>\n",
       "      <td>Electronic check</td>\n",
       "      <td>29.85</td>\n",
       "      <td>29.85</td>\n",
       "      <td>0</td>\n",
       "      <td>0</td>\n",
       "      <td>0.00</td>\n",
       "      <td>1</td>\n",
       "      <td>1</td>\n",
       "      <td>...</td>\n",
       "      <td>Yes</td>\n",
       "      <td>No</td>\n",
       "      <td>No</td>\n",
       "      <td>No</td>\n",
       "      <td>No</td>\n",
       "      <td>Not used</td>\n",
       "      <td>Female</td>\n",
       "      <td>0</td>\n",
       "      <td>Yes</td>\n",
       "      <td>No</td>\n",
       "    </tr>\n",
       "    <tr>\n",
       "      <th>1</th>\n",
       "      <td>5575-GNVDE</td>\n",
       "      <td>One year</td>\n",
       "      <td>Mailed check</td>\n",
       "      <td>56.95</td>\n",
       "      <td>1889.50</td>\n",
       "      <td>0</td>\n",
       "      <td>33</td>\n",
       "      <td>1879.35</td>\n",
       "      <td>1</td>\n",
       "      <td>1</td>\n",
       "      <td>...</td>\n",
       "      <td>No</td>\n",
       "      <td>Yes</td>\n",
       "      <td>No</td>\n",
       "      <td>No</td>\n",
       "      <td>No</td>\n",
       "      <td>No</td>\n",
       "      <td>Male</td>\n",
       "      <td>0</td>\n",
       "      <td>No</td>\n",
       "      <td>No</td>\n",
       "    </tr>\n",
       "    <tr>\n",
       "      <th>2</th>\n",
       "      <td>3668-QPYBK</td>\n",
       "      <td>Month-to-month</td>\n",
       "      <td>Mailed check</td>\n",
       "      <td>53.85</td>\n",
       "      <td>108.15</td>\n",
       "      <td>1</td>\n",
       "      <td>2</td>\n",
       "      <td>107.70</td>\n",
       "      <td>1</td>\n",
       "      <td>1</td>\n",
       "      <td>...</td>\n",
       "      <td>Yes</td>\n",
       "      <td>No</td>\n",
       "      <td>No</td>\n",
       "      <td>No</td>\n",
       "      <td>No</td>\n",
       "      <td>No</td>\n",
       "      <td>Male</td>\n",
       "      <td>0</td>\n",
       "      <td>No</td>\n",
       "      <td>No</td>\n",
       "    </tr>\n",
       "  </tbody>\n",
       "</table>\n",
       "<p>3 rows × 24 columns</p>\n",
       "</div>"
      ],
      "text/plain": [
       "   customerID     PaymentType     PaymentMethod  MonthlyCharges  TotalCharges  \\\n",
       "0  7590-VHVEG  Month-to-month  Electronic check           29.85         29.85   \n",
       "1  5575-GNVDE        One year      Mailed check           56.95       1889.50   \n",
       "2  3668-QPYBK  Month-to-month      Mailed check           53.85        108.15   \n",
       "\n",
       "   Cancel  UsingDuration  TotalChargesCalc  Internet  InternetExtended  ...  \\\n",
       "0       0              0              0.00         1                 1  ...   \n",
       "1       0             33           1879.35         1                 1  ...   \n",
       "2       1              2            107.70         1                 1  ...   \n",
       "\n",
       "   OnlineBackup  DeviceProtection TechSupport StreamingTV StreamingMovies  \\\n",
       "0           Yes                No          No          No              No   \n",
       "1            No               Yes          No          No              No   \n",
       "2           Yes                No          No          No              No   \n",
       "\n",
       "  PhoneMultipleLines  Gender SeniorCitizen Partner Dependents  \n",
       "0           Not used  Female             0     Yes         No  \n",
       "1                 No    Male             0      No         No  \n",
       "2                 No    Male             0      No         No  \n",
       "\n",
       "[3 rows x 24 columns]"
      ]
     },
     "execution_count": 44,
     "metadata": {},
     "output_type": "execute_result"
    }
   ],
   "source": [
    "flat_data.head(3)"
   ]
  },
  {
   "cell_type": "code",
   "execution_count": 45,
   "metadata": {},
   "outputs": [
    {
     "data": {
      "text/markdown": [
       "**Категориональные признаки**"
      ],
      "text/plain": [
       "<IPython.core.display.Markdown object>"
      ]
     },
     "metadata": {},
     "output_type": "display_data"
    },
    {
     "name": "stdout",
     "output_type": "stream",
     "text": [
      "PaymentType, PaymentMethod, InternetService, OnlineSecurity, OnlineBackup, DeviceProtection, TechSupport, StreamingTV, StreamingMovies, PhoneMultipleLines, Gender, Partner, Dependents, Internet, InternetExtended, SeniorCitizen, Phone, Family\n",
      "\n"
     ]
    },
    {
     "data": {
      "text/markdown": [
       "**Числовые признаки**"
      ],
      "text/plain": [
       "<IPython.core.display.Markdown object>"
      ]
     },
     "metadata": {},
     "output_type": "display_data"
    },
    {
     "name": "stdout",
     "output_type": "stream",
     "text": [
      "MonthlyCharges, TotalCharges, UsingDuration, TotalChargesCalc\n",
      "\n"
     ]
    },
    {
     "data": {
      "text/markdown": [
       "**Целевой признак**"
      ],
      "text/plain": [
       "<IPython.core.display.Markdown object>"
      ]
     },
     "metadata": {},
     "output_type": "display_data"
    },
    {
     "name": "stdout",
     "output_type": "stream",
     "text": [
      "Cancel\n"
     ]
    }
   ],
   "source": [
    "cat_features = flat_data.dtypes[flat_data.dtypes == 'object'].index.to_list()\n",
    "cat_features.extend(['Internet', 'InternetExtended', 'SeniorCitizen', 'Phone', 'Family'])\n",
    "cat_features.remove('customerID')\n",
    "target_feature = 'Cancel'\n",
    "num_features = [i for i in flat_data.columns.to_list() if i not in cat_features + [target_feature]]\n",
    "num_features.remove('customerID')\n",
    "\n",
    "print_bold('Категориональные признаки')\n",
    "print(', '.join(cat_features))\n",
    "print()\n",
    "print_bold('Числовые признаки')\n",
    "print(', '.join(num_features))\n",
    "print()\n",
    "print_bold('Целевой признак')\n",
    "print(target_feature)\n"
   ]
  },
  {
   "cell_type": "code",
   "execution_count": 46,
   "metadata": {},
   "outputs": [
    {
     "data": {
      "text/markdown": [
       "### Корреляция числовых признаков"
      ],
      "text/plain": [
       "<IPython.core.display.Markdown object>"
      ]
     },
     "metadata": {},
     "output_type": "display_data"
    },
    {
     "data": {
      "text/html": [
       "<div>\n",
       "<style scoped>\n",
       "    .dataframe tbody tr th:only-of-type {\n",
       "        vertical-align: middle;\n",
       "    }\n",
       "\n",
       "    .dataframe tbody tr th {\n",
       "        vertical-align: top;\n",
       "    }\n",
       "\n",
       "    .dataframe thead th {\n",
       "        text-align: right;\n",
       "    }\n",
       "</style>\n",
       "<table border=\"1\" class=\"dataframe\">\n",
       "  <thead>\n",
       "    <tr style=\"text-align: right;\">\n",
       "      <th></th>\n",
       "      <th>MonthlyCharges</th>\n",
       "      <th>TotalCharges</th>\n",
       "      <th>UsingDuration</th>\n",
       "      <th>TotalChargesCalc</th>\n",
       "    </tr>\n",
       "  </thead>\n",
       "  <tbody>\n",
       "    <tr>\n",
       "      <th>MonthlyCharges</th>\n",
       "      <td>1.000000</td>\n",
       "      <td>0.651065</td>\n",
       "      <td>0.251902</td>\n",
       "      <td>0.649942</td>\n",
       "    </tr>\n",
       "    <tr>\n",
       "      <th>TotalCharges</th>\n",
       "      <td>0.651065</td>\n",
       "      <td>1.000000</td>\n",
       "      <td>0.827445</td>\n",
       "      <td>0.999475</td>\n",
       "    </tr>\n",
       "    <tr>\n",
       "      <th>UsingDuration</th>\n",
       "      <td>0.251902</td>\n",
       "      <td>0.827445</td>\n",
       "      <td>1.000000</td>\n",
       "      <td>0.828919</td>\n",
       "    </tr>\n",
       "    <tr>\n",
       "      <th>TotalChargesCalc</th>\n",
       "      <td>0.649942</td>\n",
       "      <td>0.999475</td>\n",
       "      <td>0.828919</td>\n",
       "      <td>1.000000</td>\n",
       "    </tr>\n",
       "  </tbody>\n",
       "</table>\n",
       "</div>"
      ],
      "text/plain": [
       "                  MonthlyCharges  TotalCharges  UsingDuration  \\\n",
       "MonthlyCharges          1.000000      0.651065       0.251902   \n",
       "TotalCharges            0.651065      1.000000       0.827445   \n",
       "UsingDuration           0.251902      0.827445       1.000000   \n",
       "TotalChargesCalc        0.649942      0.999475       0.828919   \n",
       "\n",
       "                  TotalChargesCalc  \n",
       "MonthlyCharges            0.649942  \n",
       "TotalCharges              0.999475  \n",
       "UsingDuration             0.828919  \n",
       "TotalChargesCalc          1.000000  "
      ]
     },
     "execution_count": 46,
     "metadata": {},
     "output_type": "execute_result"
    }
   ],
   "source": [
    "print_header('Корреляция числовых признаков')\n",
    "\n",
    "flat_data[num_features].corr()"
   ]
  },
  {
   "cell_type": "markdown",
   "metadata": {},
   "source": [
    "Вижу взаимную корреляцию `TotalChargesCalc <-> TotalCharges` и `TotalChargesCalc <-> UsingDuration`.\n",
    "\n",
    "Корреляцияя `TotalChargesCalc <-> TotalCharges= 0.999476`, убрал этот признак."
   ]
  },
  {
   "cell_type": "code",
   "execution_count": 47,
   "metadata": {},
   "outputs": [
    {
     "data": {
      "text/markdown": [
       "### Удаление признаков с сильной взаимной корреляцией"
      ],
      "text/plain": [
       "<IPython.core.display.Markdown object>"
      ]
     },
     "metadata": {},
     "output_type": "display_data"
    },
    {
     "data": {
      "text/html": [
       "<div>\n",
       "<style scoped>\n",
       "    .dataframe tbody tr th:only-of-type {\n",
       "        vertical-align: middle;\n",
       "    }\n",
       "\n",
       "    .dataframe tbody tr th {\n",
       "        vertical-align: top;\n",
       "    }\n",
       "\n",
       "    .dataframe thead th {\n",
       "        text-align: right;\n",
       "    }\n",
       "</style>\n",
       "<table border=\"1\" class=\"dataframe\">\n",
       "  <thead>\n",
       "    <tr style=\"text-align: right;\">\n",
       "      <th></th>\n",
       "      <th>customerID</th>\n",
       "      <th>PaymentType</th>\n",
       "      <th>PaymentMethod</th>\n",
       "      <th>MonthlyCharges</th>\n",
       "      <th>TotalCharges</th>\n",
       "      <th>Cancel</th>\n",
       "      <th>UsingDuration</th>\n",
       "      <th>Internet</th>\n",
       "      <th>InternetExtended</th>\n",
       "      <th>Phone</th>\n",
       "      <th>...</th>\n",
       "      <th>OnlineBackup</th>\n",
       "      <th>DeviceProtection</th>\n",
       "      <th>TechSupport</th>\n",
       "      <th>StreamingTV</th>\n",
       "      <th>StreamingMovies</th>\n",
       "      <th>PhoneMultipleLines</th>\n",
       "      <th>Gender</th>\n",
       "      <th>SeniorCitizen</th>\n",
       "      <th>Partner</th>\n",
       "      <th>Dependents</th>\n",
       "    </tr>\n",
       "  </thead>\n",
       "  <tbody>\n",
       "    <tr>\n",
       "      <th>0</th>\n",
       "      <td>7590-VHVEG</td>\n",
       "      <td>Month-to-month</td>\n",
       "      <td>Electronic check</td>\n",
       "      <td>29.85</td>\n",
       "      <td>29.85</td>\n",
       "      <td>0</td>\n",
       "      <td>0</td>\n",
       "      <td>1</td>\n",
       "      <td>1</td>\n",
       "      <td>0</td>\n",
       "      <td>...</td>\n",
       "      <td>Yes</td>\n",
       "      <td>No</td>\n",
       "      <td>No</td>\n",
       "      <td>No</td>\n",
       "      <td>No</td>\n",
       "      <td>Not used</td>\n",
       "      <td>Female</td>\n",
       "      <td>0</td>\n",
       "      <td>Yes</td>\n",
       "      <td>No</td>\n",
       "    </tr>\n",
       "    <tr>\n",
       "      <th>1</th>\n",
       "      <td>5575-GNVDE</td>\n",
       "      <td>One year</td>\n",
       "      <td>Mailed check</td>\n",
       "      <td>56.95</td>\n",
       "      <td>1889.50</td>\n",
       "      <td>0</td>\n",
       "      <td>33</td>\n",
       "      <td>1</td>\n",
       "      <td>1</td>\n",
       "      <td>1</td>\n",
       "      <td>...</td>\n",
       "      <td>No</td>\n",
       "      <td>Yes</td>\n",
       "      <td>No</td>\n",
       "      <td>No</td>\n",
       "      <td>No</td>\n",
       "      <td>No</td>\n",
       "      <td>Male</td>\n",
       "      <td>0</td>\n",
       "      <td>No</td>\n",
       "      <td>No</td>\n",
       "    </tr>\n",
       "    <tr>\n",
       "      <th>2</th>\n",
       "      <td>3668-QPYBK</td>\n",
       "      <td>Month-to-month</td>\n",
       "      <td>Mailed check</td>\n",
       "      <td>53.85</td>\n",
       "      <td>108.15</td>\n",
       "      <td>1</td>\n",
       "      <td>2</td>\n",
       "      <td>1</td>\n",
       "      <td>1</td>\n",
       "      <td>1</td>\n",
       "      <td>...</td>\n",
       "      <td>Yes</td>\n",
       "      <td>No</td>\n",
       "      <td>No</td>\n",
       "      <td>No</td>\n",
       "      <td>No</td>\n",
       "      <td>No</td>\n",
       "      <td>Male</td>\n",
       "      <td>0</td>\n",
       "      <td>No</td>\n",
       "      <td>No</td>\n",
       "    </tr>\n",
       "  </tbody>\n",
       "</table>\n",
       "<p>3 rows × 23 columns</p>\n",
       "</div>"
      ],
      "text/plain": [
       "   customerID     PaymentType     PaymentMethod  MonthlyCharges  TotalCharges  \\\n",
       "0  7590-VHVEG  Month-to-month  Electronic check           29.85         29.85   \n",
       "1  5575-GNVDE        One year      Mailed check           56.95       1889.50   \n",
       "2  3668-QPYBK  Month-to-month      Mailed check           53.85        108.15   \n",
       "\n",
       "   Cancel  UsingDuration  Internet  InternetExtended  Phone  ...  \\\n",
       "0       0              0         1                 1      0  ...   \n",
       "1       0             33         1                 1      1  ...   \n",
       "2       1              2         1                 1      1  ...   \n",
       "\n",
       "   OnlineBackup DeviceProtection TechSupport StreamingTV StreamingMovies  \\\n",
       "0           Yes               No          No          No              No   \n",
       "1            No              Yes          No          No              No   \n",
       "2           Yes               No          No          No              No   \n",
       "\n",
       "  PhoneMultipleLines  Gender SeniorCitizen Partner Dependents  \n",
       "0           Not used  Female             0     Yes         No  \n",
       "1                 No    Male             0      No         No  \n",
       "2                 No    Male             0      No         No  \n",
       "\n",
       "[3 rows x 23 columns]"
      ]
     },
     "metadata": {},
     "output_type": "display_data"
    },
    {
     "data": {
      "text/markdown": [
       "**Числовые признаки**"
      ],
      "text/plain": [
       "<IPython.core.display.Markdown object>"
      ]
     },
     "metadata": {},
     "output_type": "display_data"
    },
    {
     "name": "stdout",
     "output_type": "stream",
     "text": [
      "MonthlyCharges, TotalCharges, UsingDuration\n",
      "\n"
     ]
    }
   ],
   "source": [
    "print_header('Удаление признаков с сильной взаимной корреляцией')\n",
    "\n",
    "if 'TotalChargesCalc' in flat_data.columns.to_list():\n",
    "    flat_data.drop(columns=['TotalChargesCalc'], inplace=True)\n",
    "\n",
    "if 'TotalChargesCalc' in num_features:\n",
    "    num_features.remove('TotalChargesCalc')\n",
    "\n",
    "display(flat_data.head(3))\n",
    "print_bold('Числовые признаки')\n",
    "print(', '.join(num_features))\n",
    "print()"
   ]
  },
  {
   "cell_type": "code",
   "execution_count": 48,
   "metadata": {
    "scrolled": false
   },
   "outputs": [
    {
     "data": {
      "text/markdown": [
       "### Анализ влияния количественных и на целевой"
      ],
      "text/plain": [
       "<IPython.core.display.Markdown object>"
      ]
     },
     "metadata": {},
     "output_type": "display_data"
    },
    {
     "data": {
      "image/png": "[encoded data removed]",
      "text/plain": [
       "<Figure size 864x576 with 6 Axes>"
      ]
     },
     "metadata": {
      "needs_background": "light"
     },
     "output_type": "display_data"
    }
   ],
   "source": [
    "print_header('Анализ влияния количественных и на целевой')\n",
    "\n",
    "fig, axes = plt.subplots(len(num_features), 2, sharex=False, sharey=False, figsize=(12, 8))\n",
    "\n",
    "axes.flatten()[0].set_title('Клиенты')\n",
    "axes.flatten()[1].set_title('Отказники')\n",
    "\n",
    "for i, num_feature in enumerate(num_features):\n",
    "    flat_data.query('Cancel == 0').boxplot(column=num_feature, ax=axes[i][0])\n",
    "    flat_data.query('Cancel == 1').boxplot(column=num_feature, ax=axes[i][1])\n"
   ]
  },
  {
   "cell_type": "markdown",
   "metadata": {},
   "source": [
    "_На графиках видно что распределение данных для клиентов и отказников разное. Делаю вывод что признаки имеют значение._"
   ]
  },
  {
   "cell_type": "code",
   "execution_count": 49,
   "metadata": {},
   "outputs": [
    {
     "data": {
      "text/markdown": [
       "**Категориональные признаки**"
      ],
      "text/plain": [
       "<IPython.core.display.Markdown object>"
      ]
     },
     "metadata": {},
     "output_type": "display_data"
    },
    {
     "name": "stdout",
     "output_type": "stream",
     "text": [
      "PaymentType, PaymentMethod, InternetService, OnlineSecurity, OnlineBackup, DeviceProtection, TechSupport, StreamingTV, StreamingMovies, PhoneMultipleLines, Gender, Partner, Dependents, Internet, InternetExtended, SeniorCitizen, Phone, Family\n",
      "\n"
     ]
    },
    {
     "data": {
      "text/markdown": [
       "**Числовые признаки**"
      ],
      "text/plain": [
       "<IPython.core.display.Markdown object>"
      ]
     },
     "metadata": {},
     "output_type": "display_data"
    },
    {
     "name": "stdout",
     "output_type": "stream",
     "text": [
      "MonthlyCharges, TotalCharges, UsingDuration\n",
      "\n"
     ]
    },
    {
     "data": {
      "text/markdown": [
       "**Целевой признак**"
      ],
      "text/plain": [
       "<IPython.core.display.Markdown object>"
      ]
     },
     "metadata": {},
     "output_type": "display_data"
    },
    {
     "name": "stdout",
     "output_type": "stream",
     "text": [
      "Cancel\n"
     ]
    }
   ],
   "source": [
    "cat_features = flat_data.dtypes[flat_data.dtypes == 'object'].index.to_list()\n",
    "cat_features.extend(['Internet', 'InternetExtended', 'SeniorCitizen', 'Phone', 'Family'])\n",
    "cat_features.remove('customerID')\n",
    "target_feature = 'Cancel'\n",
    "num_features = [i for i in flat_data.columns.to_list() if i not in cat_features + [target_feature]]\n",
    "num_features.remove('customerID')\n",
    "\n",
    "print_bold('Категориональные признаки')\n",
    "print(', '.join(cat_features))\n",
    "print()\n",
    "print_bold('Числовые признаки')\n",
    "print(', '.join(num_features))\n",
    "print()\n",
    "print_bold('Целевой признак')\n",
    "print(target_feature)\n"
   ]
  },
  {
   "cell_type": "code",
   "execution_count": 50,
   "metadata": {},
   "outputs": [
    {
     "data": {
      "text/markdown": [
       "### Кодирование категориональных признаков"
      ],
      "text/plain": [
       "<IPython.core.display.Markdown object>"
      ]
     },
     "metadata": {},
     "output_type": "display_data"
    },
    {
     "data": {
      "text/html": [
       "<div>\n",
       "<style scoped>\n",
       "    .dataframe tbody tr th:only-of-type {\n",
       "        vertical-align: middle;\n",
       "    }\n",
       "\n",
       "    .dataframe tbody tr th {\n",
       "        vertical-align: top;\n",
       "    }\n",
       "\n",
       "    .dataframe thead th {\n",
       "        text-align: right;\n",
       "    }\n",
       "</style>\n",
       "<table border=\"1\" class=\"dataframe\">\n",
       "  <thead>\n",
       "    <tr style=\"text-align: right;\">\n",
       "      <th></th>\n",
       "      <th>MonthlyCharges</th>\n",
       "      <th>TotalCharges</th>\n",
       "      <th>Cancel</th>\n",
       "      <th>UsingDuration</th>\n",
       "      <th>PaymentType_One year</th>\n",
       "      <th>PaymentType_Two year</th>\n",
       "      <th>PaymentMethod_Credit card (automatic)</th>\n",
       "      <th>PaymentMethod_Electronic check</th>\n",
       "      <th>PaymentMethod_Mailed check</th>\n",
       "      <th>InternetService_Fiber optic</th>\n",
       "      <th>...</th>\n",
       "      <th>PhoneMultipleLines_Not used</th>\n",
       "      <th>PhoneMultipleLines_Yes</th>\n",
       "      <th>Gender_Male</th>\n",
       "      <th>Partner_Yes</th>\n",
       "      <th>Dependents_Yes</th>\n",
       "      <th>Internet_1</th>\n",
       "      <th>InternetExtended_1</th>\n",
       "      <th>SeniorCitizen_1</th>\n",
       "      <th>Phone_1</th>\n",
       "      <th>Family_1</th>\n",
       "    </tr>\n",
       "  </thead>\n",
       "  <tbody>\n",
       "    <tr>\n",
       "      <th>0</th>\n",
       "      <td>29.85</td>\n",
       "      <td>29.85</td>\n",
       "      <td>0</td>\n",
       "      <td>0</td>\n",
       "      <td>0</td>\n",
       "      <td>0</td>\n",
       "      <td>0</td>\n",
       "      <td>1</td>\n",
       "      <td>0</td>\n",
       "      <td>0</td>\n",
       "      <td>...</td>\n",
       "      <td>1</td>\n",
       "      <td>0</td>\n",
       "      <td>0</td>\n",
       "      <td>1</td>\n",
       "      <td>0</td>\n",
       "      <td>1</td>\n",
       "      <td>1</td>\n",
       "      <td>0</td>\n",
       "      <td>0</td>\n",
       "      <td>1</td>\n",
       "    </tr>\n",
       "    <tr>\n",
       "      <th>1</th>\n",
       "      <td>56.95</td>\n",
       "      <td>1889.50</td>\n",
       "      <td>0</td>\n",
       "      <td>33</td>\n",
       "      <td>1</td>\n",
       "      <td>0</td>\n",
       "      <td>0</td>\n",
       "      <td>0</td>\n",
       "      <td>1</td>\n",
       "      <td>0</td>\n",
       "      <td>...</td>\n",
       "      <td>0</td>\n",
       "      <td>0</td>\n",
       "      <td>1</td>\n",
       "      <td>0</td>\n",
       "      <td>0</td>\n",
       "      <td>1</td>\n",
       "      <td>1</td>\n",
       "      <td>0</td>\n",
       "      <td>1</td>\n",
       "      <td>0</td>\n",
       "    </tr>\n",
       "    <tr>\n",
       "      <th>2</th>\n",
       "      <td>53.85</td>\n",
       "      <td>108.15</td>\n",
       "      <td>1</td>\n",
       "      <td>2</td>\n",
       "      <td>0</td>\n",
       "      <td>0</td>\n",
       "      <td>0</td>\n",
       "      <td>0</td>\n",
       "      <td>1</td>\n",
       "      <td>0</td>\n",
       "      <td>...</td>\n",
       "      <td>0</td>\n",
       "      <td>0</td>\n",
       "      <td>1</td>\n",
       "      <td>0</td>\n",
       "      <td>0</td>\n",
       "      <td>1</td>\n",
       "      <td>1</td>\n",
       "      <td>0</td>\n",
       "      <td>1</td>\n",
       "      <td>0</td>\n",
       "    </tr>\n",
       "  </tbody>\n",
       "</table>\n",
       "<p>3 rows × 33 columns</p>\n",
       "</div>"
      ],
      "text/plain": [
       "   MonthlyCharges  TotalCharges  Cancel  UsingDuration  PaymentType_One year  \\\n",
       "0           29.85         29.85       0              0                     0   \n",
       "1           56.95       1889.50       0             33                     1   \n",
       "2           53.85        108.15       1              2                     0   \n",
       "\n",
       "   PaymentType_Two year  PaymentMethod_Credit card (automatic)  \\\n",
       "0                     0                                      0   \n",
       "1                     0                                      0   \n",
       "2                     0                                      0   \n",
       "\n",
       "   PaymentMethod_Electronic check  PaymentMethod_Mailed check  \\\n",
       "0                               1                           0   \n",
       "1                               0                           1   \n",
       "2                               0                           1   \n",
       "\n",
       "   InternetService_Fiber optic  ...  PhoneMultipleLines_Not used  \\\n",
       "0                            0  ...                            1   \n",
       "1                            0  ...                            0   \n",
       "2                            0  ...                            0   \n",
       "\n",
       "   PhoneMultipleLines_Yes  Gender_Male  Partner_Yes  Dependents_Yes  \\\n",
       "0                       0            0            1               0   \n",
       "1                       0            1            0               0   \n",
       "2                       0            1            0               0   \n",
       "\n",
       "   Internet_1  InternetExtended_1  SeniorCitizen_1  Phone_1  Family_1  \n",
       "0           1                   1                0        0         1  \n",
       "1           1                   1                0        1         0  \n",
       "2           1                   1                0        1         0  \n",
       "\n",
       "[3 rows x 33 columns]"
      ]
     },
     "metadata": {},
     "output_type": "display_data"
    }
   ],
   "source": [
    "print_header('Кодирование категориональных признаков')\n",
    "\n",
    "flat_data_ohe = pd.get_dummies(flat_data.drop(columns=['customerID']), columns=cat_features, drop_first=True)\n",
    "display(flat_data_ohe.head(3))\n"
   ]
  },
  {
   "cell_type": "markdown",
   "metadata": {},
   "source": [
    "## Подготовка данных"
   ]
  },
  {
   "cell_type": "code",
   "execution_count": 51,
   "metadata": {},
   "outputs": [
    {
     "name": "stdout",
     "output_type": "stream",
     "text": [
      "Разделение на обучаюшую \\ тестовую \\ валидационную выборки.\n",
      "\n"
     ]
    },
    {
     "data": {
      "text/markdown": [
       "**Обучающая выборка 79.99%**"
      ],
      "text/plain": [
       "<IPython.core.display.Markdown object>"
      ]
     },
     "metadata": {},
     "output_type": "display_data"
    },
    {
     "data": {
      "text/plain": [
       "0    4139\n",
       "1    1486\n",
       "Name: Cancel, dtype: int64"
      ]
     },
     "metadata": {},
     "output_type": "display_data"
    },
    {
     "data": {
      "text/markdown": [
       "**Тестовая 10.0%**"
      ],
      "text/plain": [
       "<IPython.core.display.Markdown object>"
      ]
     },
     "metadata": {},
     "output_type": "display_data"
    },
    {
     "data": {
      "text/plain": [
       "0    495\n",
       "1    208\n",
       "Name: Cancel, dtype: int64"
      ]
     },
     "metadata": {},
     "output_type": "display_data"
    },
    {
     "data": {
      "text/markdown": [
       "**Валидационная 10.01%**"
      ],
      "text/plain": [
       "<IPython.core.display.Markdown object>"
      ]
     },
     "metadata": {},
     "output_type": "display_data"
    },
    {
     "data": {
      "text/plain": [
       "0    529\n",
       "1    175\n",
       "Name: Cancel, dtype: int64"
      ]
     },
     "metadata": {},
     "output_type": "display_data"
    }
   ],
   "source": [
    "target = flat_data_ohe['Cancel']\n",
    "# features = flat_data_ohe.drop(['Cancel', 'UsingDuration', 'TotalChargesCalc'], axis=1)\n",
    "features = flat_data_ohe.drop(['Cancel'], axis=1)\n",
    "\n",
    "\n",
    "features_train, features_temp, target_train, target_temp = (\n",
    "    train_test_split(features, target, test_size=0.20, random_state=12345)\n",
    ")\n",
    "\n",
    "features_test, features_valid, target_test, target_valid = (\n",
    "    train_test_split(features_temp, target_temp, test_size=0.5, random_state=12345)\n",
    ")\n",
    "\n",
    "print('Разделение на обучаюшую \\ тестовую \\ валидационную выборки.')\n",
    "print()\n",
    "\n",
    "train_cnt = target_train.shape[0]\n",
    "test_cnt =  target_test.shape[0]\n",
    "valid_cnt = target_valid.shape[0]\n",
    "total = train_cnt + test_cnt + valid_cnt\n",
    "\n",
    "print_bold('Обучающая выборка {}%'.format(prc_(train_cnt, total)))\n",
    "display(target_train.value_counts())\n",
    "\n",
    "print_bold('Тестовая {}%'.format(prc_(test_cnt, total)))\n",
    "display(target_test.value_counts())\n",
    "\n",
    "print_bold('Валидационная {}%'.format(prc_(valid_cnt, total)))\n",
    "display(target_valid.value_counts())"
   ]
  },
  {
   "cell_type": "code",
   "execution_count": 52,
   "metadata": {},
   "outputs": [
    {
     "data": {
      "text/markdown": [
       "**Дисбаланс классов: 2.7624398073836276**"
      ],
      "text/plain": [
       "<IPython.core.display.Markdown object>"
      ]
     },
     "metadata": {},
     "output_type": "display_data"
    },
    {
     "data": {
      "text/plain": [
       "0    5163\n",
       "1    1869\n",
       "Name: Cancel, dtype: int64"
      ]
     },
     "metadata": {},
     "output_type": "display_data"
    }
   ],
   "source": [
    "scale_pos_weight_ = ((target.count() - target.sum()) / target.sum())\n",
    "\n",
    "print_bold('Дисбаланс классов: {}'.format(scale_pos_weight_))\n",
    "display(target.value_counts())"
   ]
  },
  {
   "cell_type": "markdown",
   "metadata": {},
   "source": [
    "## Выводы\n",
    "\n",
    "**Обучение \\ тест \\ валидация**\n",
    "* Обучающая выборка 89.99%\n",
    "* Тестовая 5.01%\n",
    "* Валидационная 5.01%\n",
    "\n",
    "Если брать 20% данных на тест\\валидацию результаты обучения моделей сохраняются. Если в обучающем наборе оставить меньше 25% данных - качество падает.\n",
    "\n",
    "\n",
    "**Признаки**\n",
    "* Категориональные признаки: PaymentType, PaymentMethod, InternetService, OnlineSecurity, OnlineBackup, DeviceProtection, TechSupport, StreamingTV, StreamingMovies, PhoneMultipleLines, Gender, Partner, Dependents, Internet, InternetExtended, SeniorCitizen, Phone\n",
    "* Числовые признаки: customerID, MonthlyCharges, TotalCharges, UsingDuration, TotalChargesCalc\n",
    "* Целевой признак: Cancel\n",
    "\n",
    "\n",
    "**Корреляция признаков с целевым (топ 3 с головы и с хвоста)**\n",
    "* UsingDuration               -0.338314\n",
    "* PaymentType_Two year        -0.301552\n",
    "* DeviceProtection_Not used   -0.227578\n",
    "\n",
    "* Internet_1                        0.227578\n",
    "* PaymentMethod_Electronic check    0.301455\n",
    "* InternetService_Fiber optic       0.307463\n",
    "\n",
    "Я вообще не уверен что для признаков со значениями 0\\1\\2 можно делать корреляцию с бинарным целевым признаком. Думал поискать потом подтверждения и сделат выводы, но пока не сделал.\n",
    "\n",
    "\n",
    "**Дисбаланс классов: 2.7624398073836276**\n",
    "\n",
    "* 0    5163\n",
    "* 1    1869\n",
    "\n"
   ]
  },
  {
   "cell_type": "markdown",
   "metadata": {},
   "source": [
    "## Тестирование модели LogisticRegression"
   ]
  },
  {
   "cell_type": "code",
   "execution_count": 53,
   "metadata": {},
   "outputs": [],
   "source": [
    "results = []\n",
    "# results.append({'name':'test', 'roc_auc_score': 0,'accuracy_score': 0 })\n",
    "# results"
   ]
  },
  {
   "cell_type": "code",
   "execution_count": 54,
   "metadata": {},
   "outputs": [
    {
     "data": {
      "text/plain": [
       "LogisticRegression(C=1.0, class_weight='balanced', dual=False,\n",
       "                   fit_intercept=True, intercept_scaling=1, l1_ratio=None,\n",
       "                   max_iter=100, multi_class='auto', n_jobs=None, penalty='l2',\n",
       "                   random_state=12345, solver='liblinear', tol=0.0001,\n",
       "                   verbose=0, warm_start=False)"
      ]
     },
     "execution_count": 54,
     "metadata": {},
     "output_type": "execute_result"
    }
   ],
   "source": [
    "model = LogisticRegression(solver='liblinear', class_weight='balanced', random_state=12345)\n",
    "model.fit(features_train, target_train)"
   ]
  },
  {
   "cell_type": "code",
   "execution_count": 55,
   "metadata": {
    "scrolled": true
   },
   "outputs": [
    {
     "data": {
      "text/markdown": [
       "**LogisticRegression test**"
      ],
      "text/plain": [
       "<IPython.core.display.Markdown object>"
      ]
     },
     "metadata": {},
     "output_type": "display_data"
    },
    {
     "data": {
      "text/markdown": [
       "roc_auc_score: **0.7496454933954935**"
      ],
      "text/plain": [
       "<IPython.core.display.Markdown object>"
      ]
     },
     "metadata": {},
     "output_type": "display_data"
    },
    {
     "data": {
      "text/markdown": [
       "accuracy_score: *0.7396870554765291*"
      ],
      "text/plain": [
       "<IPython.core.display.Markdown object>"
      ]
     },
     "metadata": {},
     "output_type": "display_data"
    },
    {
     "name": "stdout",
     "output_type": "stream",
     "text": [
      "recall_score: 0.7740384615384616\n",
      "precision_score: 0.5420875420875421\n",
      "\n"
     ]
    }
   ],
   "source": [
    "predictions = model.predict(features_test)\n",
    "predictions_proba = model.predict_proba(features_test)\n",
    "print_bold('LogisticRegression test')\n",
    "scores = print_metrics(target_test, predictions, predictions_proba)\n",
    "# roc_curve_draw(target_test, predictions_proba)\n",
    "print()\n",
    "\n",
    "results.append({\n",
    "    'name': 'LogisticRegression test', \n",
    "    'roc_auc_score': scores['roc_auc_score'],\n",
    "    'accuracy_score': scores['accuracy_score'],\n",
    "    'recall_score': scores['recall_score'],\n",
    "    'precision_score': scores['precision_score']\n",
    "})\n"
   ]
  },
  {
   "cell_type": "markdown",
   "metadata": {},
   "source": [
    "## Тестирование модели DecisionTreeClassifier"
   ]
  },
  {
   "cell_type": "code",
   "execution_count": 56,
   "metadata": {
    "scrolled": true
   },
   "outputs": [
    {
     "name": "stdout",
     "output_type": "stream",
     "text": [
      "Wall time: 0 ns\n"
     ]
    }
   ],
   "source": [
    "%%time\n",
    "\n",
    "# best_params_: {\n",
    "#     'random_state': 42, 'n_estimators': 300, 'min_samples_split': 5, 'min_samples_leaf': 1,\n",
    "#     'max_features': 'sqrt', 'max_depth': 10, 'class_weight': 'balanced', 'bootstrap': False}\n",
    "# grid_search: 0.8729879732957301\n",
    "# CPU times: user 26min 25s, sys: 4.25 s, total: 26min 29s\n",
    "# Wall time: 26min 56s\n",
    "\n",
    "param_search = {\n",
    "    'bootstrap': [True, False],\n",
    "    'max_depth': [10, 20, 30, 40, 50, 100, None],\n",
    "    'max_features': ['auto', 'log2', None],\n",
    "    'min_samples_leaf': [1, 2, 4],\n",
    "    'min_samples_split': [2, 5, 10],\n",
    "    'n_estimators': [50, 100, 200, 300, 500, 1000, 1500, 2000],\n",
    "    'class_weight':['balanced'],\n",
    "    'random_state': [42]\n",
    "}\n",
    "\n",
    "\n",
    "# def my_custom_loss_func(y_true, y_pred):\n",
    "#     print('roc_auc_score: ', roc_auc_score(y_true, y_pred))\n",
    "#     return roc_auc_score(y_true, y_pred)\n",
    "# custom_scorer = make_scorer(my_custom_loss_func, greater_is_better=False)\n",
    "\n",
    "\n",
    "# search_ = GridSearchCV(\n",
    "#     estimator = RandomForestClassifier(class_weight='balanced', random_state=42), \n",
    "#     scoring={'AUC': 'roc_auc', 'Accuracy': make_scorer(accuracy_score)}, \n",
    "#     refit='AUC', \n",
    "#     return_train_score=True,\n",
    "#     param_grid = param_search,  \n",
    "#     cv = 3, \n",
    "#     n_jobs = -1, \n",
    "#     verbose = 2\n",
    "# )\n",
    "\n",
    "\n",
    "\n",
    "search_ = RandomizedSearchCV(\n",
    "    estimator = RandomForestClassifier(), \n",
    "    scoring={'AUC': 'roc_auc', 'Accuracy': make_scorer(accuracy_score)}, \n",
    "    refit='AUC', \n",
    "    return_train_score=True,\n",
    "    param_distributions = param_search,  \n",
    "    cv = 3, \n",
    "    n_jobs = -1, \n",
    "    verbose = 2,\n",
    "    n_iter = 100\n",
    ")\n",
    "\n",
    "\n",
    "# search_.fit(features_train, target_train)\n",
    "# print('best_params_:', search_.best_params_)\n",
    "# print('grid_search:', search_.best_score_)\n"
   ]
  },
  {
   "cell_type": "code",
   "execution_count": 57,
   "metadata": {},
   "outputs": [
    {
     "name": "stdout",
     "output_type": "stream",
     "text": [
      "Wall time: 1.9 s\n"
     ]
    },
    {
     "data": {
      "text/plain": [
       "RandomForestClassifier(bootstrap=False, ccp_alpha=0.0, class_weight='balanced',\n",
       "                       criterion='gini', max_depth=10, max_features='auto',\n",
       "                       max_leaf_nodes=None, max_samples=None,\n",
       "                       min_impurity_decrease=0.0, min_impurity_split=None,\n",
       "                       min_samples_leaf=1, min_samples_split=5,\n",
       "                       min_weight_fraction_leaf=0.0, n_estimators=300,\n",
       "                       n_jobs=None, oob_score=False, random_state=42, verbose=0,\n",
       "                       warm_start=False)"
      ]
     },
     "execution_count": 57,
     "metadata": {},
     "output_type": "execute_result"
    }
   ],
   "source": [
    "%%time\n",
    "\n",
    "# params = {\n",
    "#     'random_state': 42, 'n_estimators': 300, 'min_samples_split': 8,\n",
    "#     'min_samples_leaf': 3, 'max_depth': 10, 'bootstrap': False, \n",
    "#     'class_weight': 'balanced'\n",
    "# }\n",
    "\n",
    "params = {\n",
    "    'random_state': 42, 'n_estimators': 300, 'min_samples_split': 5, 'min_samples_leaf': 1,\n",
    "    'max_features': 'auto', 'max_depth': 10, 'class_weight': 'balanced', 'bootstrap': False\n",
    "}\n",
    "\n",
    "model = RandomForestClassifier(**params)\n",
    "model.fit(features_train, target_train)"
   ]
  },
  {
   "cell_type": "code",
   "execution_count": 58,
   "metadata": {},
   "outputs": [
    {
     "data": {
      "text/markdown": [
       "**RandomForestClassifier test**"
      ],
      "text/plain": [
       "<IPython.core.display.Markdown object>"
      ]
     },
     "metadata": {},
     "output_type": "display_data"
    },
    {
     "data": {
      "text/markdown": [
       "roc_auc_score: **0.7991792929292928**"
      ],
      "text/plain": [
       "<IPython.core.display.Markdown object>"
      ]
     },
     "metadata": {},
     "output_type": "display_data"
    },
    {
     "data": {
      "text/markdown": [
       "accuracy_score: *0.7937411095305832*"
      ],
      "text/plain": [
       "<IPython.core.display.Markdown object>"
      ]
     },
     "metadata": {},
     "output_type": "display_data"
    },
    {
     "name": "stdout",
     "output_type": "stream",
     "text": [
      "recall_score: 0.8125\n",
      "precision_score: 0.6145454545454545\n",
      "\n"
     ]
    }
   ],
   "source": [
    "predictions = model.predict(features_test)\n",
    "predictions_proba = model.predict_proba(features_test)\n",
    "print_bold('RandomForestClassifier test')\n",
    "scores = print_metrics(target_test, predictions, predictions_proba)\n",
    "# roc_curve_draw(target_test, predictions_proba)\n",
    "print()\n",
    "\n",
    "results.append({\n",
    "    'name': 'RandomForestClassifier test', \n",
    "    'roc_auc_score': scores['roc_auc_score'],\n",
    "    'accuracy_score': scores['accuracy_score'],\n",
    "    'recall_score': scores['recall_score'],\n",
    "    'precision_score': scores['precision_score']    \n",
    "})\n"
   ]
  },
  {
   "cell_type": "markdown",
   "metadata": {},
   "source": [
    "## Тестирование модели CatBoost"
   ]
  },
  {
   "cell_type": "code",
   "execution_count": 59,
   "metadata": {},
   "outputs": [],
   "source": [
    "train_pool = Pool(features_train, label=target_train)\n",
    "test_pool = Pool(features_test, label=target_test)\n",
    "valid_pool = Pool(features_valid, label=target_valid)"
   ]
  },
  {
   "cell_type": "code",
   "execution_count": 60,
   "metadata": {
    "scrolled": false
   },
   "outputs": [
    {
     "name": "stdout",
     "output_type": "stream",
     "text": [
      "Wall time: 0 ns\n"
     ]
    }
   ],
   "source": [
    "%%time\n",
    "\n",
    "# 17:\tloss: 0.9284646\tbest: 0.9284646 (17)\ttotal: 9m 16s\tremaining: 37m 6s\n",
    "\n",
    "# {'depth': 6, 'iterations': 100, 'learning_rate': 0.1}\n",
    "# CPU times: user 51.4 s, sys: 6.4 s, total: 57.8 s\n",
    "# Wall time: 1min 6s\n",
    "    \n",
    "# grid = {\n",
    "#     'learning_rate': [0.03, 0.01, 0.1],\n",
    "#     # 'l2_leaf_reg': [1, 3, 5, 7, 9],\n",
    "#     'max_depth': [2, 4, 6, 10],\n",
    "#     # 'iterations': [100, 500, 1000, 2000, 2500, 3000]\n",
    "#     'iterations': [100]\n",
    "# }\n",
    "\n",
    "\n",
    "# {'depth': 6, 'iterations': 1000, 'learning_rate': 0.1}\n",
    "# CPU times: user 5min 31s, sys: 35.2 s, total: 6min 6s\n",
    "# Wall time: 7min 37s\n",
    "\n",
    "# grid = {\n",
    "#     'learning_rate': [0.1],\n",
    "#     'max_depth': [6],\n",
    "#     'iterations': [100, 500, 1000, 2000, 2500, 3000]\n",
    "# }\n",
    "\n",
    "\n",
    "# {'depth': 4, 'iterations': 1000, 'learning_rate': 0.1}\n",
    "# CPU times: user 5min 52s, sys: 36.7 s, total: 6min 29s\n",
    "# Wall time: 8min 3s\n",
    "\n",
    "grid = {\n",
    "    'learning_rate': [0.1, 0.01],\n",
    "    'max_depth': [4, 6],\n",
    "    'iterations': [1000, 2000]\n",
    "}\n",
    "\n",
    "gs_model = CatBoostClassifier(\n",
    "    # custom_loss=['Logloss', 'AUC'],\n",
    "    loss_function= 'Logloss', \n",
    "    eval_metric='AUC',\n",
    "    scale_pos_weight = scale_pos_weight_,\n",
    "    random_seed=42\n",
    ")\n",
    "\n",
    "\n",
    "# grid_search_results = gs_model.grid_search(\n",
    "#     grid, \n",
    "#     train_pool, \n",
    "#     shuffle=False, \n",
    "#     verbose=1, \n",
    "#     plot=False\n",
    "# )\n",
    "# print(grid_search_results['params'])\n",
    "\n"
   ]
  },
  {
   "cell_type": "code",
   "execution_count": 61,
   "metadata": {
    "scrolled": true
   },
   "outputs": [
    {
     "name": "stdout",
     "output_type": "stream",
     "text": [
      "0:\ttest: 0.7831925\tbest: 0.7831925 (0)\ttotal: 62ms\tremaining: 1m 1s\n",
      "100:\ttest: 0.8878788\tbest: 0.8885198 (97)\ttotal: 765ms\tremaining: 6.81s\n",
      "200:\ttest: 0.9018260\tbest: 0.9018260 (200)\ttotal: 1.47s\tremaining: 5.85s\n",
      "300:\ttest: 0.9042444\tbest: 0.9050602 (270)\ttotal: 2.11s\tremaining: 4.9s\n",
      "400:\ttest: 0.9054973\tbest: 0.9068085 (363)\ttotal: 2.81s\tremaining: 4.2s\n",
      "500:\ttest: 0.9070804\tbest: 0.9075369 (492)\ttotal: 3.42s\tremaining: 3.41s\n",
      "600:\ttest: 0.9085567\tbest: 0.9087510 (589)\ttotal: 4s\tremaining: 2.65s\n",
      "700:\ttest: 0.9080614\tbest: 0.9091298 (606)\ttotal: 4.6s\tremaining: 1.96s\n",
      "800:\ttest: 0.9068667\tbest: 0.9091298 (606)\ttotal: 5.14s\tremaining: 1.28s\n",
      "900:\ttest: 0.9078380\tbest: 0.9091298 (606)\ttotal: 5.68s\tremaining: 624ms\n",
      "999:\ttest: 0.9074106\tbest: 0.9091298 (606)\ttotal: 6.16s\tremaining: 0us\n",
      "\n",
      "bestTest = 0.9091297591\n",
      "bestIteration = 606\n",
      "\n",
      "Shrink model to first 607 iterations.\n",
      "607\n",
      "Wall time: 6.46 s\n"
     ]
    }
   ],
   "source": [
    "%%time\n",
    "\n",
    "# roc_auc_score: 0.8372183372183373\n",
    "# params = {'depth': 4, 'iterations': 2000, 'learning_rate': 0.01}\n",
    "\n",
    "# roc_auc_score: 0.8477661227661226\n",
    "# params = {'depth': 6, 'iterations': 1000, 'learning_rate': 0.1}\n",
    "\n",
    "# roc_auc_score: 0.86497668997669\n",
    "params = {'depth': 4, 'iterations': 1000, 'learning_rate': 0.1}\n",
    "\n",
    "\n",
    "model = CatBoostClassifier(\n",
    "    # Metric values to output during training. \n",
    "    # These functions are not optimized and are displayed for informational purposes only\n",
    "    # custom_metric=['AUC:hints=skip_train~false', 'Logloss'],\n",
    "    \n",
    "    # The metric to use in training. The specified value also determines the machine learning problem to solve. \n",
    "    loss_function= 'Logloss', \n",
    "    \n",
    "    # The metric used for overfitting detection (if enabled) and best model selection (if enabled).\n",
    "    eval_metric='AUC',\n",
    "    \n",
    "    use_best_model=True,\n",
    "    scale_pos_weight = scale_pos_weight_,\n",
    "    random_seed=42,\n",
    "    verbose=100,\n",
    "    train_dir='baseline',\n",
    "    **params\n",
    ")\n",
    "\n",
    "model.fit(\n",
    "    train_pool, \n",
    "    eval_set=test_pool\n",
    ")\n",
    "\n",
    "print(model.tree_count_)\n"
   ]
  },
  {
   "cell_type": "code",
   "execution_count": 62,
   "metadata": {
    "scrolled": false
   },
   "outputs": [
    {
     "data": {
      "text/markdown": [
       "**CatBoostClassifier test**"
      ],
      "text/plain": [
       "<IPython.core.display.Markdown object>"
      ]
     },
     "metadata": {},
     "output_type": "display_data"
    },
    {
     "data": {
      "text/markdown": [
       "roc_auc_score: **0.824674630924631**"
      ],
      "text/plain": [
       "<IPython.core.display.Markdown object>"
      ]
     },
     "metadata": {},
     "output_type": "display_data"
    },
    {
     "data": {
      "text/markdown": [
       "accuracy_score: *0.833570412517781*"
      ],
      "text/plain": [
       "<IPython.core.display.Markdown object>"
      ]
     },
     "metadata": {},
     "output_type": "display_data"
    },
    {
     "name": "stdout",
     "output_type": "stream",
     "text": [
      "recall_score: 0.8028846153846154\n",
      "precision_score: 0.6872427983539094\n",
      "\n"
     ]
    }
   ],
   "source": [
    "print_bold('CatBoostClassifier test')\n",
    "predictions = model.predict(features_test)\n",
    "predictions_proba = model.predict_proba(features_test)\n",
    "scores = print_metrics(target_test, predictions, predictions_proba)\n",
    "print()\n",
    "\n",
    "results.append({\n",
    "    'name': 'CatBoostClassifier test', \n",
    "    'roc_auc_score': scores['roc_auc_score'],\n",
    "    'accuracy_score': scores['accuracy_score'],\n",
    "    'recall_score': scores['recall_score'],\n",
    "    'precision_score': scores['precision_score']    \n",
    "})\n",
    "\n",
    "best_model = model"
   ]
  },
  {
   "cell_type": "code",
   "execution_count": 63,
   "metadata": {
    "scrolled": true
   },
   "outputs": [
    {
     "name": "stdout",
     "output_type": "stream",
     "text": [
      "* name: LogisticRegression test\n",
      "* roc_auc_score: 0.7496454933954935\n",
      "* accuracy_score: 0.7396870554765291\n",
      "* recall_score: 0.7740384615384616\n",
      "* precision_score: 0.5420875420875421\n",
      "\n",
      "* name: RandomForestClassifier test\n",
      "* roc_auc_score: 0.7991792929292928\n",
      "* accuracy_score: 0.7937411095305832\n",
      "* recall_score: 0.8125\n",
      "* precision_score: 0.6145454545454545\n",
      "\n",
      "* name: CatBoostClassifier test\n",
      "* roc_auc_score: 0.824674630924631\n",
      "* accuracy_score: 0.833570412517781\n",
      "* recall_score: 0.8028846153846154\n",
      "* precision_score: 0.6872427983539094\n",
      "\n"
     ]
    }
   ],
   "source": [
    "for result in results:\n",
    "    for k,v in result.items():\n",
    "        print('* {}: {}'.format(k,v))\n",
    "    print()\n",
    "        "
   ]
  },
  {
   "cell_type": "code",
   "execution_count": 64,
   "metadata": {
    "scrolled": true
   },
   "outputs": [
    {
     "data": {
      "text/html": [
       "<div>\n",
       "<style scoped>\n",
       "    .dataframe tbody tr th:only-of-type {\n",
       "        vertical-align: middle;\n",
       "    }\n",
       "\n",
       "    .dataframe tbody tr th {\n",
       "        vertical-align: top;\n",
       "    }\n",
       "\n",
       "    .dataframe thead th {\n",
       "        text-align: right;\n",
       "    }\n",
       "</style>\n",
       "<table border=\"1\" class=\"dataframe\">\n",
       "  <thead>\n",
       "    <tr style=\"text-align: right;\">\n",
       "      <th></th>\n",
       "      <th>name</th>\n",
       "      <th>roc_auc_score</th>\n",
       "      <th>accuracy_score</th>\n",
       "      <th>recall_score</th>\n",
       "      <th>precision_score</th>\n",
       "    </tr>\n",
       "  </thead>\n",
       "  <tbody>\n",
       "    <tr>\n",
       "      <th>0</th>\n",
       "      <td>LogisticRegression test</td>\n",
       "      <td>0.749645</td>\n",
       "      <td>0.739687</td>\n",
       "      <td>0.774038</td>\n",
       "      <td>0.542088</td>\n",
       "    </tr>\n",
       "    <tr>\n",
       "      <th>1</th>\n",
       "      <td>RandomForestClassifier test</td>\n",
       "      <td>0.799179</td>\n",
       "      <td>0.793741</td>\n",
       "      <td>0.812500</td>\n",
       "      <td>0.614545</td>\n",
       "    </tr>\n",
       "    <tr>\n",
       "      <th>2</th>\n",
       "      <td>CatBoostClassifier test</td>\n",
       "      <td>0.824675</td>\n",
       "      <td>0.833570</td>\n",
       "      <td>0.802885</td>\n",
       "      <td>0.687243</td>\n",
       "    </tr>\n",
       "  </tbody>\n",
       "</table>\n",
       "</div>"
      ],
      "text/plain": [
       "                          name  roc_auc_score  accuracy_score  recall_score  \\\n",
       "0      LogisticRegression test       0.749645        0.739687      0.774038   \n",
       "1  RandomForestClassifier test       0.799179        0.793741      0.812500   \n",
       "2      CatBoostClassifier test       0.824675        0.833570      0.802885   \n",
       "\n",
       "   precision_score  \n",
       "0         0.542088  \n",
       "1         0.614545  \n",
       "2         0.687243  "
      ]
     },
     "execution_count": 64,
     "metadata": {},
     "output_type": "execute_result"
    }
   ],
   "source": [
    "pd.DataFrame(data=results, columns=results[0].keys()).sort_values(by='roc_auc_score', ascending=True)\n"
   ]
  },
  {
   "cell_type": "markdown",
   "metadata": {},
   "source": [
    "## Выводы\n",
    "\n",
    "### LogisticRegression test\n",
    "* roc_auc_score: 0.7472416472416473\n",
    "* accuracy_score: 0.7382645803698435\n",
    "\n",
    "Дополнительно\n",
    "* Борьба с дисбалансом: параметр class_weight='balanced'\n",
    "\n",
    "\n",
    "### RandomForestClassifier test\n",
    "* roc_auc_score: 0.7879273504273505\n",
    "* accuracy_score: 0.7837837837837838\n",
    "\n",
    "Дополнительно\n",
    "* Борьба с дисбалансом: параметр class_weight='balanced'\n",
    "* Подбор гиперпараметров:  RandomizedSearchCV\n",
    "* Обучающая метрика: scoring={'AUC': 'roc_auc', 'Accuracy': make_scorer(accuracy_score)}\n",
    "* Выбор лучшей модели: refit='AUC'\n",
    "\n",
    "### CatBoostClassifier test\n",
    "* roc_auc_score: 0.8336247086247085\n",
    "* accuracy_score: 0.8520625889046942\n",
    "\n",
    "Дополнительно\n",
    "* Борьба с дисбалансом: параметр scale_pos_weight\n",
    "* Подбор гиперпараметров: grid_search\n",
    "* Обучающая метрика: loss_function= 'Logloss'\n",
    "* Выбор лучшей модели: eval_metric='AUC'\n",
    "\n",
    "Для CatBoost попробовал скормить сырые данные без преобразование категориональных признаков, с указанием параметра cat_futures в Pool. Результаты моделей оказались примерно сопоставимы.\n",
    "\n",
    "#### Итого\n",
    "CatBoostClassifier показывает лучшие результаты на тестовом наборе данных."
   ]
  },
  {
   "cell_type": "markdown",
   "metadata": {},
   "source": [
    "# Тестирование лучшей модели на валидационной выборке"
   ]
  },
  {
   "cell_type": "code",
   "execution_count": 65,
   "metadata": {},
   "outputs": [
    {
     "data": {
      "text/markdown": [
       "**CatBoostClassifier valid**"
      ],
      "text/plain": [
       "<IPython.core.display.Markdown object>"
      ]
     },
     "metadata": {},
     "output_type": "display_data"
    },
    {
     "data": {
      "text/markdown": [
       "roc_auc_score: **0.8234188495814205**"
      ],
      "text/plain": [
       "<IPython.core.display.Markdown object>"
      ]
     },
     "metadata": {},
     "output_type": "display_data"
    },
    {
     "data": {
      "text/markdown": [
       "accuracy_score: *0.8380681818181818*"
      ],
      "text/plain": [
       "<IPython.core.display.Markdown object>"
      ]
     },
     "metadata": {},
     "output_type": "display_data"
    },
    {
     "name": "stdout",
     "output_type": "stream",
     "text": [
      "recall_score: 0.7942857142857143\n",
      "precision_score: 0.6405529953917051\n",
      "\n"
     ]
    }
   ],
   "source": [
    "print_bold('CatBoostClassifier valid')\n",
    "predictions = best_model.predict(features_valid)\n",
    "predictions_proba = best_model.predict_proba(features_valid)\n",
    "print_metrics(target_valid, predictions, predictions_proba)\n",
    "print()\n"
   ]
  },
  {
   "cell_type": "code",
   "execution_count": 66,
   "metadata": {},
   "outputs": [
    {
     "data": {
      "text/html": [
       "<div>\n",
       "<style scoped>\n",
       "    .dataframe tbody tr th:only-of-type {\n",
       "        vertical-align: middle;\n",
       "    }\n",
       "\n",
       "    .dataframe tbody tr th {\n",
       "        vertical-align: top;\n",
       "    }\n",
       "\n",
       "    .dataframe thead th {\n",
       "        text-align: right;\n",
       "    }\n",
       "</style>\n",
       "<table border=\"1\" class=\"dataframe\">\n",
       "  <thead>\n",
       "    <tr style=\"text-align: right;\">\n",
       "      <th></th>\n",
       "      <th>Feature Id</th>\n",
       "      <th>Importances</th>\n",
       "    </tr>\n",
       "  </thead>\n",
       "  <tbody>\n",
       "    <tr>\n",
       "      <th>0</th>\n",
       "      <td>UsingDuration</td>\n",
       "      <td>29.692393</td>\n",
       "    </tr>\n",
       "    <tr>\n",
       "      <th>1</th>\n",
       "      <td>TotalCharges</td>\n",
       "      <td>26.324422</td>\n",
       "    </tr>\n",
       "    <tr>\n",
       "      <th>2</th>\n",
       "      <td>MonthlyCharges</td>\n",
       "      <td>16.829238</td>\n",
       "    </tr>\n",
       "    <tr>\n",
       "      <th>3</th>\n",
       "      <td>PaymentType_Two year</td>\n",
       "      <td>5.704990</td>\n",
       "    </tr>\n",
       "    <tr>\n",
       "      <th>4</th>\n",
       "      <td>InternetService_Fiber optic</td>\n",
       "      <td>3.860767</td>\n",
       "    </tr>\n",
       "    <tr>\n",
       "      <th>5</th>\n",
       "      <td>PaymentType_One year</td>\n",
       "      <td>2.522121</td>\n",
       "    </tr>\n",
       "    <tr>\n",
       "      <th>6</th>\n",
       "      <td>PaymentMethod_Electronic check</td>\n",
       "      <td>1.326426</td>\n",
       "    </tr>\n",
       "    <tr>\n",
       "      <th>7</th>\n",
       "      <td>OnlineSecurity_Yes</td>\n",
       "      <td>1.148007</td>\n",
       "    </tr>\n",
       "    <tr>\n",
       "      <th>8</th>\n",
       "      <td>StreamingMovies_Yes</td>\n",
       "      <td>1.001846</td>\n",
       "    </tr>\n",
       "    <tr>\n",
       "      <th>9</th>\n",
       "      <td>TechSupport_Yes</td>\n",
       "      <td>0.852707</td>\n",
       "    </tr>\n",
       "    <tr>\n",
       "      <th>10</th>\n",
       "      <td>Gender_Male</td>\n",
       "      <td>0.850365</td>\n",
       "    </tr>\n",
       "    <tr>\n",
       "      <th>11</th>\n",
       "      <td>PaymentMethod_Credit card (automatic)</td>\n",
       "      <td>0.832787</td>\n",
       "    </tr>\n",
       "    <tr>\n",
       "      <th>12</th>\n",
       "      <td>StreamingTV_Yes</td>\n",
       "      <td>0.832053</td>\n",
       "    </tr>\n",
       "    <tr>\n",
       "      <th>13</th>\n",
       "      <td>Internet_1</td>\n",
       "      <td>0.823386</td>\n",
       "    </tr>\n",
       "    <tr>\n",
       "      <th>14</th>\n",
       "      <td>OnlineBackup_Yes</td>\n",
       "      <td>0.805857</td>\n",
       "    </tr>\n",
       "    <tr>\n",
       "      <th>15</th>\n",
       "      <td>PhoneMultipleLines_Yes</td>\n",
       "      <td>0.782999</td>\n",
       "    </tr>\n",
       "    <tr>\n",
       "      <th>16</th>\n",
       "      <td>SeniorCitizen_1</td>\n",
       "      <td>0.773206</td>\n",
       "    </tr>\n",
       "    <tr>\n",
       "      <th>17</th>\n",
       "      <td>Dependents_Yes</td>\n",
       "      <td>0.673446</td>\n",
       "    </tr>\n",
       "    <tr>\n",
       "      <th>18</th>\n",
       "      <td>StreamingMovies_Not used</td>\n",
       "      <td>0.649795</td>\n",
       "    </tr>\n",
       "    <tr>\n",
       "      <th>19</th>\n",
       "      <td>PaymentMethod_Mailed check</td>\n",
       "      <td>0.641156</td>\n",
       "    </tr>\n",
       "    <tr>\n",
       "      <th>20</th>\n",
       "      <td>Partner_Yes</td>\n",
       "      <td>0.422643</td>\n",
       "    </tr>\n",
       "    <tr>\n",
       "      <th>21</th>\n",
       "      <td>InternetExtended_1</td>\n",
       "      <td>0.400538</td>\n",
       "    </tr>\n",
       "    <tr>\n",
       "      <th>22</th>\n",
       "      <td>Family_1</td>\n",
       "      <td>0.360986</td>\n",
       "    </tr>\n",
       "    <tr>\n",
       "      <th>23</th>\n",
       "      <td>TechSupport_Not used</td>\n",
       "      <td>0.317251</td>\n",
       "    </tr>\n",
       "    <tr>\n",
       "      <th>24</th>\n",
       "      <td>Phone_1</td>\n",
       "      <td>0.301572</td>\n",
       "    </tr>\n",
       "    <tr>\n",
       "      <th>25</th>\n",
       "      <td>DeviceProtection_Yes</td>\n",
       "      <td>0.246855</td>\n",
       "    </tr>\n",
       "    <tr>\n",
       "      <th>26</th>\n",
       "      <td>StreamingTV_Not used</td>\n",
       "      <td>0.234835</td>\n",
       "    </tr>\n",
       "    <tr>\n",
       "      <th>27</th>\n",
       "      <td>DeviceProtection_Not used</td>\n",
       "      <td>0.227934</td>\n",
       "    </tr>\n",
       "    <tr>\n",
       "      <th>28</th>\n",
       "      <td>OnlineSecurity_Not used</td>\n",
       "      <td>0.182638</td>\n",
       "    </tr>\n",
       "    <tr>\n",
       "      <th>29</th>\n",
       "      <td>OnlineBackup_Not used</td>\n",
       "      <td>0.172215</td>\n",
       "    </tr>\n",
       "    <tr>\n",
       "      <th>30</th>\n",
       "      <td>PhoneMultipleLines_Not used</td>\n",
       "      <td>0.146760</td>\n",
       "    </tr>\n",
       "    <tr>\n",
       "      <th>31</th>\n",
       "      <td>InternetService_Not used</td>\n",
       "      <td>0.057808</td>\n",
       "    </tr>\n",
       "  </tbody>\n",
       "</table>\n",
       "</div>"
      ],
      "text/plain": [
       "                               Feature Id  Importances\n",
       "0                           UsingDuration    29.692393\n",
       "1                            TotalCharges    26.324422\n",
       "2                          MonthlyCharges    16.829238\n",
       "3                    PaymentType_Two year     5.704990\n",
       "4             InternetService_Fiber optic     3.860767\n",
       "5                    PaymentType_One year     2.522121\n",
       "6          PaymentMethod_Electronic check     1.326426\n",
       "7                      OnlineSecurity_Yes     1.148007\n",
       "8                     StreamingMovies_Yes     1.001846\n",
       "9                         TechSupport_Yes     0.852707\n",
       "10                            Gender_Male     0.850365\n",
       "11  PaymentMethod_Credit card (automatic)     0.832787\n",
       "12                        StreamingTV_Yes     0.832053\n",
       "13                             Internet_1     0.823386\n",
       "14                       OnlineBackup_Yes     0.805857\n",
       "15                 PhoneMultipleLines_Yes     0.782999\n",
       "16                        SeniorCitizen_1     0.773206\n",
       "17                         Dependents_Yes     0.673446\n",
       "18               StreamingMovies_Not used     0.649795\n",
       "19             PaymentMethod_Mailed check     0.641156\n",
       "20                            Partner_Yes     0.422643\n",
       "21                     InternetExtended_1     0.400538\n",
       "22                               Family_1     0.360986\n",
       "23                   TechSupport_Not used     0.317251\n",
       "24                                Phone_1     0.301572\n",
       "25                   DeviceProtection_Yes     0.246855\n",
       "26                   StreamingTV_Not used     0.234835\n",
       "27              DeviceProtection_Not used     0.227934\n",
       "28                OnlineSecurity_Not used     0.182638\n",
       "29                  OnlineBackup_Not used     0.172215\n",
       "30            PhoneMultipleLines_Not used     0.146760\n",
       "31               InternetService_Not used     0.057808"
      ]
     },
     "execution_count": 66,
     "metadata": {},
     "output_type": "execute_result"
    }
   ],
   "source": [
    "best_model.get_feature_importance(prettified=True)"
   ]
  },
  {
   "cell_type": "code",
   "execution_count": 67,
   "metadata": {},
   "outputs": [
    {
     "data": {
      "text/plain": [
       "<matplotlib.axes._subplots.AxesSubplot at 0x27d7069d288>"
      ]
     },
     "execution_count": 67,
     "metadata": {},
     "output_type": "execute_result"
    },
    {
     "data": {
      "image/png": "[encoded data removed]",
      "text/plain": [
       "<Figure size 864x864 with 1 Axes>"
      ]
     },
     "metadata": {
      "needs_background": "light"
     },
     "output_type": "display_data"
    }
   ],
   "source": [
    "(\n",
    "    best_model.get_feature_importance(prettified=True).sort_values(by='Importances', ascending=True)\n",
    "    .plot(kind='barh', x='Feature Id', y='Importances', grid=True, figsize=(12, 12))\n",
    ")"
   ]
  },
  {
   "cell_type": "markdown",
   "metadata": {},
   "source": [
    "## Выводы\n",
    "\n",
    "**Важность факторов**\n",
    "\n",
    "`0\tUsingDuration\t36.661596\n",
    "1\tTotalCharges\t23.546103\n",
    "2\tMonthlyCharges\t15.792774\n",
    "3\tPaymentType_Two year\t5.142844\n",
    "4\tInternetService_Fiber optic\t2.952988\n",
    "5\tPaymentType_One year\t2.102582`\n",
    "\n",
    "\n",
    "**Какие пункты плана были выполнены, а какие — нет (поясните почему)?**\n",
    "* Как и ожидалось UsingDuration, TotalCharges, MonthlyCharges - оказались значимыми признаками\n",
    "* Я ожидал большего влияния сопутвующих услуг интернета.\n",
    "* После консультации думал что сроляют семейное положение, наличие детей, статус пенсионера\n",
    "\n",
    "**Какие трудности возникли и как вы их преодолели?**\n",
    "* Нужно было быть внимательным при создании признака UsingDuration. Это вопрос формирования запросов;\n",
    "* Была ошибка в функции подсчета метрик. Переменная протекала из глобальной области видимости. Иногда не быстро получается найти что не так;\n",
    "* С графиками повозился как всегда. В частности тики;\n",
    "* С Catboost повозился с пониманием как передать параметр несбалансированной выборки;\n",
    "* Подбор гиперпараметров занимает много времени. И фактически у меня нет понимания как найти с чего начать перебор и как сужать кол-во проверяемых вариантов.\n",
    "\n",
    "Все проблемы решались чтением документации, стековерфлоу и внимательным просмотром кода.\n",
    "\n",
    "**Какие ключевые шаги в решении задачи выделили?**\n",
    "\n",
    "В целом я не удовлетворен полученным результатом. Как я понимаю нужно было еще попробовать нейронные сети. Мне очень интересно как можно добиться большего c CatBoost.\n",
    "\n",
    "У меня получилась общая схема, но именно она привела к результату.\n",
    "\n",
    "1. Понимание данных (этот пункт можно два раза написать);\n",
    "2. Убедится что данные чистые;\n",
    "3. Посмотреть внутрь данных (сводные таблицы, графики);\n",
    "4. Организовать код так чтобы эксперименты можно было перезапускать много раз;\n",
    "5. Все повторяющиеся операции выделить в функции;\n",
    "6. Для каждого этапа выделять свои переменные: сырые данные, предобработка, плоская таблица признаков, кодированная таблица признаков, разбиение обучение\\тест\\валидация. Для CatBoost выделение Pool. В этом случае всегда можно посмотреть на данные предыдущего этапа и провести дополнительное исследование;\n",
    "7. Начинать с простых моделей;\n",
    "8. Подбор гиперпараметров;\n",
    "9. Заглядывать внутрь получаемых моделей. В этом я не мастер;\n",
    "10. Последнее но важное, комментарии по ходу работы и выводы по каждому большому этапу. Мне это помогает самому прояснять требования к задаче.\n",
    "\n",
    "\n",
    "Отдельно выделю\n",
    "* Понимание что выборка несбалансирована, не терять это знание на этапе обучения моделей\n",
    "* Внимание к тому по каким параметрам учится модель. LogLoss, AUG\n",
    "\n",
    "**Какая ваша итоговая модель и какое у неё качество?**\n",
    "\n",
    "CatBoostClassifier на валидационной выборке в 10% данных\n",
    "\n",
    "* roc_auc_score: 0.8234188495814205\n",
    "* accuracy_score: 0.8380681818181818\n",
    "* recall_score: 0.7942857142857143\n",
    "* precision_score: 0.64055299539170517\n",
    "\n",
    "\n"
   ]
  }
 ],
 "metadata": {
  "kernelspec": {
   "display_name": "Python 3",
   "language": "python",
   "name": "python3"
  },
  "language_info": {
   "codemirror_mode": {
    "name": "ipython",
    "version": 3
   },
   "file_extension": ".py",
   "mimetype": "text/x-python",
   "name": "python",
   "nbconvert_exporter": "python",
   "pygments_lexer": "ipython3",
   "version": "3.7.6"
  }
 },
 "nbformat": 4,
 "nbformat_minor": 4
}
